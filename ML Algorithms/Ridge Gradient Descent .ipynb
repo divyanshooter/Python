{
 "cells": [
  {
   "cell_type": "code",
   "execution_count": 1,
   "id": "8e5d93d9-60dc-44f1-a2d9-0244e3f5f9bb",
   "metadata": {},
   "outputs": [],
   "source": [
    "from sklearn.datasets import load_diabetes\n",
    "from sklearn.metrics import r2_score\n",
    "import numpy as np"
   ]
  },
  {
   "cell_type": "code",
   "execution_count": 2,
   "id": "b32a5ba9-b412-4846-8db9-28080e7edb6c",
   "metadata": {},
   "outputs": [],
   "source": [
    "X,y=load_diabetes(return_X_y=True)"
   ]
  },
  {
   "cell_type": "code",
   "execution_count": 3,
   "id": "efb9c210-e3bc-4508-bdfa-04e81d182a28",
   "metadata": {},
   "outputs": [],
   "source": [
    "from sklearn.model_selection import train_test_split"
   ]
  },
  {
   "cell_type": "code",
   "execution_count": 4,
   "id": "21e73c6f-dbca-4ad8-822d-0d4890a1a9d1",
   "metadata": {},
   "outputs": [],
   "source": [
    "X_train,X_test,y_train,y_test =train_test_split(X,y,test_size=0.2,random_state=4)"
   ]
  },
  {
   "cell_type": "code",
   "execution_count": 5,
   "id": "863ae3a8-29c9-485c-ba0a-57ef7f7c83d2",
   "metadata": {},
   "outputs": [],
   "source": [
    "from sklearn.linear_model import SGDRegressor"
   ]
  },
  {
   "cell_type": "code",
   "execution_count": 6,
   "id": "c40bd1e4-3320-4387-bc6c-e1e7375712f5",
   "metadata": {},
   "outputs": [],
   "source": [
    "reg=SGDRegressor(penalty='l2',max_iter=500,eta0=0.1,learning_rate='constant',alpha=0.001)"
   ]
  },
  {
   "cell_type": "code",
   "execution_count": 7,
   "id": "dca4a60c-3021-4819-88c5-c1313cd6602f",
   "metadata": {},
   "outputs": [
    {
     "name": "stdout",
     "output_type": "stream",
     "text": [
      "0.4484632853793842\n",
      "[  50.37634529 -139.70771303  352.60384085  256.15296603    3.25190512\n",
      "  -47.33304792 -165.97025188  136.08769675  313.54922382  107.25741845]\n",
      "[162.23390645]\n"
     ]
    }
   ],
   "source": [
    "reg.fit(X_train,y_train)\n",
    "y_pred=reg.predict(X_test)\n",
    "print(r2_score(y_test,y_pred))\n",
    "print(reg.coef_)\n",
    "print(reg.intercept_)"
   ]
  },
  {
   "cell_type": "code",
   "execution_count": 8,
   "id": "b58bb789-ae0b-450a-b117-9c50769a78ed",
   "metadata": {},
   "outputs": [],
   "source": [
    "from sklearn.linear_model import Ridge\n",
    "reg=Ridge(alpha=0.001,max_iter=500,solver='sparse_cg')"
   ]
  },
  {
   "cell_type": "code",
   "execution_count": 9,
   "id": "b53405a1-baf5-4b69-8c77-e2102fecfd03",
   "metadata": {},
   "outputs": [
    {
     "name": "stdout",
     "output_type": "stream",
     "text": [
      "0.46250101621323003\n",
      "[  34.52193479 -290.84083258  482.40182665  368.06787861 -852.44871742\n",
      "  501.59161765  180.11114536  270.76335831  759.73536087   37.49136802]\n",
      "151.10198520694257\n"
     ]
    }
   ],
   "source": [
    "reg.fit(X_train,y_train)\n",
    "y_pred=reg.predict(X_test)\n",
    "print(r2_score(y_test,y_pred))\n",
    "print(reg.coef_)\n",
    "print(reg.intercept_)"
   ]
  },
  {
   "cell_type": "code",
   "execution_count": 18,
   "id": "e3d46c08-61bc-46c2-9a12-53940f2e591c",
   "metadata": {},
   "outputs": [],
   "source": [
    "class RidgeImp:\n",
    "    \n",
    "    def __init__(self,epochs,learning_rate,alpha):\n",
    "        self.epochs=epochs\n",
    "        self.learning_rate=learning_rate\n",
    "        self.alpha=alpha\n",
    "        self.coef_=None\n",
    "        self.intercept_=None\n",
    "        \n",
    "    def fit(self,X_train,y_train):\n",
    "        self.intercept_=0\n",
    "        self.coef_=np.ones(X_train.shape[1])\n",
    "        thetha= np.insert(self.coef_,0,self.intercept_)\n",
    "\n",
    "        X_train= np.insert(X_train,0,1,axis=1)\n",
    "        \n",
    "        for i in range(self.epochs):\n",
    "            thetha_der=np.dot(X_train.T,X_train).dot(thetha) - np.dot(X_train.T,y_train) + self.alpha*thetha\n",
    "            thetha= thetha - self.learning_rate*thetha_der\n",
    "        \n",
    "        self.coef_=thetha[1:]\n",
    "        self.intercept_=thetha[0]\n",
    "\n",
    "    def predict(self,X_test):\n",
    "        return np.dot(X_test,self.coef_) + self.intercept_        \n",
    "        "
   ]
  },
  {
   "cell_type": "code",
   "execution_count": 21,
   "id": "593af0c3-c19e-423e-ab13-913ea35393ff",
   "metadata": {},
   "outputs": [],
   "source": [
    "reg=RidgeImp(epochs=500,alpha=0.001,learning_rate=0.005)"
   ]
  },
  {
   "cell_type": "code",
   "execution_count": 22,
   "id": "a8c5ccec-622e-478f-a168-b26e72679513",
   "metadata": {},
   "outputs": [
    {
     "name": "stdout",
     "output_type": "stream",
     "text": [
      "0.47380182802609105\n",
      "[  46.65050914 -221.3750037   452.12080647  325.54248128  -29.09464178\n",
      "  -96.47517735 -190.90017011  146.32900372  400.80267299   95.09048094]\n",
      "150.86975316713463\n"
     ]
    }
   ],
   "source": [
    "reg.fit(X_train,y_train)\n",
    "y_pred=reg.predict(X_test)\n",
    "print(r2_score(y_test,y_pred))\n",
    "print(reg.coef_)\n",
    "print(reg.intercept_)"
   ]
  },
  {
   "cell_type": "code",
   "execution_count": null,
   "id": "cd3bd6f2-198b-4d3b-a9ef-c913e6099194",
   "metadata": {},
   "outputs": [],
   "source": []
  }
 ],
 "metadata": {
  "kernelspec": {
   "display_name": "Python 3 (ipykernel)",
   "language": "python",
   "name": "python3"
  },
  "language_info": {
   "codemirror_mode": {
    "name": "ipython",
    "version": 3
   },
   "file_extension": ".py",
   "mimetype": "text/x-python",
   "name": "python",
   "nbconvert_exporter": "python",
   "pygments_lexer": "ipython3",
   "version": "3.9.20"
  }
 },
 "nbformat": 4,
 "nbformat_minor": 5
}

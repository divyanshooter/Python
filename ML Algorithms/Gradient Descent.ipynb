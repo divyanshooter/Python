{
 "cells": [
  {
   "cell_type": "code",
   "execution_count": 1,
   "id": "47d1d1e6",
   "metadata": {},
   "outputs": [],
   "source": [
    "import numpy as np\n",
    "import pandas as pd\n",
    "from sklearn.datasets import make_regression\n",
    "from sklearn.model_selection import cross_val_score,train_test_split\n",
    "from sklearn.metrics import r2_score\n",
    "import matplotlib.pyplot as plt\n"
   ]
  },
  {
   "cell_type": "code",
   "execution_count": 2,
   "id": "558c397a",
   "metadata": {},
   "outputs": [],
   "source": [
    "X,y=make_regression(n_samples=100,n_features=1,n_informative=1,n_targets=1,noise=20,random_state=13)\n",
    "X_train,X_test,y_train,y_test=train_test_split(X,y,test_size=0.2,random_state=2)\n"
   ]
  },
  {
   "cell_type": "code",
   "execution_count": 3,
   "id": "a143df7c",
   "metadata": {},
   "outputs": [
    {
     "data": {
      "text/plain": [
       "<matplotlib.collections.PathCollection at 0x7f8dbbaa1fa0>"
      ]
     },
     "execution_count": 3,
     "metadata": {},
     "output_type": "execute_result"
    },
    {
     "data": {
      "image/png": "[encoded data removed]",
      "text/plain": [
       "<Figure size 432x288 with 1 Axes>"
      ]
     },
     "metadata": {
      "needs_background": "light"
     },
     "output_type": "display_data"
    }
   ],
   "source": [
    "plt.scatter(X,y)"
   ]
  },
  {
   "cell_type": "code",
   "execution_count": 4,
   "id": "7fa61347",
   "metadata": {},
   "outputs": [
    {
     "name": "stdout",
     "output_type": "stream",
     "text": [
      "[28.12597332] -2.271014426178382\n"
     ]
    }
   ],
   "source": [
    "from sklearn.linear_model import LinearRegression\n",
    "lr=LinearRegression()\n",
    "lr.fit(X_train,y_train)\n",
    "print(lr.coef_,lr.intercept_)"
   ]
  },
  {
   "cell_type": "code",
   "execution_count": 5,
   "id": "ff5472a8",
   "metadata": {},
   "outputs": [
    {
     "data": {
      "text/plain": [
       "0.6375011587464419"
      ]
     },
     "execution_count": 5,
     "metadata": {},
     "output_type": "execute_result"
    }
   ],
   "source": [
    "np.mean(cross_val_score(lr,X,y,scoring='r2',cv=10))"
   ]
  },
  {
   "cell_type": "code",
   "execution_count": 6,
   "id": "732dd07d",
   "metadata": {},
   "outputs": [
    {
     "data": {
      "text/plain": [
       "0.6345158782661013"
      ]
     },
     "execution_count": 6,
     "metadata": {},
     "output_type": "execute_result"
    }
   ],
   "source": [
    "y_pred=lr.predict(X_test)\n",
    "r2_score(y_test,y_pred)"
   ]
  },
  {
   "cell_type": "code",
   "execution_count": 7,
   "id": "74bc5ff3",
   "metadata": {},
   "outputs": [],
   "source": [
    "class GDR:\n",
    "    def __init__(self,epoch,learning_rate):\n",
    "        self.b=-120\n",
    "        self.epoch=epoch\n",
    "        self.lr=learning_rate\n",
    "        self.m=27.82809103\n",
    "        \n",
    "    def fit(self,X_train,y_train):\n",
    "        \n",
    "        for i in range(self.epoch):\n",
    "            slope=-2*np.sum(y_train-self.m*X_train.ravel()-self.b)\n",
    "            self.b=self.b-self.lr*slope\n",
    "        return self.b\n",
    "            \n",
    "            \n",
    "            "
   ]
  },
  {
   "cell_type": "code",
   "execution_count": 8,
   "id": "ed1a27f2",
   "metadata": {},
   "outputs": [
    {
     "name": "stdout",
     "output_type": "stream",
     "text": [
      "-2.295295043085146\n"
     ]
    }
   ],
   "source": [
    "reg=GDR(55,0.001)\n",
    "print(reg.fit(X,y))"
   ]
  },
  {
   "cell_type": "code",
   "execution_count": 9,
   "id": "e88c9a25",
   "metadata": {},
   "outputs": [],
   "source": [
    "class GDR:\n",
    "    def __init__(self,epoch,learning_rate):\n",
    "        self.b=-120\n",
    "        self.epoch=epoch\n",
    "        self.lr=learning_rate\n",
    "        self.m=100\n",
    "        \n",
    "    def fit(self,X_train,y_train):\n",
    "        \n",
    "        for i in range(self.epoch):\n",
    "            loss_slope_b=-2 * np.sum(y_train-self.m * X_train.ravel()-self.b)\n",
    "            loss_slope_m=-2 * np.sum((y_train-self.m * X_train.ravel()-self.b) * X_train.ravel())\n",
    "            \n",
    "            self.b=self.b- (self.lr * loss_slope_b)\n",
    "            self.m=self.m- (self.lr * loss_slope_m )     \n",
    "            \n",
    "        return self.m,self.b\n",
    "    \n",
    "    def predict(self,X):\n",
    "        return self.m*X+self.b"
   ]
  },
  {
   "cell_type": "code",
   "execution_count": 10,
   "id": "54d3d07a",
   "metadata": {},
   "outputs": [
    {
     "name": "stdout",
     "output_type": "stream",
     "text": [
      "(28.12742738603652, -2.272149769092331)\n"
     ]
    }
   ],
   "source": [
    "reg=GDR(70,0.001)\n",
    "print(reg.fit(X_train,y_train))"
   ]
  },
  {
   "cell_type": "code",
   "execution_count": 11,
   "id": "300068e7",
   "metadata": {},
   "outputs": [
    {
     "data": {
      "text/plain": [
       "0.6345101396779722"
      ]
     },
     "execution_count": 11,
     "metadata": {},
     "output_type": "execute_result"
    }
   ],
   "source": [
    "y_pred=reg.predict(X_test)\n",
    "r2_score(y_test,y_pred)"
   ]
  },
  {
   "cell_type": "code",
   "execution_count": 12,
   "id": "4d14f869",
   "metadata": {},
   "outputs": [],
   "source": [
    "from sklearn.datasets import load_diabetes\n",
    "X,y=load_diabetes(return_X_y=True)\n",
    "X_train,X_test,y_train,y_test=train_test_split(X,y,test_size=0.2,random_state=2)"
   ]
  },
  {
   "cell_type": "code",
   "execution_count": 13,
   "id": "1f15a07b",
   "metadata": {},
   "outputs": [
    {
     "name": "stdout",
     "output_type": "stream",
     "text": [
      "[  -9.16088483 -205.46225988  516.68462383  340.62734108 -895.54360867\n",
      "  561.21453306  153.88478595  126.73431596  861.12139955   52.41982836] 151.88334520854633\n"
     ]
    }
   ],
   "source": [
    "lr.fit(X_train,y_train)\n",
    "print(lr.coef_,lr.intercept_)"
   ]
  },
  {
   "cell_type": "code",
   "execution_count": 14,
   "id": "f2703d4f",
   "metadata": {},
   "outputs": [
    {
     "name": "stdout",
     "output_type": "stream",
     "text": [
      "0.4399387660024644\n"
     ]
    }
   ],
   "source": [
    "y_pred=lr.predict(X_test)\n",
    "print(r2_score(y_test,y_pred))"
   ]
  },
  {
   "cell_type": "code",
   "execution_count": 15,
   "id": "fed2dc41",
   "metadata": {},
   "outputs": [],
   "source": [
    "class BatchGDR:\n",
    "    #Batch Gradient Descent\n",
    "    \n",
    "    def __init__(self,epoch,learning_rate):\n",
    "        self.coef=None\n",
    "        self.intercept=0\n",
    "        self.epoch=epoch\n",
    "        self.lr=learning_rate\n",
    "    \n",
    "    def fit(self,X,y):\n",
    "        self.intercept=0\n",
    "        self.coef=np.ones(X.shape[1])\n",
    "        for i in range(self.epoch):\n",
    "            y_hat=np.dot(X,self.coef)+self.intercept\n",
    "            coef_slope= -2 * np.dot((y-y_hat),X)/X.shape[0]\n",
    "            intercept_slope=-2*np.mean(y-y_hat)\n",
    "\n",
    "            self.coef=self.coef-(self.lr * coef_slope)\n",
    "            self.intercept=self.intercept-(self.lr * intercept_slope)\n",
    "            \n",
    "        return self.coef,self.intercept\n",
    "    \n",
    "    def predict(self,X):\n",
    "        return np.dot(X,self.coef) + self.intercept\n",
    "        \n",
    "        \n",
    "        "
   ]
  },
  {
   "cell_type": "code",
   "execution_count": 16,
   "id": "c786eaa5",
   "metadata": {},
   "outputs": [
    {
     "name": "stdout",
     "output_type": "stream",
     "text": [
      "(array([  14.38915082, -173.72674118,  491.54504015,  323.91983579,\n",
      "        -39.32680194, -116.01099114, -194.04229501,  103.38216641,\n",
      "        451.63385893,   97.57119174]), 152.0135263267291)\n"
     ]
    }
   ],
   "source": [
    "blr=BatchGDR(1000,0.5)\n",
    "print(blr.fit(X_train,y_train))\n"
   ]
  },
  {
   "cell_type": "code",
   "execution_count": 17,
   "id": "ecea488b",
   "metadata": {},
   "outputs": [
    {
     "data": {
      "text/plain": [
       "0.4534524671450598"
      ]
     },
     "execution_count": 17,
     "metadata": {},
     "output_type": "execute_result"
    }
   ],
   "source": [
    "y_pred=blr.predict(X_test)\n",
    "r2_score(y_test,y_pred)"
   ]
  },
  {
   "cell_type": "code",
   "execution_count": 100,
   "id": "9ea22a35",
   "metadata": {},
   "outputs": [],
   "source": [
    "class SGDRegressor:\n",
    "    #Stochastic Gradient Descent\n",
    "    \n",
    "    def __init__(self,epoch,learning_rate):\n",
    "        self.coef=None\n",
    "        self.intercept=0\n",
    "        self.epoch=epoch\n",
    "        self.lr=learning_rate\n",
    "        self.t0=5\n",
    "        self.t1=600\n",
    "        \n",
    "    def learning_schedule(self,t):\n",
    "        return self.t0/(t+self.t1)\n",
    "    \n",
    "    def fit(self,X,y):\n",
    "        self.intercept=0\n",
    "        self.coef=np.ones(X.shape[1])\n",
    "        for i in range(self.epoch):\n",
    "            for j in range(X.shape[0]):\n",
    "                self.lr=self.learning_schedule((i*X.shape[0])+j)\n",
    "                index = np.random.randint(0,X.shape[0])\n",
    "                y_hat=np.dot(X[index],self.coef)+self.intercept\n",
    "                \n",
    "                coef_slope= -2 * np.dot((y[index]-y_hat),X[index])\n",
    "                intercept_slope=-2*(y[index]-y_hat)\n",
    "\n",
    "                self.coef=self.coef-(self.lr * coef_slope)\n",
    "                self.intercept=self.intercept-(self.lr * intercept_slope)\n",
    "            \n",
    "        return self.coef,self.intercept\n",
    "    \n",
    "    def predict(self,X):\n",
    "        return np.dot(X,self.coef) + self.intercept"
   ]
  },
  {
   "cell_type": "code",
   "execution_count": 103,
   "id": "2143b3c7",
   "metadata": {},
   "outputs": [
    {
     "name": "stdout",
     "output_type": "stream",
     "text": [
      "(array([ 44.36841989,   3.71244674, 141.66689928, 106.28829651,\n",
      "        37.95592691,  25.81459035, -83.73757673,  82.30350295,\n",
      "       133.962152  ,  77.70580858]), 151.4161900246852)\n"
     ]
    }
   ],
   "source": [
    "sgd=SGDRegressor(5000,0.01)\n",
    "print(sgd.fit(X_train,y_train))\n"
   ]
  },
  {
   "cell_type": "code",
   "execution_count": 104,
   "id": "62c841ba",
   "metadata": {},
   "outputs": [
    {
     "data": {
      "text/plain": [
       "0.2899152452363326"
      ]
     },
     "execution_count": 104,
     "metadata": {},
     "output_type": "execute_result"
    }
   ],
   "source": [
    "y_pred=sgd.predict(X_test)\n",
    "r2_score(y_test,y_pred)"
   ]
  },
  {
   "cell_type": "code",
   "execution_count": 106,
   "id": "72d45919",
   "metadata": {},
   "outputs": [
    {
     "name": "stdout",
     "output_type": "stream",
     "text": [
      "[  55.75856368  -65.80246932  347.79412557  245.67234766   18.19294219\n",
      "  -27.36119431 -172.36191477  128.84498904  316.3867302   128.57567192]\n"
     ]
    },
    {
     "name": "stderr",
     "output_type": "stream",
     "text": [
      "/Users/divyanshuchaturvedi/opt/anaconda3/lib/python3.9/site-packages/sklearn/linear_model/_stochastic_gradient.py:1503: ConvergenceWarning: Maximum number of iteration reached before convergence. Consider increasing max_iter to improve the fit.\n",
      "  warnings.warn(\n"
     ]
    }
   ],
   "source": [
    "from sklearn.linear_model import SGDRegressor\n",
    "sgd=SGDRegressor(max_iter=100,learning_rate='constant',eta0=0.01)\n",
    "sgd.fit(X_train,y_train)\n",
    "print(sgd.coef_)"
   ]
  },
  {
   "cell_type": "code",
   "execution_count": 107,
   "id": "719f9aab",
   "metadata": {},
   "outputs": [
    {
     "data": {
      "text/plain": [
       "0.4325747860185708"
      ]
     },
     "execution_count": 107,
     "metadata": {},
     "output_type": "execute_result"
    }
   ],
   "source": [
    "y_pred=sgd.predict(X_test)\n",
    "r2_score(y_test,y_pred)"
   ]
  },
  {
   "cell_type": "code",
   "execution_count": 117,
   "id": "78634327",
   "metadata": {},
   "outputs": [],
   "source": [
    "import random"
   ]
  },
  {
   "cell_type": "code",
   "execution_count": 118,
   "id": "decf0b93",
   "metadata": {},
   "outputs": [],
   "source": [
    "class MBGDR:\n",
    "    #Mini-Batch Gradient Descent\n",
    "    \n",
    "    def __init__(self,batch_size,epoch,learning_rate):\n",
    "        self.coef=None\n",
    "        self.intercept=0\n",
    "        self.batch_size=batch_size\n",
    "        self.epoch=epoch\n",
    "        self.lr=learning_rate\n",
    "    \n",
    "    def fit(self,X,y):\n",
    "        self.intercept=0\n",
    "        self.coef=np.ones(X.shape[1])\n",
    "        for i in range(self.epoch):\n",
    "            for j in range(int(X.shape[0]/self.batch_size)):\n",
    "                idx=random.sample(range(X.shape[0]),self.batch_size)\n",
    "                y_hat=np.dot(X[idx],self.coef)+self.intercept\n",
    "                coef_slope= -2 * np.dot((y[idx]-y_hat),X[idx])/X.shape[0]\n",
    "                intercept_slope=-2*np.mean(y[idx]-y_hat)\n",
    "\n",
    "                self.coef=self.coef-(self.lr * coef_slope)\n",
    "                self.intercept=self.intercept-(self.lr * intercept_slope)\n",
    "            \n",
    "        return self.coef,self.intercept\n",
    "    \n",
    "    def predict(self,X):\n",
    "        return np.dot(X,self.coef) + self.intercept\n",
    "        \n",
    "        "
   ]
  },
  {
   "cell_type": "code",
   "execution_count": 131,
   "id": "0305a45a",
   "metadata": {},
   "outputs": [
    {
     "name": "stdout",
     "output_type": "stream",
     "text": [
      "(array([  14.72725043, -170.82962506,  493.62272989,  323.9337865 ,\n",
      "        -39.19723466, -115.13968232, -194.16049593,  102.39224035,\n",
      "        451.41205615,  100.07486825]), 161.63978276124178)\n"
     ]
    }
   ],
   "source": [
    "mblr=MBGDR(int(X.shape[0]/10),1000,0.5)\n",
    "print(mblr.fit(X_train,y_train))"
   ]
  },
  {
   "cell_type": "code",
   "execution_count": 132,
   "id": "7d4f83b0",
   "metadata": {},
   "outputs": [
    {
     "data": {
      "text/plain": [
       "0.4381529362897688"
      ]
     },
     "execution_count": 132,
     "metadata": {},
     "output_type": "execute_result"
    }
   ],
   "source": [
    "y_pred=mblr.predict(X_test)\n",
    "r2_score(y_test,y_pred)"
   ]
  },
  {
   "cell_type": "code",
   "execution_count": 141,
   "id": "aafafd7c",
   "metadata": {},
   "outputs": [
    {
     "data": {
      "text/plain": [
       "array([   1.10326147,  -96.452838  ,  426.0044442 ,  312.25586591,\n",
       "          2.02046926,  -64.83562141, -179.11903504,  124.90597771,\n",
       "        392.46585922,   99.37457205])"
      ]
     },
     "execution_count": 141,
     "metadata": {},
     "output_type": "execute_result"
    }
   ],
   "source": [
    "#directly we do not have mini-batch gradient descent implemented in sklearn\n",
    "sgd=SGDRegressor(learning_rate='constant',eta0=0.2)\n",
    "batch_size=35\n",
    "for i in range(100):\n",
    "        idx=random.sample(range(X_train.shape[0]),batch_size)\n",
    "        sgd.partial_fit(X_train[idx],y_train[idx])\n",
    "sgd.coef_"
   ]
  },
  {
   "cell_type": "code",
   "execution_count": 142,
   "id": "d71faa0b",
   "metadata": {},
   "outputs": [
    {
     "data": {
      "text/plain": [
       "0.33281694283632857"
      ]
     },
     "execution_count": 142,
     "metadata": {},
     "output_type": "execute_result"
    }
   ],
   "source": [
    "y_pred=sgd.predict(X_test)\n",
    "r2_score(y_test,y_pred)"
   ]
  }
 ],
 "metadata": {
  "kernelspec": {
   "display_name": "Python 3 (ipykernel)",
   "language": "python",
   "name": "python3"
  },
  "language_info": {
   "codemirror_mode": {
    "name": "ipython",
    "version": 3
   },
   "file_extension": ".py",
   "mimetype": "text/x-python",
   "name": "python",
   "nbconvert_exporter": "python",
   "pygments_lexer": "ipython3",
   "version": "3.9.12"
  }
 },
 "nbformat": 4,
 "nbformat_minor": 5
}

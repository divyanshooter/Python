{
 "cells": [
  {
   "cell_type": "code",
   "execution_count": 2,
   "id": "4ecf1027",
   "metadata": {},
   "outputs": [],
   "source": [
    "import numpy as np\n",
    "import pandas as pd\n",
    "from sklearn.datasets import make_regression\n",
    "import matplotlib.pyplot as plt"
   ]
  },
  {
   "cell_type": "code",
   "execution_count": 3,
   "id": "7ac11adb",
   "metadata": {},
   "outputs": [],
   "source": [
    "X,y=make_regression(n_samples=4,n_features=1,n_informative=1,n_targets=1,noise=80,random_state=13)"
   ]
  },
  {
   "cell_type": "code",
   "execution_count": 5,
   "id": "5dcd1e2e",
   "metadata": {},
   "outputs": [
    {
     "data": {
      "text/plain": [
       "<matplotlib.collections.PathCollection at 0x7fdc9b5f0d60>"
      ]
     },
     "execution_count": 5,
     "metadata": {},
     "output_type": "execute_result"
    },
    {
     "data": {
      "image/png": "[encoded data removed]",
      "text/plain": [
       "<Figure size 432x288 with 1 Axes>"
      ]
     },
     "metadata": {
      "needs_background": "light"
     },
     "output_type": "display_data"
    }
   ],
   "source": [
    "plt.scatter(X,y)"
   ]
  },
  {
   "cell_type": "code",
   "execution_count": 7,
   "id": "5360c69b",
   "metadata": {},
   "outputs": [
    {
     "name": "stdout",
     "output_type": "stream",
     "text": [
      "[78.35063668] 26.15963284313262\n"
     ]
    }
   ],
   "source": [
    "from sklearn.linear_model import LinearRegression\n",
    "lr=LinearRegression()\n",
    "lr.fit(X,y)\n",
    "print(lr.coef_,lr.intercept_)"
   ]
  },
  {
   "cell_type": "code",
   "execution_count": 18,
   "id": "95911cb9",
   "metadata": {},
   "outputs": [],
   "source": [
    "class GDR:\n",
    "    def __init__(self,epoch,learning_rate):\n",
    "        self.b=None\n",
    "        self.epoch=epoch\n",
    "        self.lr=learning_rate\n",
    "        self.m=78.35063668\n",
    "        \n",
    "    def fit(self,X_train,y_train):\n",
    "        self.b=np.random.randint(1,10000)\n",
    "        \n",
    "        for i in range(self.epoch):\n",
    "            slope=-2*np.sum(y_train-self.m*X_train.ravel()-self.b)\n",
    "            self.b=self.b-self.lr*slope\n",
    "        return self.b\n",
    "            \n",
    "            \n",
    "            "
   ]
  },
  {
   "cell_type": "code",
   "execution_count": 19,
   "id": "9d850f03",
   "metadata": {},
   "outputs": [
    {
     "name": "stdout",
     "output_type": "stream",
     "text": [
      "26.159632843073748\n"
     ]
    }
   ],
   "source": [
    "reg=GDR(1000,0.01)\n",
    "print(reg.fit(X,y))"
   ]
  }
 ],
 "metadata": {
  "kernelspec": {
   "display_name": "Python 3 (ipykernel)",
   "language": "python",
   "name": "python3"
  },
  "language_info": {
   "codemirror_mode": {
    "name": "ipython",
    "version": 3
   },
   "file_extension": ".py",
   "mimetype": "text/x-python",
   "name": "python",
   "nbconvert_exporter": "python",
   "pygments_lexer": "ipython3",
   "version": "3.9.12"
  }
 },
 "nbformat": 4,
 "nbformat_minor": 5
}

{
 "cells": [
  {
   "cell_type": "code",
   "execution_count": 2,
   "id": "5f3878aa",
   "metadata": {},
   "outputs": [
    {
     "data": {
      "text/plain": [
       "True"
      ]
     },
     "execution_count": 2,
     "metadata": {},
     "output_type": "execute_result"
    }
   ],
   "source": [
    "from langchain_openai import OpenAIEmbeddings\n",
    "from dotenv import load_dotenv\n",
    "from sklearn.metrics.pairwise import cosine_similarity\n",
    "import numpy as np\n",
    "load_dotenv()"
   ]
  },
  {
   "cell_type": "code",
   "execution_count": 3,
   "id": "209f74da",
   "metadata": {},
   "outputs": [],
   "source": [
    "embedding=OpenAIEmbeddings(model='text-embedding-3-large',dimensions=300)"
   ]
  },
  {
   "cell_type": "code",
   "execution_count": 4,
   "id": "c23dd56c",
   "metadata": {},
   "outputs": [],
   "source": [
    "documents = [\n",
    "    \"Virat Kohli is an Indian cricketer known for his aggressive batting and leadership.\",\n",
    "    \"MS Dhoni is a former Indian captain famous for his calm demeanor and finishing skills.\",\n",
    "    \"Sachin Tendulkar, also known as the 'God of Cricket', holds many batting records.\",\n",
    "    \"Rohit Sharma is known for his elegant batting and record-breaking double centuries.\",\n",
    "    \"Jasprit Bumrah is an Indian fast bowler known for his unorthodox action and yorkers.\"\n",
    "]"
   ]
  },
  {
   "cell_type": "code",
   "execution_count": 5,
   "id": "2f34d8ed",
   "metadata": {},
   "outputs": [],
   "source": [
    "query = 'tell me about bumrah'\n",
    "\n",
    "doc_embeddings = embedding.embed_documents(documents)\n",
    "query_embedding = embedding.embed_query(query)"
   ]
  },
  {
   "cell_type": "code",
   "execution_count": 10,
   "id": "d8762f61",
   "metadata": {},
   "outputs": [],
   "source": [
    "scores=cosine_similarity([query_embedding],doc_embeddings)[0]\n",
    "index,score=sorted(list(enumerate(scores)),key=lambda x:x[1])[-1]"
   ]
  },
  {
   "cell_type": "code",
   "execution_count": 12,
   "id": "859c4bc6",
   "metadata": {},
   "outputs": [
    {
     "name": "stdout",
     "output_type": "stream",
     "text": [
      "Jasprit Bumrah is an Indian fast bowler known for his unorthodox action and yorkers.\n",
      "similarity score is: 0.6844442532601465\n"
     ]
    }
   ],
   "source": [
    "print(documents[index])\n",
    "print(\"similarity score is:\", score)"
   ]
  }
 ],
 "metadata": {
  "kernelspec": {
   "display_name": "Python 3",
   "language": "python",
   "name": "python3"
  },
  "language_info": {
   "codemirror_mode": {
    "name": "ipython",
    "version": 3
   },
   "file_extension": ".py",
   "mimetype": "text/x-python",
   "name": "python",
   "nbconvert_exporter": "python",
   "pygments_lexer": "ipython3",
   "version": "3.10.18"
  }
 },
 "nbformat": 4,
 "nbformat_minor": 5
}

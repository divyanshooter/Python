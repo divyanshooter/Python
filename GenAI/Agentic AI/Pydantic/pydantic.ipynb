{
 "cells": [
  {
   "cell_type": "markdown",
   "id": "553a3fe0",
   "metadata": {},
   "source": [
    "Pydantic is used to create data models where you can validate and parse data (e.g., from APIs, forms, etc.) while ensuring types are correct.\n",
    "\n",
    "It’s widely used in FastAPI, but can be used independently too."
   ]
  },
  {
   "cell_type": "code",
   "execution_count": 1,
   "id": "62174927",
   "metadata": {},
   "outputs": [],
   "source": [
    "from pydantic import BaseModel"
   ]
  },
  {
   "cell_type": "code",
   "execution_count": 2,
   "id": "c686ef7b",
   "metadata": {},
   "outputs": [
    {
     "name": "stdout",
     "output_type": "stream",
     "text": [
      "name='Divyanshu' age=25 city='Delhi'\n"
     ]
    }
   ],
   "source": [
    "class Person(BaseModel):\n",
    "    name:str\n",
    "    age:int\n",
    "    city:str\n",
    "\n",
    "person=Person(name=\"Divyanshu\",age=25,city=\"Delhi\")\n",
    "print(person)"
   ]
  },
  {
   "cell_type": "code",
   "execution_count": 6,
   "id": "2edfc3bd",
   "metadata": {},
   "outputs": [],
   "source": [
    "#this is giving the error for giving int to city\n",
    "#person1=Person(name=\"Divyanshu\",age=25,city=90)\n",
    "#print(person1)"
   ]
  },
  {
   "cell_type": "markdown",
   "id": "5c7b72f6",
   "metadata": {},
   "source": [
    "## Model with optional fields"
   ]
  },
  {
   "cell_type": "code",
   "execution_count": 7,
   "id": "9836b3bc",
   "metadata": {},
   "outputs": [],
   "source": [
    "from typing import Optional\n",
    "\n",
    "class Employee(BaseModel):\n",
    "    id:int\n",
    "    name:str\n",
    "    department:str\n",
    "    salary:Optional[float]= None\n",
    "    is_active:Optional[bool]=True"
   ]
  },
  {
   "cell_type": "code",
   "execution_count": 8,
   "id": "ffec2a49",
   "metadata": {},
   "outputs": [
    {
     "name": "stdout",
     "output_type": "stream",
     "text": [
      "id=1 name='John' department='IT' salary=None is_active=True\n"
     ]
    }
   ],
   "source": [
    "emp1 = Employee(id=1,name=\"John\",department=\"IT\")\n",
    "print(emp1)"
   ]
  },
  {
   "cell_type": "code",
   "execution_count": 9,
   "id": "1f6ea9a9",
   "metadata": {},
   "outputs": [
    {
     "name": "stdout",
     "output_type": "stream",
     "text": [
      "id=1 name='John' department='IT' salary=60000.0 is_active=True\n"
     ]
    }
   ],
   "source": [
    "emp2 = Employee(id=1,name=\"John\",department=\"IT\",salary=60000)\n",
    "print(emp2)"
   ]
  },
  {
   "cell_type": "markdown",
   "id": "9ed0dbba",
   "metadata": {},
   "source": [
    "Definition:\n",
    "- Optional[type]: Indicates the field can be None\n",
    "\n",
    "- Default value (= None or = True): Makes the field optional\n",
    "\n",
    "- Required fields must still be provided\n",
    "\n",
    "- Pydantic validates types even for optional fields when values are provided\n",
    "\n"
   ]
  },
  {
   "cell_type": "code",
   "execution_count": null,
   "id": "4ae94a91",
   "metadata": {},
   "outputs": [],
   "source": []
  }
 ],
 "metadata": {
  "kernelspec": {
   "display_name": "Python 3",
   "language": "python",
   "name": "python3"
  },
  "language_info": {
   "codemirror_mode": {
    "name": "ipython",
    "version": 3
   },
   "file_extension": ".py",
   "mimetype": "text/x-python",
   "name": "python",
   "nbconvert_exporter": "python",
   "pygments_lexer": "ipython3",
   "version": "3.12.0"
  }
 },
 "nbformat": 4,
 "nbformat_minor": 5
}

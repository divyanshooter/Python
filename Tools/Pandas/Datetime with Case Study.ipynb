{
 "cells": [
  {
   "cell_type": "code",
   "execution_count": 2,
   "id": "4b3637e4-6c29-435d-b8e6-ca2ec5235690",
   "metadata": {},
   "outputs": [],
   "source": [
    "import numpy as np\n",
    "import pandas as pd"
   ]
  },
  {
   "cell_type": "markdown",
   "id": "ea13cee0-1481-4cbe-a53a-56f2dfe3c318",
   "metadata": {},
   "source": [
    "### Timestamp Object\n",
    "\n",
    "Time stamps reference particular moments in time (e.g., Oct 24th, 2022 at 7:00pm)"
   ]
  },
  {
   "cell_type": "markdown",
   "id": "f19494d2-2046-4829-8022-b9164b0d93b7",
   "metadata": {},
   "source": [
    "### Creating Timestamp objects"
   ]
  },
  {
   "cell_type": "code",
   "execution_count": 5,
   "id": "b5d9c515-9a9b-45ce-bff3-7ea294200ab5",
   "metadata": {},
   "outputs": [
    {
     "data": {
      "text/plain": [
       "pandas._libs.tslibs.timestamps.Timestamp"
      ]
     },
     "execution_count": 5,
     "metadata": {},
     "output_type": "execute_result"
    }
   ],
   "source": [
    "# creating a timestamp\n",
    "type(pd.Timestamp('2025/5/13'))"
   ]
  },
  {
   "cell_type": "code",
   "execution_count": 6,
   "id": "a6f10b71-5542-464e-966a-654caa785b83",
   "metadata": {},
   "outputs": [
    {
     "data": {
      "text/plain": [
       "Timestamp('2025-05-13 00:00:00')"
      ]
     },
     "execution_count": 6,
     "metadata": {},
     "output_type": "execute_result"
    }
   ],
   "source": [
    "# variations\n",
    "pd.Timestamp('2025-5-13')\n",
    "pd.Timestamp('2025, 5, 13')"
   ]
  },
  {
   "cell_type": "code",
   "execution_count": 7,
   "id": "34cb41cd-5844-4f03-88a2-5fb4c0c1d758",
   "metadata": {},
   "outputs": [
    {
     "data": {
      "text/plain": [
       "Timestamp('2025-01-01 00:00:00')"
      ]
     },
     "execution_count": 7,
     "metadata": {},
     "output_type": "execute_result"
    }
   ],
   "source": [
    "# only year\n",
    "pd.Timestamp('2025')"
   ]
  },
  {
   "cell_type": "code",
   "execution_count": 8,
   "id": "1cdde1b0-c980-4b4b-a8c8-46c382dec5e2",
   "metadata": {},
   "outputs": [
    {
     "data": {
      "text/plain": [
       "Timestamp('2025-05-13 00:00:00')"
      ]
     },
     "execution_count": 8,
     "metadata": {},
     "output_type": "execute_result"
    }
   ],
   "source": [
    "# using text\n",
    "pd.Timestamp('13th May 2025')"
   ]
  },
  {
   "cell_type": "code",
   "execution_count": 9,
   "id": "cd974765-0a42-40ab-a051-c9b5c3d0cea3",
   "metadata": {},
   "outputs": [
    {
     "data": {
      "text/plain": [
       "Timestamp('2025-05-13 18:57:00')"
      ]
     },
     "execution_count": 9,
     "metadata": {},
     "output_type": "execute_result"
    }
   ],
   "source": [
    "# providing time also\n",
    "pd.Timestamp('13th May 2025 6:57PM')"
   ]
  },
  {
   "cell_type": "code",
   "execution_count": 10,
   "id": "35cab05f-0470-472a-92a8-66dfdc3bba0b",
   "metadata": {},
   "outputs": [
    {
     "data": {
      "text/plain": [
       "Timestamp('2025-05-13 18:57:56')"
      ]
     },
     "execution_count": 10,
     "metadata": {},
     "output_type": "execute_result"
    }
   ],
   "source": [
    "import datetime as dt\n",
    "\n",
    "x = pd.Timestamp(dt.datetime(2025,5,13,18,57,56))\n",
    "x"
   ]
  },
  {
   "cell_type": "code",
   "execution_count": 11,
   "id": "dd28aadc-876a-4145-9e48-bcdb2dc60124",
   "metadata": {},
   "outputs": [
    {
     "data": {
      "text/plain": [
       "13"
      ]
     },
     "execution_count": 11,
     "metadata": {},
     "output_type": "execute_result"
    }
   ],
   "source": [
    "#fetch attribute\n",
    "x.day"
   ]
  },
  {
   "cell_type": "code",
   "execution_count": 12,
   "id": "16ef7766-d261-416d-bf79-3df869995268",
   "metadata": {},
   "outputs": [
    {
     "data": {
      "text/plain": [
       "2025"
      ]
     },
     "execution_count": 12,
     "metadata": {},
     "output_type": "execute_result"
    }
   ],
   "source": [
    "x.year"
   ]
  },
  {
   "cell_type": "code",
   "execution_count": 13,
   "id": "eafb94b4-5eb0-4366-b6fa-1532fc5c57e8",
   "metadata": {},
   "outputs": [
    {
     "data": {
      "text/plain": [
       "5"
      ]
     },
     "execution_count": 13,
     "metadata": {},
     "output_type": "execute_result"
    }
   ],
   "source": [
    "x.month"
   ]
  },
  {
   "cell_type": "code",
   "execution_count": 14,
   "id": "0b9d6b58-eb9c-4af6-a585-4f96fcd3b7f7",
   "metadata": {},
   "outputs": [
    {
     "data": {
      "text/plain": [
       "18"
      ]
     },
     "execution_count": 14,
     "metadata": {},
     "output_type": "execute_result"
    }
   ],
   "source": [
    "x.hour"
   ]
  },
  {
   "cell_type": "code",
   "execution_count": 15,
   "id": "a0b6a3bf-bd25-4f86-9c5b-24f36bb40d15",
   "metadata": {},
   "outputs": [
    {
     "data": {
      "text/plain": [
       "57"
      ]
     },
     "execution_count": 15,
     "metadata": {},
     "output_type": "execute_result"
    }
   ],
   "source": [
    "x.minute"
   ]
  },
  {
   "cell_type": "code",
   "execution_count": 16,
   "id": "6adaf623-2ce0-4d17-b335-c03ff97d90f8",
   "metadata": {},
   "outputs": [
    {
     "data": {
      "text/plain": [
       "56"
      ]
     },
     "execution_count": 16,
     "metadata": {},
     "output_type": "execute_result"
    }
   ],
   "source": [
    "x.second"
   ]
  },
  {
   "cell_type": "markdown",
   "id": "8eb27346-3ba5-44b9-8097-c590c5a5f061",
   "metadata": {},
   "source": [
    "# why separate objects to handle data and time when python already has datetime functionality?\n",
    "- syntax wise datetime is very convenient\n",
    "- But the performance takes a hit while working with huge data. List vs Numpy Array\n",
    "- The weaknesses of Python's datetime format inspired the NumPy team to add a set of native time series data type to NumPy.\n",
    "- The datetime64 dtype encodes dates as 64-bit integers, and thus allows arrays of dates to be represented very compactly."
   ]
  },
  {
   "cell_type": "code",
   "execution_count": 18,
   "id": "71ee790c-d726-46ff-b71c-c94d01fdfa68",
   "metadata": {},
   "outputs": [
    {
     "data": {
      "text/plain": [
       "array('2015-07-04', dtype='datetime64[D]')"
      ]
     },
     "execution_count": 18,
     "metadata": {},
     "output_type": "execute_result"
    }
   ],
   "source": [
    "import numpy as np\n",
    "date = np.array('2015-07-04', dtype=np.datetime64)\n",
    "date"
   ]
  },
  {
   "cell_type": "code",
   "execution_count": 19,
   "id": "cd81ff1f-a1e6-488b-b555-c149470c8d19",
   "metadata": {},
   "outputs": [
    {
     "data": {
      "text/plain": [
       "array(['2015-07-04', '2015-07-05', '2015-07-06', '2015-07-07',\n",
       "       '2015-07-08', '2015-07-09', '2015-07-10', '2015-07-11',\n",
       "       '2015-07-12', '2015-07-13', '2015-07-14', '2015-07-15'],\n",
       "      dtype='datetime64[D]')"
      ]
     },
     "execution_count": 19,
     "metadata": {},
     "output_type": "execute_result"
    }
   ],
   "source": [
    "date + np.arange(12)"
   ]
  },
  {
   "cell_type": "markdown",
   "id": "e796b2a5-5ac0-432a-a1f7-d4bb11da5cf8",
   "metadata": {},
   "source": [
    "- Because of the uniform type in NumPy datetime64 arrays, this type of operation can be accomplished much more quickly than if we were working directly with Python's datetime objects, especially as arrays get large \n",
    "\n",
    "- Pandas Timestamp object combines the ease-of-use of python datetime with the efficient storage and vectorized interface of numpy.datetime64\n",
    "\n",
    "- From a group of these Timestamp objects, Pandas can construct a DatetimeIndex that can be used to index data in a Series or DataFrame"
   ]
  },
  {
   "cell_type": "markdown",
   "id": "c6a9652d-47d1-44c7-9091-c80d99b12115",
   "metadata": {},
   "source": [
    "# DatetimeIndex Object\n",
    "\n",
    "A collection of pandas timestamp"
   ]
  },
  {
   "cell_type": "code",
   "execution_count": 22,
   "id": "32c83a94-d278-40bc-b304-81385f397bbd",
   "metadata": {},
   "outputs": [
    {
     "data": {
      "text/plain": [
       "DatetimeIndex(['2023-01-01', '2022-01-01', '2021-01-01'], dtype='datetime64[ns]', freq=None)"
      ]
     },
     "execution_count": 22,
     "metadata": {},
     "output_type": "execute_result"
    }
   ],
   "source": [
    "# from string\n",
    "pd.DatetimeIndex(['2023/1/1','2022/1/1','2021/1/1'])"
   ]
  },
  {
   "cell_type": "code",
   "execution_count": 23,
   "id": "bf64982b-72ce-49b3-a32c-9c814ed4fe61",
   "metadata": {},
   "outputs": [
    {
     "data": {
      "text/plain": [
       "DatetimeIndex(['2023-01-01', '2022-01-01', '2021-01-01'], dtype='datetime64[ns]', freq=None)"
      ]
     },
     "execution_count": 23,
     "metadata": {},
     "output_type": "execute_result"
    }
   ],
   "source": [
    "# using python datetime object\n",
    "pd.DatetimeIndex([dt.datetime(2023,1,1),dt.datetime(2022,1,1),dt.datetime(2021,1,1)])"
   ]
  },
  {
   "cell_type": "code",
   "execution_count": 24,
   "id": "3a322598-120b-4741-8e3c-f7e46507d389",
   "metadata": {},
   "outputs": [],
   "source": [
    "# using pd.timestamps\n",
    "dt_index = pd.DatetimeIndex([pd.Timestamp(2023,1,1),pd.Timestamp(2022,1,1),pd.Timestamp(2021,1,1)])"
   ]
  },
  {
   "cell_type": "code",
   "execution_count": 25,
   "id": "b283944e-4be2-4560-80b1-3b7ec3214a0a",
   "metadata": {},
   "outputs": [
    {
     "data": {
      "text/plain": [
       "2023-01-01    1\n",
       "2022-01-01    2\n",
       "2021-01-01    3\n",
       "dtype: int64"
      ]
     },
     "execution_count": 25,
     "metadata": {},
     "output_type": "execute_result"
    }
   ],
   "source": [
    "# using datatimeindex as series index\n",
    "\n",
    "pd.Series([1,2,3],index=dt_index)"
   ]
  },
  {
   "cell_type": "code",
   "execution_count": 26,
   "id": "0f6234d0-21bd-4a79-8e9d-bbdcf11adb72",
   "metadata": {},
   "outputs": [
    {
     "data": {
      "text/plain": [
       "DatetimeIndex(['2023-01-05', '2023-01-08', '2023-01-11', '2023-01-14',\n",
       "               '2023-01-17', '2023-01-20', '2023-01-23', '2023-01-26',\n",
       "               '2023-01-29', '2023-02-01', '2023-02-04', '2023-02-07',\n",
       "               '2023-02-10', '2023-02-13', '2023-02-16', '2023-02-19',\n",
       "               '2023-02-22', '2023-02-25', '2023-02-28'],\n",
       "              dtype='datetime64[ns]', freq='3D')"
      ]
     },
     "execution_count": 26,
     "metadata": {},
     "output_type": "execute_result"
    }
   ],
   "source": [
    "# generate daily dates in a given range, in gap of 3 days\n",
    "pd.date_range(start='2023/1/5',end='2023/2/28',freq='3D')"
   ]
  },
  {
   "cell_type": "code",
   "execution_count": 27,
   "id": "d104a54a-fca3-4752-aa02-cafc81ca10b9",
   "metadata": {},
   "outputs": [
    {
     "data": {
      "text/plain": [
       "DatetimeIndex(['2023-01-02', '2023-01-03', '2023-01-04', '2023-01-05',\n",
       "               '2023-01-06', '2023-01-09', '2023-01-10', '2023-01-11',\n",
       "               '2023-01-12', '2023-01-13',\n",
       "               ...\n",
       "               '2025-12-18', '2025-12-19', '2025-12-22', '2025-12-23',\n",
       "               '2025-12-24', '2025-12-25', '2025-12-26', '2025-12-29',\n",
       "               '2025-12-30', '2025-12-31'],\n",
       "              dtype='datetime64[ns]', length=783, freq='B')"
      ]
     },
     "execution_count": 27,
     "metadata": {},
     "output_type": "execute_result"
    }
   ],
   "source": [
    "# this generate buisness days does not have saturday or sunday\n",
    "pd.date_range(start='2023/1/1',end='2025/12/31',freq='B')"
   ]
  },
  {
   "cell_type": "code",
   "execution_count": 28,
   "id": "2ddae46f-6c8a-4d3f-a55e-df90b3dd8743",
   "metadata": {},
   "outputs": [
    {
     "data": {
      "text/plain": [
       "DatetimeIndex(['2023-01-05', '2023-01-12', '2023-01-19', '2023-01-26',\n",
       "               '2023-02-02', '2023-02-09', '2023-02-16', '2023-02-23'],\n",
       "              dtype='datetime64[ns]', freq='W-THU')"
      ]
     },
     "execution_count": 28,
     "metadata": {},
     "output_type": "execute_result"
    }
   ],
   "source": [
    "# W -> one week per day\n",
    "pd.date_range(start='2023/1/5',end='2023/2/28',freq='W-THU')"
   ]
  },
  {
   "cell_type": "code",
   "execution_count": 29,
   "id": "8c436414-2c0a-4241-8664-3648779776b0",
   "metadata": {},
   "outputs": [
    {
     "data": {
      "text/plain": [
       "DatetimeIndex(['2023-01-05 00:00:00', '2023-01-05 06:00:00',\n",
       "               '2023-01-05 12:00:00', '2023-01-05 18:00:00',\n",
       "               '2023-01-06 00:00:00', '2023-01-06 06:00:00',\n",
       "               '2023-01-06 12:00:00', '2023-01-06 18:00:00',\n",
       "               '2023-01-07 00:00:00', '2023-01-07 06:00:00',\n",
       "               ...\n",
       "               '2023-02-25 18:00:00', '2023-02-26 00:00:00',\n",
       "               '2023-02-26 06:00:00', '2023-02-26 12:00:00',\n",
       "               '2023-02-26 18:00:00', '2023-02-27 00:00:00',\n",
       "               '2023-02-27 06:00:00', '2023-02-27 12:00:00',\n",
       "               '2023-02-27 18:00:00', '2023-02-28 00:00:00'],\n",
       "              dtype='datetime64[ns]', length=217, freq='6H')"
      ]
     },
     "execution_count": 29,
     "metadata": {},
     "output_type": "execute_result"
    }
   ],
   "source": [
    "# H -> Hourly data(factor)\n",
    "pd.date_range(start='2023/1/5',end='2023/2/28',freq='6H')"
   ]
  },
  {
   "cell_type": "code",
   "execution_count": 30,
   "id": "349825b7-0526-4589-adc8-46b6def7be43",
   "metadata": {},
   "outputs": [
    {
     "data": {
      "text/plain": [
       "DatetimeIndex(['2023-01-31', '2023-02-28'], dtype='datetime64[ns]', freq='M')"
      ]
     },
     "execution_count": 30,
     "metadata": {},
     "output_type": "execute_result"
    }
   ],
   "source": [
    "# M -> Month end\n",
    "pd.date_range(start='2023/1/5',end='2023/2/28',freq='M')"
   ]
  },
  {
   "cell_type": "code",
   "execution_count": 31,
   "id": "6aab52ec-de39-407e-a926-b195a3adf1ec",
   "metadata": {},
   "outputs": [
    {
     "data": {
      "text/plain": [
       "DatetimeIndex(['2023-02-01'], dtype='datetime64[ns]', freq='MS')"
      ]
     },
     "execution_count": 31,
     "metadata": {},
     "output_type": "execute_result"
    }
   ],
   "source": [
    "# MS -> Month start\n",
    "pd.date_range(start='2023/1/5',end='2023/2/28',freq='MS')"
   ]
  },
  {
   "cell_type": "code",
   "execution_count": 32,
   "id": "62ac4f6b-1533-4842-b361-011822da1fa7",
   "metadata": {},
   "outputs": [
    {
     "data": {
      "text/plain": [
       "DatetimeIndex(['2023-01-05', '2023-01-06', '2023-01-07', '2023-01-08',\n",
       "               '2023-01-09', '2023-01-10', '2023-01-11', '2023-01-12',\n",
       "               '2023-01-13', '2023-01-14', '2023-01-15', '2023-01-16',\n",
       "               '2023-01-17', '2023-01-18', '2023-01-19', '2023-01-20',\n",
       "               '2023-01-21', '2023-01-22', '2023-01-23', '2023-01-24',\n",
       "               '2023-01-25', '2023-01-26', '2023-01-27', '2023-01-28',\n",
       "               '2023-01-29'],\n",
       "              dtype='datetime64[ns]', freq='D')"
      ]
     },
     "execution_count": 32,
     "metadata": {},
     "output_type": "execute_result"
    }
   ],
   "source": [
    "# using periods(number of results)\n",
    "pd.date_range(start='2023/1/5',periods=25,freq='D')"
   ]
  },
  {
   "cell_type": "code",
   "execution_count": 33,
   "id": "de7d4161-9bb3-4b74-9d66-8b54598ac4ab",
   "metadata": {},
   "outputs": [
    {
     "data": {
      "text/plain": [
       "DatetimeIndex(['2023-01-31', '2023-02-28', '2023-03-31', '2023-04-30',\n",
       "               '2023-05-31', '2023-06-30', '2023-07-31', '2023-08-31',\n",
       "               '2023-09-30', '2023-10-31', '2023-11-30', '2023-12-31',\n",
       "               '2024-01-31', '2024-02-29', '2024-03-31', '2024-04-30',\n",
       "               '2024-05-31', '2024-06-30', '2024-07-31', '2024-08-31',\n",
       "               '2024-09-30', '2024-10-31', '2024-11-30', '2024-12-31',\n",
       "               '2025-01-31'],\n",
       "              dtype='datetime64[ns]', freq='M')"
      ]
     },
     "execution_count": 33,
     "metadata": {},
     "output_type": "execute_result"
    }
   ],
   "source": [
    "# using periods(number of results)\n",
    "pd.date_range(start='2023/1/5',periods=25,freq='M')"
   ]
  },
  {
   "cell_type": "markdown",
   "id": "76055633-bff2-41cf-ac5f-8a5c2f75dd1e",
   "metadata": {},
   "source": [
    "### to_datetime function\n",
    "\n",
    "converts an existing objects to pandas timestamp/datetimeindex object"
   ]
  },
  {
   "cell_type": "code",
   "execution_count": 35,
   "id": "40959ca2-a94b-4b99-9601-c1746cd3dc89",
   "metadata": {},
   "outputs": [
    {
     "data": {
      "text/plain": [
       "0      Sunday\n",
       "1    Saturday\n",
       "2      Friday\n",
       "dtype: object"
      ]
     },
     "execution_count": 35,
     "metadata": {},
     "output_type": "execute_result"
    }
   ],
   "source": [
    "# simple series example\n",
    "\n",
    "s = pd.Series(['2023/1/1','2022/1/1','2021/1/1'])\n",
    "pd.to_datetime(s).dt.day_name()"
   ]
  },
  {
   "cell_type": "code",
   "execution_count": 36,
   "id": "f13d29a8-ae8d-4998-954e-8a722912a0e9",
   "metadata": {},
   "outputs": [
    {
     "ename": "ParserError",
     "evalue": "Unknown string format: 2021/130/1",
     "output_type": "error",
     "traceback": [
      "\u001b[0;31m---------------------------------------------------------------------------\u001b[0m",
      "\u001b[0;31mTypeError\u001b[0m                                 Traceback (most recent call last)",
      "\u001b[0;32m~/opt/anaconda3/lib/python3.9/site-packages/pandas/core/arrays/datetimes.py\u001b[0m in \u001b[0;36mobjects_to_datetime64ns\u001b[0;34m(data, dayfirst, yearfirst, utc, errors, require_iso8601, allow_object, allow_mixed)\u001b[0m\n\u001b[1;32m   2210\u001b[0m         \u001b[0;32mtry\u001b[0m\u001b[0;34m:\u001b[0m\u001b[0;34m\u001b[0m\u001b[0;34m\u001b[0m\u001b[0m\n\u001b[0;32m-> 2211\u001b[0;31m             \u001b[0mvalues\u001b[0m\u001b[0;34m,\u001b[0m \u001b[0mtz_parsed\u001b[0m \u001b[0;34m=\u001b[0m \u001b[0mconversion\u001b[0m\u001b[0;34m.\u001b[0m\u001b[0mdatetime_to_datetime64\u001b[0m\u001b[0;34m(\u001b[0m\u001b[0mdata\u001b[0m\u001b[0;34m.\u001b[0m\u001b[0mravel\u001b[0m\u001b[0;34m(\u001b[0m\u001b[0;34m\"K\"\u001b[0m\u001b[0;34m)\u001b[0m\u001b[0;34m)\u001b[0m\u001b[0;34m\u001b[0m\u001b[0;34m\u001b[0m\u001b[0m\n\u001b[0m\u001b[1;32m   2212\u001b[0m             \u001b[0;31m# If tzaware, these values represent unix timestamps, so we\u001b[0m\u001b[0;34m\u001b[0m\u001b[0;34m\u001b[0m\u001b[0m\n",
      "\u001b[0;32m~/opt/anaconda3/lib/python3.9/site-packages/pandas/_libs/tslibs/conversion.pyx\u001b[0m in \u001b[0;36mpandas._libs.tslibs.conversion.datetime_to_datetime64\u001b[0;34m()\u001b[0m\n",
      "\u001b[0;31mTypeError\u001b[0m: Unrecognized value type: <class 'str'>",
      "\nDuring handling of the above exception, another exception occurred:\n",
      "\u001b[0;31mParserError\u001b[0m                               Traceback (most recent call last)",
      "\u001b[0;32m/var/folders/cm/nfcf9t8n1kq284ddpkmym7xr0000gn/T/ipykernel_5388/1595840600.py\u001b[0m in \u001b[0;36m<module>\u001b[0;34m\u001b[0m\n\u001b[1;32m      1\u001b[0m \u001b[0;31m# with errors\u001b[0m\u001b[0;34m\u001b[0m\u001b[0;34m\u001b[0m\u001b[0m\n\u001b[1;32m      2\u001b[0m \u001b[0ms\u001b[0m \u001b[0;34m=\u001b[0m \u001b[0mpd\u001b[0m\u001b[0;34m.\u001b[0m\u001b[0mSeries\u001b[0m\u001b[0;34m(\u001b[0m\u001b[0;34m[\u001b[0m\u001b[0;34m'2023/1/1'\u001b[0m\u001b[0;34m,\u001b[0m\u001b[0;34m'2022/1/1'\u001b[0m\u001b[0;34m,\u001b[0m\u001b[0;34m'2021/130/1'\u001b[0m\u001b[0;34m]\u001b[0m\u001b[0;34m)\u001b[0m\u001b[0;34m\u001b[0m\u001b[0;34m\u001b[0m\u001b[0m\n\u001b[0;32m----> 3\u001b[0;31m \u001b[0mpd\u001b[0m\u001b[0;34m.\u001b[0m\u001b[0mto_datetime\u001b[0m\u001b[0;34m(\u001b[0m\u001b[0ms\u001b[0m\u001b[0;34m)\u001b[0m\u001b[0;34m.\u001b[0m\u001b[0mdt\u001b[0m\u001b[0;34m.\u001b[0m\u001b[0mmonth_name\u001b[0m\u001b[0;34m(\u001b[0m\u001b[0;34m)\u001b[0m\u001b[0;34m\u001b[0m\u001b[0;34m\u001b[0m\u001b[0m\n\u001b[0m",
      "\u001b[0;32m~/opt/anaconda3/lib/python3.9/site-packages/pandas/core/tools/datetimes.py\u001b[0m in \u001b[0;36mto_datetime\u001b[0;34m(arg, errors, dayfirst, yearfirst, utc, format, exact, unit, infer_datetime_format, origin, cache)\u001b[0m\n\u001b[1;32m   1049\u001b[0m             \u001b[0mresult\u001b[0m \u001b[0;34m=\u001b[0m \u001b[0marg\u001b[0m\u001b[0;34m.\u001b[0m\u001b[0mmap\u001b[0m\u001b[0;34m(\u001b[0m\u001b[0mcache_array\u001b[0m\u001b[0;34m)\u001b[0m\u001b[0;34m\u001b[0m\u001b[0;34m\u001b[0m\u001b[0m\n\u001b[1;32m   1050\u001b[0m         \u001b[0;32melse\u001b[0m\u001b[0;34m:\u001b[0m\u001b[0;34m\u001b[0m\u001b[0;34m\u001b[0m\u001b[0m\n\u001b[0;32m-> 1051\u001b[0;31m             \u001b[0mvalues\u001b[0m \u001b[0;34m=\u001b[0m \u001b[0mconvert_listlike\u001b[0m\u001b[0;34m(\u001b[0m\u001b[0marg\u001b[0m\u001b[0;34m.\u001b[0m\u001b[0m_values\u001b[0m\u001b[0;34m,\u001b[0m \u001b[0mformat\u001b[0m\u001b[0;34m)\u001b[0m\u001b[0;34m\u001b[0m\u001b[0;34m\u001b[0m\u001b[0m\n\u001b[0m\u001b[1;32m   1052\u001b[0m             \u001b[0mresult\u001b[0m \u001b[0;34m=\u001b[0m \u001b[0marg\u001b[0m\u001b[0;34m.\u001b[0m\u001b[0m_constructor\u001b[0m\u001b[0;34m(\u001b[0m\u001b[0mvalues\u001b[0m\u001b[0;34m,\u001b[0m \u001b[0mindex\u001b[0m\u001b[0;34m=\u001b[0m\u001b[0marg\u001b[0m\u001b[0;34m.\u001b[0m\u001b[0mindex\u001b[0m\u001b[0;34m,\u001b[0m \u001b[0mname\u001b[0m\u001b[0;34m=\u001b[0m\u001b[0marg\u001b[0m\u001b[0;34m.\u001b[0m\u001b[0mname\u001b[0m\u001b[0;34m)\u001b[0m\u001b[0;34m\u001b[0m\u001b[0;34m\u001b[0m\u001b[0m\n\u001b[1;32m   1053\u001b[0m     \u001b[0;32melif\u001b[0m \u001b[0misinstance\u001b[0m\u001b[0;34m(\u001b[0m\u001b[0marg\u001b[0m\u001b[0;34m,\u001b[0m \u001b[0;34m(\u001b[0m\u001b[0mABCDataFrame\u001b[0m\u001b[0;34m,\u001b[0m \u001b[0mabc\u001b[0m\u001b[0;34m.\u001b[0m\u001b[0mMutableMapping\u001b[0m\u001b[0;34m)\u001b[0m\u001b[0;34m)\u001b[0m\u001b[0;34m:\u001b[0m\u001b[0;34m\u001b[0m\u001b[0;34m\u001b[0m\u001b[0m\n",
      "\u001b[0;32m~/opt/anaconda3/lib/python3.9/site-packages/pandas/core/tools/datetimes.py\u001b[0m in \u001b[0;36m_convert_listlike_datetimes\u001b[0;34m(arg, format, name, tz, unit, errors, infer_datetime_format, dayfirst, yearfirst, exact)\u001b[0m\n\u001b[1;32m    400\u001b[0m     \u001b[0;32massert\u001b[0m \u001b[0mformat\u001b[0m \u001b[0;32mis\u001b[0m \u001b[0;32mNone\u001b[0m \u001b[0;32mor\u001b[0m \u001b[0minfer_datetime_format\u001b[0m\u001b[0;34m\u001b[0m\u001b[0;34m\u001b[0m\u001b[0m\n\u001b[1;32m    401\u001b[0m     \u001b[0mutc\u001b[0m \u001b[0;34m=\u001b[0m \u001b[0mtz\u001b[0m \u001b[0;34m==\u001b[0m \u001b[0;34m\"utc\"\u001b[0m\u001b[0;34m\u001b[0m\u001b[0;34m\u001b[0m\u001b[0m\n\u001b[0;32m--> 402\u001b[0;31m     result, tz_parsed = objects_to_datetime64ns(\n\u001b[0m\u001b[1;32m    403\u001b[0m         \u001b[0marg\u001b[0m\u001b[0;34m,\u001b[0m\u001b[0;34m\u001b[0m\u001b[0;34m\u001b[0m\u001b[0m\n\u001b[1;32m    404\u001b[0m         \u001b[0mdayfirst\u001b[0m\u001b[0;34m=\u001b[0m\u001b[0mdayfirst\u001b[0m\u001b[0;34m,\u001b[0m\u001b[0;34m\u001b[0m\u001b[0;34m\u001b[0m\u001b[0m\n",
      "\u001b[0;32m~/opt/anaconda3/lib/python3.9/site-packages/pandas/core/arrays/datetimes.py\u001b[0m in \u001b[0;36mobjects_to_datetime64ns\u001b[0;34m(data, dayfirst, yearfirst, utc, errors, require_iso8601, allow_object, allow_mixed)\u001b[0m\n\u001b[1;32m   2215\u001b[0m             \u001b[0;32mreturn\u001b[0m \u001b[0mvalues\u001b[0m\u001b[0;34m.\u001b[0m\u001b[0mview\u001b[0m\u001b[0;34m(\u001b[0m\u001b[0;34m\"i8\"\u001b[0m\u001b[0;34m)\u001b[0m\u001b[0;34m,\u001b[0m \u001b[0mtz_parsed\u001b[0m\u001b[0;34m\u001b[0m\u001b[0;34m\u001b[0m\u001b[0m\n\u001b[1;32m   2216\u001b[0m         \u001b[0;32mexcept\u001b[0m \u001b[0;34m(\u001b[0m\u001b[0mValueError\u001b[0m\u001b[0;34m,\u001b[0m \u001b[0mTypeError\u001b[0m\u001b[0;34m)\u001b[0m\u001b[0;34m:\u001b[0m\u001b[0;34m\u001b[0m\u001b[0;34m\u001b[0m\u001b[0m\n\u001b[0;32m-> 2217\u001b[0;31m             \u001b[0;32mraise\u001b[0m \u001b[0merr\u001b[0m\u001b[0;34m\u001b[0m\u001b[0;34m\u001b[0m\u001b[0m\n\u001b[0m\u001b[1;32m   2218\u001b[0m \u001b[0;34m\u001b[0m\u001b[0m\n\u001b[1;32m   2219\u001b[0m     \u001b[0;32mif\u001b[0m \u001b[0mtz_parsed\u001b[0m \u001b[0;32mis\u001b[0m \u001b[0;32mnot\u001b[0m \u001b[0;32mNone\u001b[0m\u001b[0;34m:\u001b[0m\u001b[0;34m\u001b[0m\u001b[0;34m\u001b[0m\u001b[0m\n",
      "\u001b[0;32m~/opt/anaconda3/lib/python3.9/site-packages/pandas/core/arrays/datetimes.py\u001b[0m in \u001b[0;36mobjects_to_datetime64ns\u001b[0;34m(data, dayfirst, yearfirst, utc, errors, require_iso8601, allow_object, allow_mixed)\u001b[0m\n\u001b[1;32m   2197\u001b[0m     \u001b[0morder\u001b[0m\u001b[0;34m:\u001b[0m \u001b[0mLiteral\u001b[0m\u001b[0;34m[\u001b[0m\u001b[0;34m\"F\"\u001b[0m\u001b[0;34m,\u001b[0m \u001b[0;34m\"C\"\u001b[0m\u001b[0;34m]\u001b[0m \u001b[0;34m=\u001b[0m \u001b[0;34m\"F\"\u001b[0m \u001b[0;32mif\u001b[0m \u001b[0mflags\u001b[0m\u001b[0;34m.\u001b[0m\u001b[0mf_contiguous\u001b[0m \u001b[0;32melse\u001b[0m \u001b[0;34m\"C\"\u001b[0m\u001b[0;34m\u001b[0m\u001b[0;34m\u001b[0m\u001b[0m\n\u001b[1;32m   2198\u001b[0m     \u001b[0;32mtry\u001b[0m\u001b[0;34m:\u001b[0m\u001b[0;34m\u001b[0m\u001b[0;34m\u001b[0m\u001b[0m\n\u001b[0;32m-> 2199\u001b[0;31m         result, tz_parsed = tslib.array_to_datetime(\n\u001b[0m\u001b[1;32m   2200\u001b[0m             \u001b[0mdata\u001b[0m\u001b[0;34m.\u001b[0m\u001b[0mravel\u001b[0m\u001b[0;34m(\u001b[0m\u001b[0;34m\"K\"\u001b[0m\u001b[0;34m)\u001b[0m\u001b[0;34m,\u001b[0m\u001b[0;34m\u001b[0m\u001b[0;34m\u001b[0m\u001b[0m\n\u001b[1;32m   2201\u001b[0m             \u001b[0merrors\u001b[0m\u001b[0;34m=\u001b[0m\u001b[0merrors\u001b[0m\u001b[0;34m,\u001b[0m\u001b[0;34m\u001b[0m\u001b[0;34m\u001b[0m\u001b[0m\n",
      "\u001b[0;32m~/opt/anaconda3/lib/python3.9/site-packages/pandas/_libs/tslib.pyx\u001b[0m in \u001b[0;36mpandas._libs.tslib.array_to_datetime\u001b[0;34m()\u001b[0m\n",
      "\u001b[0;32m~/opt/anaconda3/lib/python3.9/site-packages/pandas/_libs/tslib.pyx\u001b[0m in \u001b[0;36mpandas._libs.tslib.array_to_datetime\u001b[0;34m()\u001b[0m\n",
      "\u001b[0;32m~/opt/anaconda3/lib/python3.9/site-packages/pandas/_libs/tslib.pyx\u001b[0m in \u001b[0;36mpandas._libs.tslib._array_to_datetime_object\u001b[0;34m()\u001b[0m\n",
      "\u001b[0;32m~/opt/anaconda3/lib/python3.9/site-packages/pandas/_libs/tslib.pyx\u001b[0m in \u001b[0;36mpandas._libs.tslib._array_to_datetime_object\u001b[0;34m()\u001b[0m\n",
      "\u001b[0;32m~/opt/anaconda3/lib/python3.9/site-packages/pandas/_libs/tslibs/parsing.pyx\u001b[0m in \u001b[0;36mpandas._libs.tslibs.parsing.parse_datetime_string\u001b[0;34m()\u001b[0m\n",
      "\u001b[0;32m~/opt/anaconda3/lib/python3.9/site-packages/dateutil/parser/_parser.py\u001b[0m in \u001b[0;36mparse\u001b[0;34m(timestr, parserinfo, **kwargs)\u001b[0m\n\u001b[1;32m   1366\u001b[0m         \u001b[0;32mreturn\u001b[0m \u001b[0mparser\u001b[0m\u001b[0;34m(\u001b[0m\u001b[0mparserinfo\u001b[0m\u001b[0;34m)\u001b[0m\u001b[0;34m.\u001b[0m\u001b[0mparse\u001b[0m\u001b[0;34m(\u001b[0m\u001b[0mtimestr\u001b[0m\u001b[0;34m,\u001b[0m \u001b[0;34m**\u001b[0m\u001b[0mkwargs\u001b[0m\u001b[0;34m)\u001b[0m\u001b[0;34m\u001b[0m\u001b[0;34m\u001b[0m\u001b[0m\n\u001b[1;32m   1367\u001b[0m     \u001b[0;32melse\u001b[0m\u001b[0;34m:\u001b[0m\u001b[0;34m\u001b[0m\u001b[0;34m\u001b[0m\u001b[0m\n\u001b[0;32m-> 1368\u001b[0;31m         \u001b[0;32mreturn\u001b[0m \u001b[0mDEFAULTPARSER\u001b[0m\u001b[0;34m.\u001b[0m\u001b[0mparse\u001b[0m\u001b[0;34m(\u001b[0m\u001b[0mtimestr\u001b[0m\u001b[0;34m,\u001b[0m \u001b[0;34m**\u001b[0m\u001b[0mkwargs\u001b[0m\u001b[0;34m)\u001b[0m\u001b[0;34m\u001b[0m\u001b[0;34m\u001b[0m\u001b[0m\n\u001b[0m\u001b[1;32m   1369\u001b[0m \u001b[0;34m\u001b[0m\u001b[0m\n\u001b[1;32m   1370\u001b[0m \u001b[0;34m\u001b[0m\u001b[0m\n",
      "\u001b[0;32m~/opt/anaconda3/lib/python3.9/site-packages/dateutil/parser/_parser.py\u001b[0m in \u001b[0;36mparse\u001b[0;34m(self, timestr, default, ignoretz, tzinfos, **kwargs)\u001b[0m\n\u001b[1;32m    641\u001b[0m \u001b[0;34m\u001b[0m\u001b[0m\n\u001b[1;32m    642\u001b[0m         \u001b[0;32mif\u001b[0m \u001b[0mres\u001b[0m \u001b[0;32mis\u001b[0m \u001b[0;32mNone\u001b[0m\u001b[0;34m:\u001b[0m\u001b[0;34m\u001b[0m\u001b[0;34m\u001b[0m\u001b[0m\n\u001b[0;32m--> 643\u001b[0;31m             \u001b[0;32mraise\u001b[0m \u001b[0mParserError\u001b[0m\u001b[0;34m(\u001b[0m\u001b[0;34m\"Unknown string format: %s\"\u001b[0m\u001b[0;34m,\u001b[0m \u001b[0mtimestr\u001b[0m\u001b[0;34m)\u001b[0m\u001b[0;34m\u001b[0m\u001b[0;34m\u001b[0m\u001b[0m\n\u001b[0m\u001b[1;32m    644\u001b[0m \u001b[0;34m\u001b[0m\u001b[0m\n\u001b[1;32m    645\u001b[0m         \u001b[0;32mif\u001b[0m \u001b[0mlen\u001b[0m\u001b[0;34m(\u001b[0m\u001b[0mres\u001b[0m\u001b[0;34m)\u001b[0m \u001b[0;34m==\u001b[0m \u001b[0;36m0\u001b[0m\u001b[0;34m:\u001b[0m\u001b[0;34m\u001b[0m\u001b[0;34m\u001b[0m\u001b[0m\n",
      "\u001b[0;31mParserError\u001b[0m: Unknown string format: 2021/130/1"
     ]
    }
   ],
   "source": [
    "# with errors\n",
    "s = pd.Series(['2023/1/1','2022/1/1','2021/130/1'])\n",
    "pd.to_datetime(s).dt.month_name()"
   ]
  },
  {
   "cell_type": "code",
   "execution_count": 37,
   "id": "99ed19e4-a676-46ff-942e-3485b9c43fa0",
   "metadata": {},
   "outputs": [
    {
     "data": {
      "text/plain": [
       "0    January\n",
       "1    January\n",
       "2        NaN\n",
       "dtype: object"
      ]
     },
     "execution_count": 37,
     "metadata": {},
     "output_type": "execute_result"
    }
   ],
   "source": [
    "# with errors\n",
    "s = pd.Series(['2023/1/1','2022/1/1','2021/130/1'])\n",
    "pd.to_datetime(s,errors='coerce').dt.month_name()"
   ]
  },
  {
   "cell_type": "code",
   "execution_count": 39,
   "id": "ee43ad21-9d30-46e4-99ea-d28e2bc5220b",
   "metadata": {},
   "outputs": [
    {
     "data": {
      "text/plain": [
       "(277, 11)"
      ]
     },
     "execution_count": 39,
     "metadata": {},
     "output_type": "execute_result"
    }
   ],
   "source": [
    "df = pd.read_csv('expense_data.csv')\n",
    "df.shape"
   ]
  },
  {
   "cell_type": "code",
   "execution_count": 41,
   "id": "72f55a56-5e48-402f-9511-9186e626c7a1",
   "metadata": {},
   "outputs": [
    {
     "data": {
      "text/html": [
       "<div>\n",
       "<style scoped>\n",
       "    .dataframe tbody tr th:only-of-type {\n",
       "        vertical-align: middle;\n",
       "    }\n",
       "\n",
       "    .dataframe tbody tr th {\n",
       "        vertical-align: top;\n",
       "    }\n",
       "\n",
       "    .dataframe thead th {\n",
       "        text-align: right;\n",
       "    }\n",
       "</style>\n",
       "<table border=\"1\" class=\"dataframe\">\n",
       "  <thead>\n",
       "    <tr style=\"text-align: right;\">\n",
       "      <th></th>\n",
       "      <th>Date</th>\n",
       "      <th>Account</th>\n",
       "      <th>Category</th>\n",
       "      <th>Subcategory</th>\n",
       "      <th>Note</th>\n",
       "      <th>INR</th>\n",
       "      <th>Income/Expense</th>\n",
       "      <th>Note.1</th>\n",
       "      <th>Amount</th>\n",
       "      <th>Currency</th>\n",
       "      <th>Account.1</th>\n",
       "    </tr>\n",
       "  </thead>\n",
       "  <tbody>\n",
       "    <tr>\n",
       "      <th>0</th>\n",
       "      <td>3/2/2022 10:11</td>\n",
       "      <td>CUB - online payment</td>\n",
       "      <td>Food</td>\n",
       "      <td>NaN</td>\n",
       "      <td>Brownie</td>\n",
       "      <td>50.0</td>\n",
       "      <td>Expense</td>\n",
       "      <td>NaN</td>\n",
       "      <td>50.0</td>\n",
       "      <td>INR</td>\n",
       "      <td>50.0</td>\n",
       "    </tr>\n",
       "    <tr>\n",
       "      <th>1</th>\n",
       "      <td>3/2/2022 10:11</td>\n",
       "      <td>CUB - online payment</td>\n",
       "      <td>Other</td>\n",
       "      <td>NaN</td>\n",
       "      <td>To lended people</td>\n",
       "      <td>300.0</td>\n",
       "      <td>Expense</td>\n",
       "      <td>NaN</td>\n",
       "      <td>300.0</td>\n",
       "      <td>INR</td>\n",
       "      <td>300.0</td>\n",
       "    </tr>\n",
       "    <tr>\n",
       "      <th>2</th>\n",
       "      <td>3/1/2022 19:50</td>\n",
       "      <td>CUB - online payment</td>\n",
       "      <td>Food</td>\n",
       "      <td>NaN</td>\n",
       "      <td>Dinner</td>\n",
       "      <td>78.0</td>\n",
       "      <td>Expense</td>\n",
       "      <td>NaN</td>\n",
       "      <td>78.0</td>\n",
       "      <td>INR</td>\n",
       "      <td>78.0</td>\n",
       "    </tr>\n",
       "    <tr>\n",
       "      <th>3</th>\n",
       "      <td>3/1/2022 18:56</td>\n",
       "      <td>CUB - online payment</td>\n",
       "      <td>Transportation</td>\n",
       "      <td>NaN</td>\n",
       "      <td>Metro</td>\n",
       "      <td>30.0</td>\n",
       "      <td>Expense</td>\n",
       "      <td>NaN</td>\n",
       "      <td>30.0</td>\n",
       "      <td>INR</td>\n",
       "      <td>30.0</td>\n",
       "    </tr>\n",
       "    <tr>\n",
       "      <th>4</th>\n",
       "      <td>3/1/2022 18:22</td>\n",
       "      <td>CUB - online payment</td>\n",
       "      <td>Food</td>\n",
       "      <td>NaN</td>\n",
       "      <td>Snacks</td>\n",
       "      <td>67.0</td>\n",
       "      <td>Expense</td>\n",
       "      <td>NaN</td>\n",
       "      <td>67.0</td>\n",
       "      <td>INR</td>\n",
       "      <td>67.0</td>\n",
       "    </tr>\n",
       "  </tbody>\n",
       "</table>\n",
       "</div>"
      ],
      "text/plain": [
       "             Date               Account        Category  Subcategory  \\\n",
       "0  3/2/2022 10:11  CUB - online payment            Food          NaN   \n",
       "1  3/2/2022 10:11  CUB - online payment           Other          NaN   \n",
       "2  3/1/2022 19:50  CUB - online payment            Food          NaN   \n",
       "3  3/1/2022 18:56  CUB - online payment  Transportation          NaN   \n",
       "4  3/1/2022 18:22  CUB - online payment            Food          NaN   \n",
       "\n",
       "               Note    INR Income/Expense  Note.1  Amount Currency  Account.1  \n",
       "0           Brownie   50.0        Expense     NaN    50.0      INR       50.0  \n",
       "1  To lended people  300.0        Expense     NaN   300.0      INR      300.0  \n",
       "2            Dinner   78.0        Expense     NaN    78.0      INR       78.0  \n",
       "3             Metro   30.0        Expense     NaN    30.0      INR       30.0  \n",
       "4            Snacks   67.0        Expense     NaN    67.0      INR       67.0  "
      ]
     },
     "execution_count": 41,
     "metadata": {},
     "output_type": "execute_result"
    }
   ],
   "source": [
    "df.head()"
   ]
  },
  {
   "cell_type": "code",
   "execution_count": 42,
   "id": "d81dc87c-9821-4aa1-b6a2-18648ec31a69",
   "metadata": {},
   "outputs": [],
   "source": [
    "df['Date'] = pd.to_datetime(df['Date'])"
   ]
  },
  {
   "cell_type": "code",
   "execution_count": 43,
   "id": "d7b9cbc8-7f74-4696-9290-b4d409eb3364",
   "metadata": {},
   "outputs": [
    {
     "name": "stdout",
     "output_type": "stream",
     "text": [
      "<class 'pandas.core.frame.DataFrame'>\n",
      "RangeIndex: 277 entries, 0 to 276\n",
      "Data columns (total 11 columns):\n",
      " #   Column          Non-Null Count  Dtype         \n",
      "---  ------          --------------  -----         \n",
      " 0   Date            277 non-null    datetime64[ns]\n",
      " 1   Account         277 non-null    object        \n",
      " 2   Category        277 non-null    object        \n",
      " 3   Subcategory     0 non-null      float64       \n",
      " 4   Note            273 non-null    object        \n",
      " 5   INR             277 non-null    float64       \n",
      " 6   Income/Expense  277 non-null    object        \n",
      " 7   Note.1          0 non-null      float64       \n",
      " 8   Amount          277 non-null    float64       \n",
      " 9   Currency        277 non-null    object        \n",
      " 10  Account.1       277 non-null    float64       \n",
      "dtypes: datetime64[ns](1), float64(5), object(5)\n",
      "memory usage: 23.9+ KB\n"
     ]
    }
   ],
   "source": [
    "df.info()\n"
   ]
  },
  {
   "cell_type": "code",
   "execution_count": 44,
   "id": "455195e6-8b02-4b35-bf2c-5cdcafdaa5fb",
   "metadata": {},
   "outputs": [
    {
     "data": {
      "text/plain": [
       "0      2022\n",
       "1      2022\n",
       "2      2022\n",
       "3      2022\n",
       "4      2022\n",
       "       ... \n",
       "272    2021\n",
       "273    2021\n",
       "274    2021\n",
       "275    2021\n",
       "276    2021\n",
       "Name: Date, Length: 277, dtype: int64"
      ]
     },
     "execution_count": 44,
     "metadata": {},
     "output_type": "execute_result"
    }
   ],
   "source": [
    "df['Date'].dt.year"
   ]
  },
  {
   "cell_type": "code",
   "execution_count": 45,
   "id": "8c835ece-e762-46d2-ab49-3e44d4209905",
   "metadata": {},
   "outputs": [
    {
     "data": {
      "text/plain": [
       "0      False\n",
       "1      False\n",
       "2      False\n",
       "3      False\n",
       "4      False\n",
       "       ...  \n",
       "272    False\n",
       "273    False\n",
       "274    False\n",
       "275    False\n",
       "276    False\n",
       "Name: Date, Length: 277, dtype: bool"
      ]
     },
     "execution_count": 45,
     "metadata": {},
     "output_type": "execute_result"
    }
   ],
   "source": [
    "df['Date'].dt.is_month_end"
   ]
  },
  {
   "cell_type": "code",
   "execution_count": 46,
   "id": "99668577-f457-4dc9-8985-0f8fc83c40b0",
   "metadata": {},
   "outputs": [
    {
     "data": {
      "text/plain": [
       "0      False\n",
       "1      False\n",
       "2      False\n",
       "3      False\n",
       "4      False\n",
       "       ...  \n",
       "272    False\n",
       "273    False\n",
       "274    False\n",
       "275    False\n",
       "276    False\n",
       "Name: Date, Length: 277, dtype: bool"
      ]
     },
     "execution_count": 46,
     "metadata": {},
     "output_type": "execute_result"
    }
   ],
   "source": [
    "df['Date'].dt.is_quarter_start"
   ]
  },
  {
   "cell_type": "code",
   "execution_count": 47,
   "id": "358dc1f3-ef97-4b09-90cb-89cb11e8ed3a",
   "metadata": {},
   "outputs": [
    {
     "data": {
      "text/plain": [
       "[<matplotlib.lines.Line2D at 0x12d2e3ca0>]"
      ]
     },
     "execution_count": 47,
     "metadata": {},
     "output_type": "execute_result"
    },
    {
     "data": {
      "image/png": "[encoded data removed]",
      "text/plain": [
       "<Figure size 432x288 with 1 Axes>"
      ]
     },
     "metadata": {
      "needs_background": "light"
     },
     "output_type": "display_data"
    }
   ],
   "source": [
    "# plot graph\n",
    "import matplotlib.pyplot as plt\n",
    "plt.plot(df['Date'],df['INR'])"
   ]
  },
  {
   "cell_type": "code",
   "execution_count": 48,
   "id": "693c5feb-9888-4f7f-953a-cb915c741a31",
   "metadata": {},
   "outputs": [],
   "source": [
    "# day name wise bar chart/month wise bar chart\n",
    "\n",
    "df['day_name'] = df['Date'].dt.day_name()"
   ]
  },
  {
   "cell_type": "code",
   "execution_count": 49,
   "id": "a0d12f16-3e3d-47c4-8081-b0607e57897d",
   "metadata": {},
   "outputs": [
    {
     "data": {
      "text/plain": [
       "<AxesSubplot:xlabel='day_name'>"
      ]
     },
     "execution_count": 49,
     "metadata": {},
     "output_type": "execute_result"
    },
    {
     "data": {
      "image/png": "[encoded data removed]",
      "text/plain": [
       "<Figure size 432x288 with 1 Axes>"
      ]
     },
     "metadata": {
      "needs_background": "light"
     },
     "output_type": "display_data"
    }
   ],
   "source": [
    "df.groupby('day_name')['INR'].mean().plot(kind='bar')"
   ]
  },
  {
   "cell_type": "code",
   "execution_count": 50,
   "id": "866898e5-3c14-4092-b6a5-677c83278054",
   "metadata": {},
   "outputs": [
    {
     "data": {
      "text/html": [
       "<div>\n",
       "<style scoped>\n",
       "    .dataframe tbody tr th:only-of-type {\n",
       "        vertical-align: middle;\n",
       "    }\n",
       "\n",
       "    .dataframe tbody tr th {\n",
       "        vertical-align: top;\n",
       "    }\n",
       "\n",
       "    .dataframe thead th {\n",
       "        text-align: right;\n",
       "    }\n",
       "</style>\n",
       "<table border=\"1\" class=\"dataframe\">\n",
       "  <thead>\n",
       "    <tr style=\"text-align: right;\">\n",
       "      <th></th>\n",
       "      <th>Date</th>\n",
       "      <th>Account</th>\n",
       "      <th>Category</th>\n",
       "      <th>Subcategory</th>\n",
       "      <th>Note</th>\n",
       "      <th>INR</th>\n",
       "      <th>Income/Expense</th>\n",
       "      <th>Note.1</th>\n",
       "      <th>Amount</th>\n",
       "      <th>Currency</th>\n",
       "      <th>Account.1</th>\n",
       "      <th>day_name</th>\n",
       "    </tr>\n",
       "  </thead>\n",
       "  <tbody>\n",
       "    <tr>\n",
       "      <th>7</th>\n",
       "      <td>2022-02-28 11:56:00</td>\n",
       "      <td>CUB - online payment</td>\n",
       "      <td>Food</td>\n",
       "      <td>NaN</td>\n",
       "      <td>Pizza</td>\n",
       "      <td>339.15</td>\n",
       "      <td>Expense</td>\n",
       "      <td>NaN</td>\n",
       "      <td>339.15</td>\n",
       "      <td>INR</td>\n",
       "      <td>339.15</td>\n",
       "      <td>Monday</td>\n",
       "    </tr>\n",
       "    <tr>\n",
       "      <th>8</th>\n",
       "      <td>2022-02-28 11:45:00</td>\n",
       "      <td>CUB - online payment</td>\n",
       "      <td>Other</td>\n",
       "      <td>NaN</td>\n",
       "      <td>From kumara</td>\n",
       "      <td>200.00</td>\n",
       "      <td>Income</td>\n",
       "      <td>NaN</td>\n",
       "      <td>200.00</td>\n",
       "      <td>INR</td>\n",
       "      <td>200.00</td>\n",
       "      <td>Monday</td>\n",
       "    </tr>\n",
       "    <tr>\n",
       "      <th>61</th>\n",
       "      <td>2022-01-31 08:44:00</td>\n",
       "      <td>CUB - online payment</td>\n",
       "      <td>Transportation</td>\n",
       "      <td>NaN</td>\n",
       "      <td>Vnr to apk</td>\n",
       "      <td>50.00</td>\n",
       "      <td>Expense</td>\n",
       "      <td>NaN</td>\n",
       "      <td>50.00</td>\n",
       "      <td>INR</td>\n",
       "      <td>50.00</td>\n",
       "      <td>Monday</td>\n",
       "    </tr>\n",
       "    <tr>\n",
       "      <th>62</th>\n",
       "      <td>2022-01-31 08:27:00</td>\n",
       "      <td>CUB - online payment</td>\n",
       "      <td>Other</td>\n",
       "      <td>NaN</td>\n",
       "      <td>To vicky</td>\n",
       "      <td>200.00</td>\n",
       "      <td>Expense</td>\n",
       "      <td>NaN</td>\n",
       "      <td>200.00</td>\n",
       "      <td>INR</td>\n",
       "      <td>200.00</td>\n",
       "      <td>Monday</td>\n",
       "    </tr>\n",
       "    <tr>\n",
       "      <th>63</th>\n",
       "      <td>2022-01-31 08:26:00</td>\n",
       "      <td>CUB - online payment</td>\n",
       "      <td>Transportation</td>\n",
       "      <td>NaN</td>\n",
       "      <td>To ksr station</td>\n",
       "      <td>153.00</td>\n",
       "      <td>Expense</td>\n",
       "      <td>NaN</td>\n",
       "      <td>153.00</td>\n",
       "      <td>INR</td>\n",
       "      <td>153.00</td>\n",
       "      <td>Monday</td>\n",
       "    </tr>\n",
       "    <tr>\n",
       "      <th>242</th>\n",
       "      <td>2021-11-30 14:24:00</td>\n",
       "      <td>CUB - online payment</td>\n",
       "      <td>Gift</td>\n",
       "      <td>NaN</td>\n",
       "      <td>Bharath birthday</td>\n",
       "      <td>115.00</td>\n",
       "      <td>Expense</td>\n",
       "      <td>NaN</td>\n",
       "      <td>115.00</td>\n",
       "      <td>INR</td>\n",
       "      <td>115.00</td>\n",
       "      <td>Tuesday</td>\n",
       "    </tr>\n",
       "    <tr>\n",
       "      <th>243</th>\n",
       "      <td>2021-11-30 14:17:00</td>\n",
       "      <td>CUB - online payment</td>\n",
       "      <td>Food</td>\n",
       "      <td>NaN</td>\n",
       "      <td>Lunch with company</td>\n",
       "      <td>128.00</td>\n",
       "      <td>Expense</td>\n",
       "      <td>NaN</td>\n",
       "      <td>128.00</td>\n",
       "      <td>INR</td>\n",
       "      <td>128.00</td>\n",
       "      <td>Tuesday</td>\n",
       "    </tr>\n",
       "    <tr>\n",
       "      <th>244</th>\n",
       "      <td>2021-11-30 10:11:00</td>\n",
       "      <td>CUB - online payment</td>\n",
       "      <td>Food</td>\n",
       "      <td>NaN</td>\n",
       "      <td>Breakfast</td>\n",
       "      <td>70.00</td>\n",
       "      <td>Expense</td>\n",
       "      <td>NaN</td>\n",
       "      <td>70.00</td>\n",
       "      <td>INR</td>\n",
       "      <td>70.00</td>\n",
       "      <td>Tuesday</td>\n",
       "    </tr>\n",
       "  </tbody>\n",
       "</table>\n",
       "</div>"
      ],
      "text/plain": [
       "                   Date               Account        Category  Subcategory  \\\n",
       "7   2022-02-28 11:56:00  CUB - online payment            Food          NaN   \n",
       "8   2022-02-28 11:45:00  CUB - online payment           Other          NaN   \n",
       "61  2022-01-31 08:44:00  CUB - online payment  Transportation          NaN   \n",
       "62  2022-01-31 08:27:00  CUB - online payment           Other          NaN   \n",
       "63  2022-01-31 08:26:00  CUB - online payment  Transportation          NaN   \n",
       "242 2021-11-30 14:24:00  CUB - online payment            Gift          NaN   \n",
       "243 2021-11-30 14:17:00  CUB - online payment            Food          NaN   \n",
       "244 2021-11-30 10:11:00  CUB - online payment            Food          NaN   \n",
       "\n",
       "                   Note     INR Income/Expense  Note.1  Amount Currency  \\\n",
       "7                 Pizza  339.15        Expense     NaN  339.15      INR   \n",
       "8           From kumara  200.00         Income     NaN  200.00      INR   \n",
       "61           Vnr to apk   50.00        Expense     NaN   50.00      INR   \n",
       "62             To vicky  200.00        Expense     NaN  200.00      INR   \n",
       "63       To ksr station  153.00        Expense     NaN  153.00      INR   \n",
       "242    Bharath birthday  115.00        Expense     NaN  115.00      INR   \n",
       "243  Lunch with company  128.00        Expense     NaN  128.00      INR   \n",
       "244           Breakfast   70.00        Expense     NaN   70.00      INR   \n",
       "\n",
       "     Account.1 day_name  \n",
       "7       339.15   Monday  \n",
       "8       200.00   Monday  \n",
       "61       50.00   Monday  \n",
       "62      200.00   Monday  \n",
       "63      153.00   Monday  \n",
       "242     115.00  Tuesday  \n",
       "243     128.00  Tuesday  \n",
       "244      70.00  Tuesday  "
      ]
     },
     "execution_count": 50,
     "metadata": {},
     "output_type": "execute_result"
    }
   ],
   "source": [
    "#is month end\n",
    "df[df['Date'].dt.is_month_end]"
   ]
  },
  {
   "cell_type": "markdown",
   "id": "e4972211-5e3f-464b-b859-00c063e673e7",
   "metadata": {},
   "source": [
    "# Timedelta Object\n",
    "\n",
    "Represents a duration, the difference between two dates or times."
   ]
  },
  {
   "cell_type": "code",
   "execution_count": 63,
   "id": "69e3fd67-a7ab-4105-b4fd-613fae94d608",
   "metadata": {},
   "outputs": [
    {
     "data": {
      "text/plain": [
       "Timedelta('20 days 01:39:46')"
      ]
     },
     "execution_count": 63,
     "metadata": {},
     "output_type": "execute_result"
    }
   ],
   "source": [
    "# create using Timestamp objects\n",
    "t1 = pd.Timestamp('6th Jan 2023 8:20:14')\n",
    "t2 = pd.Timestamp('26th Jan 2023 10:00:00')\n",
    "\n",
    "t2 - t1"
   ]
  },
  {
   "cell_type": "code",
   "execution_count": 65,
   "id": "b0b83106-f871-4760-9c94-09c6893e042e",
   "metadata": {},
   "outputs": [
    {
     "data": {
      "text/plain": [
       "Timedelta('2 days 10:35:00')"
      ]
     },
     "execution_count": 65,
     "metadata": {},
     "output_type": "execute_result"
    }
   ],
   "source": [
    "# standalone creation\n",
    "pd.Timedelta(days=2,hours=10,minutes=35)"
   ]
  },
  {
   "cell_type": "code",
   "execution_count": 67,
   "id": "acc166de-4d86-4b2f-b39c-e60bb986d27c",
   "metadata": {},
   "outputs": [
    {
     "data": {
      "text/plain": [
       "Timestamp('2025-05-15 10:35:00')"
      ]
     },
     "execution_count": 67,
     "metadata": {},
     "output_type": "execute_result"
    }
   ],
   "source": [
    "# Arithmetic\n",
    "pd.Timestamp('13th may 2025') + pd.Timedelta(days=2,hours=10,minutes=35)"
   ]
  },
  {
   "cell_type": "code",
   "execution_count": 69,
   "id": "5a35e5bb-e6fd-48a8-ad25-c01c16ee088e",
   "metadata": {},
   "outputs": [
    {
     "data": {
      "text/plain": [
       "DatetimeIndex(['2023-01-03 13:25:00', '2023-01-04 13:25:00',\n",
       "               '2023-01-05 13:25:00', '2023-01-06 13:25:00',\n",
       "               '2023-01-07 13:25:00', '2023-01-08 13:25:00',\n",
       "               '2023-01-09 13:25:00', '2023-01-10 13:25:00',\n",
       "               '2023-01-11 13:25:00', '2023-01-12 13:25:00',\n",
       "               '2023-01-13 13:25:00', '2023-01-14 13:25:00',\n",
       "               '2023-01-15 13:25:00', '2023-01-16 13:25:00',\n",
       "               '2023-01-17 13:25:00', '2023-01-18 13:25:00',\n",
       "               '2023-01-19 13:25:00', '2023-01-20 13:25:00',\n",
       "               '2023-01-21 13:25:00', '2023-01-22 13:25:00',\n",
       "               '2023-01-23 13:25:00', '2023-01-24 13:25:00',\n",
       "               '2023-01-25 13:25:00', '2023-01-26 13:25:00',\n",
       "               '2023-01-27 13:25:00', '2023-01-28 13:25:00'],\n",
       "              dtype='datetime64[ns]', freq='D')"
      ]
     },
     "execution_count": 69,
     "metadata": {},
     "output_type": "execute_result"
    }
   ],
   "source": [
    "pd.date_range(start='2023-1-6',end='2023-1-31',freq='D') - pd.Timedelta(days=2,hours=10,minutes=35)"
   ]
  },
  {
   "cell_type": "markdown",
   "id": "7a05d436-5f4d-4903-b1fd-5fbab83b09b4",
   "metadata": {},
   "source": [
    "# Time series\n",
    "\n",
    "A time series is a data set that tracks a sample over time. In particular, a time series allows one to see what factors influence certain variables from period to period. Time series analysis can be useful to see how a given asset, security, or economic variable changes over time.\n",
    "\n",
    "Examples\n",
    "\n",
    "- Financial Data (Company stocks)\n",
    "- Natural Data (Rainfall measurement)\n",
    "- Event Data (Covid)\n",
    "- Medical Data (Heart rate monitoring)\n",
    "\n",
    "Types of Operations done on Time Series\n",
    "\n",
    "- Time Series Analysis\n",
    "- Time Series Forecasting"
   ]
  },
  {
   "cell_type": "code",
   "execution_count": 83,
   "id": "c317e74d-899f-4e9e-9af7-e28a552f0746",
   "metadata": {},
   "outputs": [],
   "source": [
    "google=pd.read_csv('google-stocks.csv',parse_dates=['Date'])"
   ]
  },
  {
   "cell_type": "code",
   "execution_count": 85,
   "id": "0b182496-576d-4b2b-a8f1-bb54e19d3d33",
   "metadata": {},
   "outputs": [
    {
     "data": {
      "text/html": [
       "<div>\n",
       "<style scoped>\n",
       "    .dataframe tbody tr th:only-of-type {\n",
       "        vertical-align: middle;\n",
       "    }\n",
       "\n",
       "    .dataframe tbody tr th {\n",
       "        vertical-align: top;\n",
       "    }\n",
       "\n",
       "    .dataframe thead th {\n",
       "        text-align: right;\n",
       "    }\n",
       "</style>\n",
       "<table border=\"1\" class=\"dataframe\">\n",
       "  <thead>\n",
       "    <tr style=\"text-align: right;\">\n",
       "      <th></th>\n",
       "      <th>Date</th>\n",
       "      <th>Open</th>\n",
       "      <th>High</th>\n",
       "      <th>Low</th>\n",
       "      <th>Close</th>\n",
       "      <th>Adj Close</th>\n",
       "      <th>Volume</th>\n",
       "    </tr>\n",
       "  </thead>\n",
       "  <tbody>\n",
       "    <tr>\n",
       "      <th>0</th>\n",
       "      <td>2004-08-19</td>\n",
       "      <td>50.050049</td>\n",
       "      <td>52.082081</td>\n",
       "      <td>48.028027</td>\n",
       "      <td>50.220219</td>\n",
       "      <td>50.220219</td>\n",
       "      <td>44659096</td>\n",
       "    </tr>\n",
       "    <tr>\n",
       "      <th>1</th>\n",
       "      <td>2004-08-20</td>\n",
       "      <td>50.555557</td>\n",
       "      <td>54.594597</td>\n",
       "      <td>50.300301</td>\n",
       "      <td>54.209209</td>\n",
       "      <td>54.209209</td>\n",
       "      <td>22834343</td>\n",
       "    </tr>\n",
       "    <tr>\n",
       "      <th>2</th>\n",
       "      <td>2004-08-23</td>\n",
       "      <td>55.430431</td>\n",
       "      <td>56.796799</td>\n",
       "      <td>54.579578</td>\n",
       "      <td>54.754753</td>\n",
       "      <td>54.754753</td>\n",
       "      <td>18256126</td>\n",
       "    </tr>\n",
       "    <tr>\n",
       "      <th>3</th>\n",
       "      <td>2004-08-24</td>\n",
       "      <td>55.675674</td>\n",
       "      <td>55.855858</td>\n",
       "      <td>51.836838</td>\n",
       "      <td>52.487488</td>\n",
       "      <td>52.487488</td>\n",
       "      <td>15247337</td>\n",
       "    </tr>\n",
       "    <tr>\n",
       "      <th>4</th>\n",
       "      <td>2004-08-25</td>\n",
       "      <td>52.532532</td>\n",
       "      <td>54.054054</td>\n",
       "      <td>51.991993</td>\n",
       "      <td>53.053055</td>\n",
       "      <td>53.053055</td>\n",
       "      <td>9188602</td>\n",
       "    </tr>\n",
       "  </tbody>\n",
       "</table>\n",
       "</div>"
      ],
      "text/plain": [
       "        Date       Open       High        Low      Close  Adj Close    Volume\n",
       "0 2004-08-19  50.050049  52.082081  48.028027  50.220219  50.220219  44659096\n",
       "1 2004-08-20  50.555557  54.594597  50.300301  54.209209  54.209209  22834343\n",
       "2 2004-08-23  55.430431  56.796799  54.579578  54.754753  54.754753  18256126\n",
       "3 2004-08-24  55.675674  55.855858  51.836838  52.487488  52.487488  15247337\n",
       "4 2004-08-25  52.532532  54.054054  51.991993  53.053055  53.053055   9188602"
      ]
     },
     "execution_count": 85,
     "metadata": {},
     "output_type": "execute_result"
    }
   ],
   "source": [
    "google.head()"
   ]
  },
  {
   "cell_type": "code",
   "execution_count": 87,
   "id": "834994f3-350c-4c16-bb48-f02ebc5837ab",
   "metadata": {},
   "outputs": [
    {
     "name": "stdout",
     "output_type": "stream",
     "text": [
      "<class 'pandas.core.frame.DataFrame'>\n",
      "RangeIndex: 4431 entries, 0 to 4430\n",
      "Data columns (total 7 columns):\n",
      " #   Column     Non-Null Count  Dtype         \n",
      "---  ------     --------------  -----         \n",
      " 0   Date       4431 non-null   datetime64[ns]\n",
      " 1   Open       4431 non-null   float64       \n",
      " 2   High       4431 non-null   float64       \n",
      " 3   Low        4431 non-null   float64       \n",
      " 4   Close      4431 non-null   float64       \n",
      " 5   Adj Close  4431 non-null   float64       \n",
      " 6   Volume     4431 non-null   int64         \n",
      "dtypes: datetime64[ns](1), float64(5), int64(1)\n",
      "memory usage: 242.4 KB\n"
     ]
    }
   ],
   "source": [
    "google.info()"
   ]
  },
  {
   "cell_type": "code",
   "execution_count": 89,
   "id": "47949c70-29b8-472c-8e18-c6c854d168a3",
   "metadata": {},
   "outputs": [],
   "source": [
    "google.set_index('Date',inplace=True)"
   ]
  },
  {
   "cell_type": "code",
   "execution_count": 91,
   "id": "465361ad-be8f-4d44-b91b-75e49f1bc1e0",
   "metadata": {},
   "outputs": [
    {
     "data": {
      "text/html": [
       "<div>\n",
       "<style scoped>\n",
       "    .dataframe tbody tr th:only-of-type {\n",
       "        vertical-align: middle;\n",
       "    }\n",
       "\n",
       "    .dataframe tbody tr th {\n",
       "        vertical-align: top;\n",
       "    }\n",
       "\n",
       "    .dataframe thead th {\n",
       "        text-align: right;\n",
       "    }\n",
       "</style>\n",
       "<table border=\"1\" class=\"dataframe\">\n",
       "  <thead>\n",
       "    <tr style=\"text-align: right;\">\n",
       "      <th></th>\n",
       "      <th>Open</th>\n",
       "      <th>High</th>\n",
       "      <th>Low</th>\n",
       "      <th>Close</th>\n",
       "      <th>Adj Close</th>\n",
       "      <th>Volume</th>\n",
       "    </tr>\n",
       "    <tr>\n",
       "      <th>Date</th>\n",
       "      <th></th>\n",
       "      <th></th>\n",
       "      <th></th>\n",
       "      <th></th>\n",
       "      <th></th>\n",
       "      <th></th>\n",
       "    </tr>\n",
       "  </thead>\n",
       "  <tbody>\n",
       "    <tr>\n",
       "      <th>2004-08-19</th>\n",
       "      <td>50.050049</td>\n",
       "      <td>52.082081</td>\n",
       "      <td>48.028027</td>\n",
       "      <td>50.220219</td>\n",
       "      <td>50.220219</td>\n",
       "      <td>44659096</td>\n",
       "    </tr>\n",
       "    <tr>\n",
       "      <th>2004-08-20</th>\n",
       "      <td>50.555557</td>\n",
       "      <td>54.594597</td>\n",
       "      <td>50.300301</td>\n",
       "      <td>54.209209</td>\n",
       "      <td>54.209209</td>\n",
       "      <td>22834343</td>\n",
       "    </tr>\n",
       "    <tr>\n",
       "      <th>2004-08-23</th>\n",
       "      <td>55.430431</td>\n",
       "      <td>56.796799</td>\n",
       "      <td>54.579578</td>\n",
       "      <td>54.754753</td>\n",
       "      <td>54.754753</td>\n",
       "      <td>18256126</td>\n",
       "    </tr>\n",
       "    <tr>\n",
       "      <th>2004-08-24</th>\n",
       "      <td>55.675674</td>\n",
       "      <td>55.855858</td>\n",
       "      <td>51.836838</td>\n",
       "      <td>52.487488</td>\n",
       "      <td>52.487488</td>\n",
       "      <td>15247337</td>\n",
       "    </tr>\n",
       "    <tr>\n",
       "      <th>2004-08-25</th>\n",
       "      <td>52.532532</td>\n",
       "      <td>54.054054</td>\n",
       "      <td>51.991993</td>\n",
       "      <td>53.053055</td>\n",
       "      <td>53.053055</td>\n",
       "      <td>9188602</td>\n",
       "    </tr>\n",
       "  </tbody>\n",
       "</table>\n",
       "</div>"
      ],
      "text/plain": [
       "                 Open       High        Low      Close  Adj Close    Volume\n",
       "Date                                                                       \n",
       "2004-08-19  50.050049  52.082081  48.028027  50.220219  50.220219  44659096\n",
       "2004-08-20  50.555557  54.594597  50.300301  54.209209  54.209209  22834343\n",
       "2004-08-23  55.430431  56.796799  54.579578  54.754753  54.754753  18256126\n",
       "2004-08-24  55.675674  55.855858  51.836838  52.487488  52.487488  15247337\n",
       "2004-08-25  52.532532  54.054054  51.991993  53.053055  53.053055   9188602"
      ]
     },
     "execution_count": 91,
     "metadata": {},
     "output_type": "execute_result"
    }
   ],
   "source": [
    "google.head()"
   ]
  },
  {
   "cell_type": "code",
   "execution_count": 97,
   "id": "e2c79ec8-43ec-4f18-9d4a-792ad45a359f",
   "metadata": {},
   "outputs": [
    {
     "data": {
      "text/plain": [
       "Open         5.005005e+01\n",
       "High         5.208208e+01\n",
       "Low          4.802803e+01\n",
       "Close        5.022022e+01\n",
       "Adj Close    5.022022e+01\n",
       "Volume       4.465910e+07\n",
       "Name: 2004-08-19 00:00:00, dtype: float64"
      ]
     },
     "execution_count": 97,
     "metadata": {},
     "output_type": "execute_result"
    }
   ],
   "source": [
    "#fetch specific date data\n",
    "google.loc['2004-08-19']"
   ]
  },
  {
   "cell_type": "code",
   "execution_count": 101,
   "id": "ecf9db34-9887-4808-ade6-23ef36ed8edf",
   "metadata": {},
   "outputs": [
    {
     "data": {
      "text/html": [
       "<div>\n",
       "<style scoped>\n",
       "    .dataframe tbody tr th:only-of-type {\n",
       "        vertical-align: middle;\n",
       "    }\n",
       "\n",
       "    .dataframe tbody tr th {\n",
       "        vertical-align: top;\n",
       "    }\n",
       "\n",
       "    .dataframe thead th {\n",
       "        text-align: right;\n",
       "    }\n",
       "</style>\n",
       "<table border=\"1\" class=\"dataframe\">\n",
       "  <thead>\n",
       "    <tr style=\"text-align: right;\">\n",
       "      <th></th>\n",
       "      <th>Open</th>\n",
       "      <th>High</th>\n",
       "      <th>Low</th>\n",
       "      <th>Close</th>\n",
       "      <th>Adj Close</th>\n",
       "      <th>Volume</th>\n",
       "    </tr>\n",
       "    <tr>\n",
       "      <th>Date</th>\n",
       "      <th></th>\n",
       "      <th></th>\n",
       "      <th></th>\n",
       "      <th></th>\n",
       "      <th></th>\n",
       "      <th></th>\n",
       "    </tr>\n",
       "  </thead>\n",
       "  <tbody>\n",
       "    <tr>\n",
       "      <th>2004-09-01</th>\n",
       "      <td>51.401402</td>\n",
       "      <td>51.536537</td>\n",
       "      <td>49.884884</td>\n",
       "      <td>50.175175</td>\n",
       "      <td>50.175175</td>\n",
       "      <td>9138253</td>\n",
       "    </tr>\n",
       "    <tr>\n",
       "      <th>2004-09-02</th>\n",
       "      <td>49.644646</td>\n",
       "      <td>51.236237</td>\n",
       "      <td>49.519520</td>\n",
       "      <td>50.805805</td>\n",
       "      <td>50.805805</td>\n",
       "      <td>15118666</td>\n",
       "    </tr>\n",
       "    <tr>\n",
       "      <th>2004-09-03</th>\n",
       "      <td>50.525524</td>\n",
       "      <td>50.920921</td>\n",
       "      <td>49.709709</td>\n",
       "      <td>50.055054</td>\n",
       "      <td>50.055054</td>\n",
       "      <td>5152442</td>\n",
       "    </tr>\n",
       "    <tr>\n",
       "      <th>2004-09-07</th>\n",
       "      <td>50.555557</td>\n",
       "      <td>51.051052</td>\n",
       "      <td>49.854855</td>\n",
       "      <td>50.840839</td>\n",
       "      <td>50.840839</td>\n",
       "      <td>5847547</td>\n",
       "    </tr>\n",
       "    <tr>\n",
       "      <th>2004-09-08</th>\n",
       "      <td>50.420422</td>\n",
       "      <td>51.566566</td>\n",
       "      <td>50.300301</td>\n",
       "      <td>51.201202</td>\n",
       "      <td>51.201202</td>\n",
       "      <td>4985609</td>\n",
       "    </tr>\n",
       "    <tr>\n",
       "      <th>2004-09-09</th>\n",
       "      <td>51.316315</td>\n",
       "      <td>51.406406</td>\n",
       "      <td>50.550552</td>\n",
       "      <td>51.206207</td>\n",
       "      <td>51.206207</td>\n",
       "      <td>4061734</td>\n",
       "    </tr>\n",
       "    <tr>\n",
       "      <th>2004-09-10</th>\n",
       "      <td>50.850849</td>\n",
       "      <td>53.333332</td>\n",
       "      <td>50.700703</td>\n",
       "      <td>52.717716</td>\n",
       "      <td>52.717716</td>\n",
       "      <td>8698892</td>\n",
       "    </tr>\n",
       "    <tr>\n",
       "      <th>2004-09-13</th>\n",
       "      <td>53.368366</td>\n",
       "      <td>54.259258</td>\n",
       "      <td>53.283283</td>\n",
       "      <td>53.803802</td>\n",
       "      <td>53.803802</td>\n",
       "      <td>7844148</td>\n",
       "    </tr>\n",
       "    <tr>\n",
       "      <th>2004-09-14</th>\n",
       "      <td>53.778778</td>\n",
       "      <td>56.056057</td>\n",
       "      <td>53.448448</td>\n",
       "      <td>55.800800</td>\n",
       "      <td>55.800800</td>\n",
       "      <td>10828960</td>\n",
       "    </tr>\n",
       "    <tr>\n",
       "      <th>2004-09-15</th>\n",
       "      <td>55.335335</td>\n",
       "      <td>57.172173</td>\n",
       "      <td>55.155155</td>\n",
       "      <td>56.056057</td>\n",
       "      <td>56.056057</td>\n",
       "      <td>10713076</td>\n",
       "    </tr>\n",
       "    <tr>\n",
       "      <th>2004-09-16</th>\n",
       "      <td>56.226227</td>\n",
       "      <td>57.957958</td>\n",
       "      <td>55.880882</td>\n",
       "      <td>57.042042</td>\n",
       "      <td>57.042042</td>\n",
       "      <td>9266324</td>\n",
       "    </tr>\n",
       "    <tr>\n",
       "      <th>2004-09-17</th>\n",
       "      <td>57.267265</td>\n",
       "      <td>58.803802</td>\n",
       "      <td>56.831833</td>\n",
       "      <td>58.803802</td>\n",
       "      <td>58.803802</td>\n",
       "      <td>9472518</td>\n",
       "    </tr>\n",
       "    <tr>\n",
       "      <th>2004-09-20</th>\n",
       "      <td>58.533535</td>\n",
       "      <td>60.860863</td>\n",
       "      <td>58.443443</td>\n",
       "      <td>59.739738</td>\n",
       "      <td>59.739738</td>\n",
       "      <td>10628761</td>\n",
       "    </tr>\n",
       "    <tr>\n",
       "      <th>2004-09-21</th>\n",
       "      <td>59.964966</td>\n",
       "      <td>60.270271</td>\n",
       "      <td>58.813812</td>\n",
       "      <td>58.978977</td>\n",
       "      <td>58.978977</td>\n",
       "      <td>7228764</td>\n",
       "    </tr>\n",
       "    <tr>\n",
       "      <th>2004-09-22</th>\n",
       "      <td>58.758759</td>\n",
       "      <td>59.894894</td>\n",
       "      <td>58.463463</td>\n",
       "      <td>59.249249</td>\n",
       "      <td>59.249249</td>\n",
       "      <td>7581211</td>\n",
       "    </tr>\n",
       "    <tr>\n",
       "      <th>2004-09-23</th>\n",
       "      <td>59.479481</td>\n",
       "      <td>61.376377</td>\n",
       "      <td>58.568569</td>\n",
       "      <td>60.470470</td>\n",
       "      <td>60.470470</td>\n",
       "      <td>8535656</td>\n",
       "    </tr>\n",
       "    <tr>\n",
       "      <th>2004-09-24</th>\n",
       "      <td>60.530533</td>\n",
       "      <td>62.112110</td>\n",
       "      <td>59.939941</td>\n",
       "      <td>59.974976</td>\n",
       "      <td>59.974976</td>\n",
       "      <td>9123467</td>\n",
       "    </tr>\n",
       "    <tr>\n",
       "      <th>2004-09-27</th>\n",
       "      <td>59.839840</td>\n",
       "      <td>60.500500</td>\n",
       "      <td>58.958958</td>\n",
       "      <td>59.189190</td>\n",
       "      <td>59.189190</td>\n",
       "      <td>7066127</td>\n",
       "    </tr>\n",
       "    <tr>\n",
       "      <th>2004-09-28</th>\n",
       "      <td>60.710712</td>\n",
       "      <td>63.763763</td>\n",
       "      <td>60.165165</td>\n",
       "      <td>63.493492</td>\n",
       "      <td>63.493492</td>\n",
       "      <td>16929054</td>\n",
       "    </tr>\n",
       "    <tr>\n",
       "      <th>2004-09-29</th>\n",
       "      <td>63.413414</td>\n",
       "      <td>67.577576</td>\n",
       "      <td>63.178177</td>\n",
       "      <td>65.605606</td>\n",
       "      <td>65.605606</td>\n",
       "      <td>30516453</td>\n",
       "    </tr>\n",
       "    <tr>\n",
       "      <th>2004-09-30</th>\n",
       "      <td>65.015015</td>\n",
       "      <td>66.216217</td>\n",
       "      <td>64.564568</td>\n",
       "      <td>64.864868</td>\n",
       "      <td>64.864868</td>\n",
       "      <td>13758028</td>\n",
       "    </tr>\n",
       "  </tbody>\n",
       "</table>\n",
       "</div>"
      ],
      "text/plain": [
       "                 Open       High        Low      Close  Adj Close    Volume\n",
       "Date                                                                       \n",
       "2004-09-01  51.401402  51.536537  49.884884  50.175175  50.175175   9138253\n",
       "2004-09-02  49.644646  51.236237  49.519520  50.805805  50.805805  15118666\n",
       "2004-09-03  50.525524  50.920921  49.709709  50.055054  50.055054   5152442\n",
       "2004-09-07  50.555557  51.051052  49.854855  50.840839  50.840839   5847547\n",
       "2004-09-08  50.420422  51.566566  50.300301  51.201202  51.201202   4985609\n",
       "2004-09-09  51.316315  51.406406  50.550552  51.206207  51.206207   4061734\n",
       "2004-09-10  50.850849  53.333332  50.700703  52.717716  52.717716   8698892\n",
       "2004-09-13  53.368366  54.259258  53.283283  53.803802  53.803802   7844148\n",
       "2004-09-14  53.778778  56.056057  53.448448  55.800800  55.800800  10828960\n",
       "2004-09-15  55.335335  57.172173  55.155155  56.056057  56.056057  10713076\n",
       "2004-09-16  56.226227  57.957958  55.880882  57.042042  57.042042   9266324\n",
       "2004-09-17  57.267265  58.803802  56.831833  58.803802  58.803802   9472518\n",
       "2004-09-20  58.533535  60.860863  58.443443  59.739738  59.739738  10628761\n",
       "2004-09-21  59.964966  60.270271  58.813812  58.978977  58.978977   7228764\n",
       "2004-09-22  58.758759  59.894894  58.463463  59.249249  59.249249   7581211\n",
       "2004-09-23  59.479481  61.376377  58.568569  60.470470  60.470470   8535656\n",
       "2004-09-24  60.530533  62.112110  59.939941  59.974976  59.974976   9123467\n",
       "2004-09-27  59.839840  60.500500  58.958958  59.189190  59.189190   7066127\n",
       "2004-09-28  60.710712  63.763763  60.165165  63.493492  63.493492  16929054\n",
       "2004-09-29  63.413414  67.577576  63.178177  65.605606  65.605606  30516453\n",
       "2004-09-30  65.015015  66.216217  64.564568  64.864868  64.864868  13758028"
      ]
     },
     "execution_count": 101,
     "metadata": {},
     "output_type": "execute_result"
    }
   ],
   "source": [
    "#partial indexing -> select particular year/month\n",
    "google.loc['2004-09']"
   ]
  },
  {
   "cell_type": "code",
   "execution_count": 103,
   "id": "3d768b66-b52a-4a5f-b6b7-9a698172efb5",
   "metadata": {},
   "outputs": [
    {
     "data": {
      "text/html": [
       "<div>\n",
       "<style scoped>\n",
       "    .dataframe tbody tr th:only-of-type {\n",
       "        vertical-align: middle;\n",
       "    }\n",
       "\n",
       "    .dataframe tbody tr th {\n",
       "        vertical-align: top;\n",
       "    }\n",
       "\n",
       "    .dataframe thead th {\n",
       "        text-align: right;\n",
       "    }\n",
       "</style>\n",
       "<table border=\"1\" class=\"dataframe\">\n",
       "  <thead>\n",
       "    <tr style=\"text-align: right;\">\n",
       "      <th></th>\n",
       "      <th>Open</th>\n",
       "      <th>High</th>\n",
       "      <th>Low</th>\n",
       "      <th>Close</th>\n",
       "      <th>Adj Close</th>\n",
       "      <th>Volume</th>\n",
       "    </tr>\n",
       "    <tr>\n",
       "      <th>Date</th>\n",
       "      <th></th>\n",
       "      <th></th>\n",
       "      <th></th>\n",
       "      <th></th>\n",
       "      <th></th>\n",
       "      <th></th>\n",
       "    </tr>\n",
       "  </thead>\n",
       "  <tbody>\n",
       "    <tr>\n",
       "      <th>2004-08-19</th>\n",
       "      <td>50.050049</td>\n",
       "      <td>52.082081</td>\n",
       "      <td>48.028027</td>\n",
       "      <td>50.220219</td>\n",
       "      <td>50.220219</td>\n",
       "      <td>44659096</td>\n",
       "    </tr>\n",
       "    <tr>\n",
       "      <th>2004-08-20</th>\n",
       "      <td>50.555557</td>\n",
       "      <td>54.594597</td>\n",
       "      <td>50.300301</td>\n",
       "      <td>54.209209</td>\n",
       "      <td>54.209209</td>\n",
       "      <td>22834343</td>\n",
       "    </tr>\n",
       "    <tr>\n",
       "      <th>2004-08-23</th>\n",
       "      <td>55.430431</td>\n",
       "      <td>56.796799</td>\n",
       "      <td>54.579578</td>\n",
       "      <td>54.754753</td>\n",
       "      <td>54.754753</td>\n",
       "      <td>18256126</td>\n",
       "    </tr>\n",
       "    <tr>\n",
       "      <th>2004-08-24</th>\n",
       "      <td>55.675674</td>\n",
       "      <td>55.855858</td>\n",
       "      <td>51.836838</td>\n",
       "      <td>52.487488</td>\n",
       "      <td>52.487488</td>\n",
       "      <td>15247337</td>\n",
       "    </tr>\n",
       "    <tr>\n",
       "      <th>2004-08-25</th>\n",
       "      <td>52.532532</td>\n",
       "      <td>54.054054</td>\n",
       "      <td>51.991993</td>\n",
       "      <td>53.053055</td>\n",
       "      <td>53.053055</td>\n",
       "      <td>9188602</td>\n",
       "    </tr>\n",
       "    <tr>\n",
       "      <th>...</th>\n",
       "      <td>...</td>\n",
       "      <td>...</td>\n",
       "      <td>...</td>\n",
       "      <td>...</td>\n",
       "      <td>...</td>\n",
       "      <td>...</td>\n",
       "    </tr>\n",
       "    <tr>\n",
       "      <th>2004-12-27</th>\n",
       "      <td>94.669670</td>\n",
       "      <td>96.746750</td>\n",
       "      <td>94.644646</td>\n",
       "      <td>96.051048</td>\n",
       "      <td>96.051048</td>\n",
       "      <td>12195992</td>\n",
       "    </tr>\n",
       "    <tr>\n",
       "      <th>2004-12-28</th>\n",
       "      <td>96.151154</td>\n",
       "      <td>96.871872</td>\n",
       "      <td>95.600601</td>\n",
       "      <td>96.476479</td>\n",
       "      <td>96.476479</td>\n",
       "      <td>8283308</td>\n",
       "    </tr>\n",
       "    <tr>\n",
       "      <th>2004-12-29</th>\n",
       "      <td>95.985985</td>\n",
       "      <td>96.856857</td>\n",
       "      <td>95.985985</td>\n",
       "      <td>96.546547</td>\n",
       "      <td>96.546547</td>\n",
       "      <td>5350844</td>\n",
       "    </tr>\n",
       "    <tr>\n",
       "      <th>2004-12-30</th>\n",
       "      <td>96.581581</td>\n",
       "      <td>99.214211</td>\n",
       "      <td>96.021019</td>\n",
       "      <td>98.898895</td>\n",
       "      <td>98.898895</td>\n",
       "      <td>11796791</td>\n",
       "    </tr>\n",
       "    <tr>\n",
       "      <th>2004-12-31</th>\n",
       "      <td>99.714714</td>\n",
       "      <td>100.040039</td>\n",
       "      <td>96.376373</td>\n",
       "      <td>96.491493</td>\n",
       "      <td>96.491493</td>\n",
       "      <td>15321663</td>\n",
       "    </tr>\n",
       "  </tbody>\n",
       "</table>\n",
       "<p>94 rows × 6 columns</p>\n",
       "</div>"
      ],
      "text/plain": [
       "                 Open        High        Low      Close  Adj Close    Volume\n",
       "Date                                                                        \n",
       "2004-08-19  50.050049   52.082081  48.028027  50.220219  50.220219  44659096\n",
       "2004-08-20  50.555557   54.594597  50.300301  54.209209  54.209209  22834343\n",
       "2004-08-23  55.430431   56.796799  54.579578  54.754753  54.754753  18256126\n",
       "2004-08-24  55.675674   55.855858  51.836838  52.487488  52.487488  15247337\n",
       "2004-08-25  52.532532   54.054054  51.991993  53.053055  53.053055   9188602\n",
       "...               ...         ...        ...        ...        ...       ...\n",
       "2004-12-27  94.669670   96.746750  94.644646  96.051048  96.051048  12195992\n",
       "2004-12-28  96.151154   96.871872  95.600601  96.476479  96.476479   8283308\n",
       "2004-12-29  95.985985   96.856857  95.985985  96.546547  96.546547   5350844\n",
       "2004-12-30  96.581581   99.214211  96.021019  98.898895  98.898895  11796791\n",
       "2004-12-31  99.714714  100.040039  96.376373  96.491493  96.491493  15321663\n",
       "\n",
       "[94 rows x 6 columns]"
      ]
     },
     "execution_count": 103,
     "metadata": {},
     "output_type": "execute_result"
    }
   ],
   "source": [
    "google.loc['2004']"
   ]
  },
  {
   "cell_type": "code",
   "execution_count": 115,
   "id": "0b836cb1-d7a0-4dea-9f3c-4d8453461ddc",
   "metadata": {},
   "outputs": [],
   "source": [
    "#create year month-name and day-name\n",
    "google['month_name']=google.index.month_name()\n",
    "google['weekday_name']=google.index.day_name()\n",
    "google['quarter']=google.index.quarter"
   ]
  },
  {
   "cell_type": "code",
   "execution_count": 123,
   "id": "14deebfa-0cf3-47ea-93c8-28f0a77167f5",
   "metadata": {},
   "outputs": [
    {
     "data": {
      "text/html": [
       "<div>\n",
       "<style scoped>\n",
       "    .dataframe tbody tr th:only-of-type {\n",
       "        vertical-align: middle;\n",
       "    }\n",
       "\n",
       "    .dataframe tbody tr th {\n",
       "        vertical-align: top;\n",
       "    }\n",
       "\n",
       "    .dataframe thead th {\n",
       "        text-align: right;\n",
       "    }\n",
       "</style>\n",
       "<table border=\"1\" class=\"dataframe\">\n",
       "  <thead>\n",
       "    <tr style=\"text-align: right;\">\n",
       "      <th></th>\n",
       "      <th>Open</th>\n",
       "      <th>High</th>\n",
       "      <th>Low</th>\n",
       "      <th>Close</th>\n",
       "      <th>Adj Close</th>\n",
       "      <th>Volume</th>\n",
       "      <th>month_name</th>\n",
       "      <th>weekday_name</th>\n",
       "      <th>quarter</th>\n",
       "    </tr>\n",
       "    <tr>\n",
       "      <th>Date</th>\n",
       "      <th></th>\n",
       "      <th></th>\n",
       "      <th></th>\n",
       "      <th></th>\n",
       "      <th></th>\n",
       "      <th></th>\n",
       "      <th></th>\n",
       "      <th></th>\n",
       "      <th></th>\n",
       "    </tr>\n",
       "  </thead>\n",
       "  <tbody>\n",
       "    <tr>\n",
       "      <th>2004-08-19</th>\n",
       "      <td>50.050049</td>\n",
       "      <td>52.082081</td>\n",
       "      <td>48.028027</td>\n",
       "      <td>50.220219</td>\n",
       "      <td>50.220219</td>\n",
       "      <td>44659096</td>\n",
       "      <td>August</td>\n",
       "      <td>Thursday</td>\n",
       "      <td>3</td>\n",
       "    </tr>\n",
       "    <tr>\n",
       "      <th>2004-08-20</th>\n",
       "      <td>50.555557</td>\n",
       "      <td>54.594597</td>\n",
       "      <td>50.300301</td>\n",
       "      <td>54.209209</td>\n",
       "      <td>54.209209</td>\n",
       "      <td>22834343</td>\n",
       "      <td>August</td>\n",
       "      <td>Friday</td>\n",
       "      <td>3</td>\n",
       "    </tr>\n",
       "    <tr>\n",
       "      <th>2004-08-23</th>\n",
       "      <td>55.430431</td>\n",
       "      <td>56.796799</td>\n",
       "      <td>54.579578</td>\n",
       "      <td>54.754753</td>\n",
       "      <td>54.754753</td>\n",
       "      <td>18256126</td>\n",
       "      <td>August</td>\n",
       "      <td>Monday</td>\n",
       "      <td>3</td>\n",
       "    </tr>\n",
       "    <tr>\n",
       "      <th>2004-08-24</th>\n",
       "      <td>55.675674</td>\n",
       "      <td>55.855858</td>\n",
       "      <td>51.836838</td>\n",
       "      <td>52.487488</td>\n",
       "      <td>52.487488</td>\n",
       "      <td>15247337</td>\n",
       "      <td>August</td>\n",
       "      <td>Tuesday</td>\n",
       "      <td>3</td>\n",
       "    </tr>\n",
       "    <tr>\n",
       "      <th>2004-08-25</th>\n",
       "      <td>52.532532</td>\n",
       "      <td>54.054054</td>\n",
       "      <td>51.991993</td>\n",
       "      <td>53.053055</td>\n",
       "      <td>53.053055</td>\n",
       "      <td>9188602</td>\n",
       "      <td>August</td>\n",
       "      <td>Wednesday</td>\n",
       "      <td>3</td>\n",
       "    </tr>\n",
       "    <tr>\n",
       "      <th>...</th>\n",
       "      <td>...</td>\n",
       "      <td>...</td>\n",
       "      <td>...</td>\n",
       "      <td>...</td>\n",
       "      <td>...</td>\n",
       "      <td>...</td>\n",
       "      <td>...</td>\n",
       "      <td>...</td>\n",
       "      <td>...</td>\n",
       "    </tr>\n",
       "    <tr>\n",
       "      <th>2022-03-18</th>\n",
       "      <td>2668.489990</td>\n",
       "      <td>2724.879883</td>\n",
       "      <td>2645.169922</td>\n",
       "      <td>2722.510010</td>\n",
       "      <td>2722.510010</td>\n",
       "      <td>2223100</td>\n",
       "      <td>March</td>\n",
       "      <td>Friday</td>\n",
       "      <td>1</td>\n",
       "    </tr>\n",
       "    <tr>\n",
       "      <th>2022-03-21</th>\n",
       "      <td>2723.270020</td>\n",
       "      <td>2741.000000</td>\n",
       "      <td>2681.850098</td>\n",
       "      <td>2722.030029</td>\n",
       "      <td>2722.030029</td>\n",
       "      <td>1341600</td>\n",
       "      <td>March</td>\n",
       "      <td>Monday</td>\n",
       "      <td>1</td>\n",
       "    </tr>\n",
       "    <tr>\n",
       "      <th>2022-03-22</th>\n",
       "      <td>2722.030029</td>\n",
       "      <td>2821.000000</td>\n",
       "      <td>2722.030029</td>\n",
       "      <td>2797.360107</td>\n",
       "      <td>2797.360107</td>\n",
       "      <td>1774800</td>\n",
       "      <td>March</td>\n",
       "      <td>Tuesday</td>\n",
       "      <td>1</td>\n",
       "    </tr>\n",
       "    <tr>\n",
       "      <th>2022-03-23</th>\n",
       "      <td>2774.050049</td>\n",
       "      <td>2791.770020</td>\n",
       "      <td>2756.699951</td>\n",
       "      <td>2765.510010</td>\n",
       "      <td>2765.510010</td>\n",
       "      <td>1257700</td>\n",
       "      <td>March</td>\n",
       "      <td>Wednesday</td>\n",
       "      <td>1</td>\n",
       "    </tr>\n",
       "    <tr>\n",
       "      <th>2022-03-24</th>\n",
       "      <td>2784.000000</td>\n",
       "      <td>2832.379883</td>\n",
       "      <td>2755.010010</td>\n",
       "      <td>2831.439941</td>\n",
       "      <td>2831.439941</td>\n",
       "      <td>1317900</td>\n",
       "      <td>March</td>\n",
       "      <td>Thursday</td>\n",
       "      <td>1</td>\n",
       "    </tr>\n",
       "  </tbody>\n",
       "</table>\n",
       "<p>4431 rows × 9 columns</p>\n",
       "</div>"
      ],
      "text/plain": [
       "                   Open         High          Low        Close    Adj Close  \\\n",
       "Date                                                                          \n",
       "2004-08-19    50.050049    52.082081    48.028027    50.220219    50.220219   \n",
       "2004-08-20    50.555557    54.594597    50.300301    54.209209    54.209209   \n",
       "2004-08-23    55.430431    56.796799    54.579578    54.754753    54.754753   \n",
       "2004-08-24    55.675674    55.855858    51.836838    52.487488    52.487488   \n",
       "2004-08-25    52.532532    54.054054    51.991993    53.053055    53.053055   \n",
       "...                 ...          ...          ...          ...          ...   \n",
       "2022-03-18  2668.489990  2724.879883  2645.169922  2722.510010  2722.510010   \n",
       "2022-03-21  2723.270020  2741.000000  2681.850098  2722.030029  2722.030029   \n",
       "2022-03-22  2722.030029  2821.000000  2722.030029  2797.360107  2797.360107   \n",
       "2022-03-23  2774.050049  2791.770020  2756.699951  2765.510010  2765.510010   \n",
       "2022-03-24  2784.000000  2832.379883  2755.010010  2831.439941  2831.439941   \n",
       "\n",
       "              Volume month_name weekday_name  quarter  \n",
       "Date                                                   \n",
       "2004-08-19  44659096     August     Thursday        3  \n",
       "2004-08-20  22834343     August       Friday        3  \n",
       "2004-08-23  18256126     August       Monday        3  \n",
       "2004-08-24  15247337     August      Tuesday        3  \n",
       "2004-08-25   9188602     August    Wednesday        3  \n",
       "...              ...        ...          ...      ...  \n",
       "2022-03-18   2223100      March       Friday        1  \n",
       "2022-03-21   1341600      March       Monday        1  \n",
       "2022-03-22   1774800      March      Tuesday        1  \n",
       "2022-03-23   1257700      March    Wednesday        1  \n",
       "2022-03-24   1317900      March     Thursday        1  \n",
       "\n",
       "[4431 rows x 9 columns]"
      ]
     },
     "execution_count": 123,
     "metadata": {},
     "output_type": "execute_result"
    }
   ],
   "source": [
    "google"
   ]
  },
  {
   "cell_type": "code",
   "execution_count": 127,
   "id": "417ede92-ac4f-47c4-84a2-7a431d7ba248",
   "metadata": {},
   "outputs": [
    {
     "data": {
      "text/html": [
       "<div>\n",
       "<style scoped>\n",
       "    .dataframe tbody tr th:only-of-type {\n",
       "        vertical-align: middle;\n",
       "    }\n",
       "\n",
       "    .dataframe tbody tr th {\n",
       "        vertical-align: top;\n",
       "    }\n",
       "\n",
       "    .dataframe thead th {\n",
       "        text-align: right;\n",
       "    }\n",
       "</style>\n",
       "<table border=\"1\" class=\"dataframe\">\n",
       "  <thead>\n",
       "    <tr style=\"text-align: right;\">\n",
       "      <th></th>\n",
       "      <th>Open</th>\n",
       "      <th>High</th>\n",
       "      <th>Low</th>\n",
       "      <th>Close</th>\n",
       "      <th>Adj Close</th>\n",
       "      <th>Volume</th>\n",
       "      <th>month_name</th>\n",
       "      <th>weekday_name</th>\n",
       "      <th>quarter</th>\n",
       "    </tr>\n",
       "    <tr>\n",
       "      <th>Date</th>\n",
       "      <th></th>\n",
       "      <th></th>\n",
       "      <th></th>\n",
       "      <th></th>\n",
       "      <th></th>\n",
       "      <th></th>\n",
       "      <th></th>\n",
       "      <th></th>\n",
       "      <th></th>\n",
       "    </tr>\n",
       "  </thead>\n",
       "  <tbody>\n",
       "    <tr>\n",
       "      <th>2004-08-19</th>\n",
       "      <td>50.050049</td>\n",
       "      <td>52.082081</td>\n",
       "      <td>48.028027</td>\n",
       "      <td>50.220219</td>\n",
       "      <td>50.220219</td>\n",
       "      <td>44659096</td>\n",
       "      <td>August</td>\n",
       "      <td>Thursday</td>\n",
       "      <td>3</td>\n",
       "    </tr>\n",
       "    <tr>\n",
       "      <th>2004-08-20</th>\n",
       "      <td>50.555557</td>\n",
       "      <td>54.594597</td>\n",
       "      <td>50.300301</td>\n",
       "      <td>54.209209</td>\n",
       "      <td>54.209209</td>\n",
       "      <td>22834343</td>\n",
       "      <td>August</td>\n",
       "      <td>Friday</td>\n",
       "      <td>3</td>\n",
       "    </tr>\n",
       "    <tr>\n",
       "      <th>2004-08-23</th>\n",
       "      <td>55.430431</td>\n",
       "      <td>56.796799</td>\n",
       "      <td>54.579578</td>\n",
       "      <td>54.754753</td>\n",
       "      <td>54.754753</td>\n",
       "      <td>18256126</td>\n",
       "      <td>August</td>\n",
       "      <td>Monday</td>\n",
       "      <td>3</td>\n",
       "    </tr>\n",
       "    <tr>\n",
       "      <th>2004-08-24</th>\n",
       "      <td>55.675674</td>\n",
       "      <td>55.855858</td>\n",
       "      <td>51.836838</td>\n",
       "      <td>52.487488</td>\n",
       "      <td>52.487488</td>\n",
       "      <td>15247337</td>\n",
       "      <td>August</td>\n",
       "      <td>Tuesday</td>\n",
       "      <td>3</td>\n",
       "    </tr>\n",
       "    <tr>\n",
       "      <th>2004-08-25</th>\n",
       "      <td>52.532532</td>\n",
       "      <td>54.054054</td>\n",
       "      <td>51.991993</td>\n",
       "      <td>53.053055</td>\n",
       "      <td>53.053055</td>\n",
       "      <td>9188602</td>\n",
       "      <td>August</td>\n",
       "      <td>Wednesday</td>\n",
       "      <td>3</td>\n",
       "    </tr>\n",
       "    <tr>\n",
       "      <th>...</th>\n",
       "      <td>...</td>\n",
       "      <td>...</td>\n",
       "      <td>...</td>\n",
       "      <td>...</td>\n",
       "      <td>...</td>\n",
       "      <td>...</td>\n",
       "      <td>...</td>\n",
       "      <td>...</td>\n",
       "      <td>...</td>\n",
       "    </tr>\n",
       "    <tr>\n",
       "      <th>2004-12-27</th>\n",
       "      <td>94.669670</td>\n",
       "      <td>96.746750</td>\n",
       "      <td>94.644646</td>\n",
       "      <td>96.051048</td>\n",
       "      <td>96.051048</td>\n",
       "      <td>12195992</td>\n",
       "      <td>December</td>\n",
       "      <td>Monday</td>\n",
       "      <td>4</td>\n",
       "    </tr>\n",
       "    <tr>\n",
       "      <th>2004-12-28</th>\n",
       "      <td>96.151154</td>\n",
       "      <td>96.871872</td>\n",
       "      <td>95.600601</td>\n",
       "      <td>96.476479</td>\n",
       "      <td>96.476479</td>\n",
       "      <td>8283308</td>\n",
       "      <td>December</td>\n",
       "      <td>Tuesday</td>\n",
       "      <td>4</td>\n",
       "    </tr>\n",
       "    <tr>\n",
       "      <th>2004-12-29</th>\n",
       "      <td>95.985985</td>\n",
       "      <td>96.856857</td>\n",
       "      <td>95.985985</td>\n",
       "      <td>96.546547</td>\n",
       "      <td>96.546547</td>\n",
       "      <td>5350844</td>\n",
       "      <td>December</td>\n",
       "      <td>Wednesday</td>\n",
       "      <td>4</td>\n",
       "    </tr>\n",
       "    <tr>\n",
       "      <th>2004-12-30</th>\n",
       "      <td>96.581581</td>\n",
       "      <td>99.214211</td>\n",
       "      <td>96.021019</td>\n",
       "      <td>98.898895</td>\n",
       "      <td>98.898895</td>\n",
       "      <td>11796791</td>\n",
       "      <td>December</td>\n",
       "      <td>Thursday</td>\n",
       "      <td>4</td>\n",
       "    </tr>\n",
       "    <tr>\n",
       "      <th>2004-12-31</th>\n",
       "      <td>99.714714</td>\n",
       "      <td>100.040039</td>\n",
       "      <td>96.376373</td>\n",
       "      <td>96.491493</td>\n",
       "      <td>96.491493</td>\n",
       "      <td>15321663</td>\n",
       "      <td>December</td>\n",
       "      <td>Friday</td>\n",
       "      <td>4</td>\n",
       "    </tr>\n",
       "  </tbody>\n",
       "</table>\n",
       "<p>94 rows × 9 columns</p>\n",
       "</div>"
      ],
      "text/plain": [
       "                 Open        High        Low      Close  Adj Close    Volume  \\\n",
       "Date                                                                           \n",
       "2004-08-19  50.050049   52.082081  48.028027  50.220219  50.220219  44659096   \n",
       "2004-08-20  50.555557   54.594597  50.300301  54.209209  54.209209  22834343   \n",
       "2004-08-23  55.430431   56.796799  54.579578  54.754753  54.754753  18256126   \n",
       "2004-08-24  55.675674   55.855858  51.836838  52.487488  52.487488  15247337   \n",
       "2004-08-25  52.532532   54.054054  51.991993  53.053055  53.053055   9188602   \n",
       "...               ...         ...        ...        ...        ...       ...   \n",
       "2004-12-27  94.669670   96.746750  94.644646  96.051048  96.051048  12195992   \n",
       "2004-12-28  96.151154   96.871872  95.600601  96.476479  96.476479   8283308   \n",
       "2004-12-29  95.985985   96.856857  95.985985  96.546547  96.546547   5350844   \n",
       "2004-12-30  96.581581   99.214211  96.021019  98.898895  98.898895  11796791   \n",
       "2004-12-31  99.714714  100.040039  96.376373  96.491493  96.491493  15321663   \n",
       "\n",
       "           month_name weekday_name  quarter  \n",
       "Date                                         \n",
       "2004-08-19     August     Thursday        3  \n",
       "2004-08-20     August       Friday        3  \n",
       "2004-08-23     August       Monday        3  \n",
       "2004-08-24     August      Tuesday        3  \n",
       "2004-08-25     August    Wednesday        3  \n",
       "...               ...          ...      ...  \n",
       "2004-12-27   December       Monday        4  \n",
       "2004-12-28   December      Tuesday        4  \n",
       "2004-12-29   December    Wednesday        4  \n",
       "2004-12-30   December     Thursday        4  \n",
       "2004-12-31   December       Friday        4  \n",
       "\n",
       "[94 rows x 9 columns]"
      ]
     },
     "execution_count": 127,
     "metadata": {},
     "output_type": "execute_result"
    }
   ],
   "source": [
    "# silicing\n",
    "google.loc['2004-08-01':'2005-01-01']"
   ]
  },
  {
   "cell_type": "code",
   "execution_count": 145,
   "id": "db470cfc-2f65-4933-9e5a-c3df53217e5e",
   "metadata": {},
   "outputs": [
    {
     "data": {
      "text/plain": [
       "DatetimeIndex(['2004-08-06', '2005-08-06', '2006-08-06', '2007-08-06',\n",
       "               '2008-08-05', '2009-08-05', '2010-08-05', '2011-08-05',\n",
       "               '2012-08-04', '2013-08-04', '2014-08-04', '2015-08-04',\n",
       "               '2016-08-03', '2017-08-03', '2018-08-03', '2019-08-03',\n",
       "               '2020-08-02', '2021-08-02', '2022-08-02'],\n",
       "              dtype='datetime64[ns]', freq='365D')"
      ]
     },
     "execution_count": 145,
     "metadata": {},
     "output_type": "execute_result"
    }
   ],
   "source": [
    "# challenge -> fetch info for a particular date every year -> limitation of timedelta\n",
    "#this will not encounter the leap year\n",
    "\n",
    "pd.date_range(start='2004-08-06',end='2022-08-10',freq='365D')"
   ]
  },
  {
   "cell_type": "code",
   "execution_count": 147,
   "id": "35ce9557-85ff-4a7f-a5d4-e43c52b07fbb",
   "metadata": {},
   "outputs": [
    {
     "data": {
      "text/plain": [
       "DatetimeIndex(['2004-08-06', '2005-08-06', '2006-08-06', '2007-08-06',\n",
       "               '2008-08-05', '2009-08-05', '2010-08-05', '2011-08-05',\n",
       "               '2012-08-04', '2013-08-04', '2014-08-04', '2015-08-04',\n",
       "               '2016-08-03', '2017-08-03', '2018-08-03', '2019-08-03',\n",
       "               '2020-08-02', '2021-08-02', '2022-08-02'],\n",
       "              dtype='datetime64[ns]', freq='365D')"
      ]
     },
     "execution_count": 147,
     "metadata": {},
     "output_type": "execute_result"
    }
   ],
   "source": [
    "#this will not encounter the leap year\n",
    "#also timedelta does not take value in year\n",
    "pd.date_range(start='2004-08-06',end='2022-08-10',freq=pd.Timedelta(days=365))"
   ]
  },
  {
   "cell_type": "code",
   "execution_count": 157,
   "id": "6f9c72bd-311e-476a-bac1-d982688ae43a",
   "metadata": {},
   "outputs": [
    {
     "data": {
      "text/plain": [
       "DatetimeIndex(['2004-08-06', '2005-08-06', '2006-08-06', '2007-08-06',\n",
       "               '2008-08-06', '2009-08-06', '2010-08-06', '2011-08-06',\n",
       "               '2012-08-06', '2013-08-06', '2014-08-06', '2015-08-06',\n",
       "               '2016-08-06', '2017-08-06', '2018-08-06', '2019-08-06',\n",
       "               '2020-08-06', '2021-08-06', '2022-08-06'],\n",
       "              dtype='datetime64[ns]', freq='<DateOffset: years=1>')"
      ]
     },
     "execution_count": 157,
     "metadata": {},
     "output_type": "execute_result"
    }
   ],
   "source": [
    "#dateoffset consider leap year and also take year inerval\n",
    "pd.date_range(start='2004-08-06',end='2022-08-10',freq=pd.DateOffset(years=1))"
   ]
  },
  {
   "cell_type": "code",
   "execution_count": 161,
   "id": "bcea9c7e-c3b4-4aa1-acef-f1b85f66b5dd",
   "metadata": {},
   "outputs": [
    {
     "data": {
      "text/html": [
       "<div>\n",
       "<style scoped>\n",
       "    .dataframe tbody tr th:only-of-type {\n",
       "        vertical-align: middle;\n",
       "    }\n",
       "\n",
       "    .dataframe tbody tr th {\n",
       "        vertical-align: top;\n",
       "    }\n",
       "\n",
       "    .dataframe thead th {\n",
       "        text-align: right;\n",
       "    }\n",
       "</style>\n",
       "<table border=\"1\" class=\"dataframe\">\n",
       "  <thead>\n",
       "    <tr style=\"text-align: right;\">\n",
       "      <th></th>\n",
       "      <th>Open</th>\n",
       "      <th>High</th>\n",
       "      <th>Low</th>\n",
       "      <th>Close</th>\n",
       "      <th>Adj Close</th>\n",
       "      <th>Volume</th>\n",
       "      <th>month_name</th>\n",
       "      <th>weekday_name</th>\n",
       "      <th>quarter</th>\n",
       "    </tr>\n",
       "    <tr>\n",
       "      <th>Date</th>\n",
       "      <th></th>\n",
       "      <th></th>\n",
       "      <th></th>\n",
       "      <th></th>\n",
       "      <th></th>\n",
       "      <th></th>\n",
       "      <th></th>\n",
       "      <th></th>\n",
       "      <th></th>\n",
       "    </tr>\n",
       "  </thead>\n",
       "  <tbody>\n",
       "    <tr>\n",
       "      <th>2007-08-06</th>\n",
       "      <td>251.751755</td>\n",
       "      <td>255.330338</td>\n",
       "      <td>251.501495</td>\n",
       "      <td>255.255249</td>\n",
       "      <td>255.255249</td>\n",
       "      <td>7295697</td>\n",
       "      <td>August</td>\n",
       "      <td>Monday</td>\n",
       "      <td>3</td>\n",
       "    </tr>\n",
       "    <tr>\n",
       "      <th>2008-08-06</th>\n",
       "      <td>239.424423</td>\n",
       "      <td>245.130127</td>\n",
       "      <td>236.491486</td>\n",
       "      <td>243.413406</td>\n",
       "      <td>243.413406</td>\n",
       "      <td>6744848</td>\n",
       "      <td>August</td>\n",
       "      <td>Wednesday</td>\n",
       "      <td>3</td>\n",
       "    </tr>\n",
       "    <tr>\n",
       "      <th>2009-08-06</th>\n",
       "      <td>227.377380</td>\n",
       "      <td>227.667664</td>\n",
       "      <td>224.489487</td>\n",
       "      <td>225.405411</td>\n",
       "      <td>225.405411</td>\n",
       "      <td>4217578</td>\n",
       "      <td>August</td>\n",
       "      <td>Thursday</td>\n",
       "      <td>3</td>\n",
       "    </tr>\n",
       "    <tr>\n",
       "      <th>2010-08-06</th>\n",
       "      <td>252.952957</td>\n",
       "      <td>253.123123</td>\n",
       "      <td>248.273270</td>\n",
       "      <td>250.360367</td>\n",
       "      <td>250.360367</td>\n",
       "      <td>6632361</td>\n",
       "      <td>August</td>\n",
       "      <td>Friday</td>\n",
       "      <td>3</td>\n",
       "    </tr>\n",
       "    <tr>\n",
       "      <th>2012-08-06</th>\n",
       "      <td>320.125122</td>\n",
       "      <td>325.015015</td>\n",
       "      <td>319.929932</td>\n",
       "      <td>321.731720</td>\n",
       "      <td>321.731720</td>\n",
       "      <td>3561235</td>\n",
       "      <td>August</td>\n",
       "      <td>Monday</td>\n",
       "      <td>3</td>\n",
       "    </tr>\n",
       "    <tr>\n",
       "      <th>2013-08-06</th>\n",
       "      <td>452.797791</td>\n",
       "      <td>455.310303</td>\n",
       "      <td>448.313324</td>\n",
       "      <td>448.733734</td>\n",
       "      <td>448.733734</td>\n",
       "      <td>3009188</td>\n",
       "      <td>August</td>\n",
       "      <td>Tuesday</td>\n",
       "      <td>3</td>\n",
       "    </tr>\n",
       "    <tr>\n",
       "      <th>2014-08-06</th>\n",
       "      <td>569.500000</td>\n",
       "      <td>578.640015</td>\n",
       "      <td>567.450012</td>\n",
       "      <td>574.489990</td>\n",
       "      <td>574.489990</td>\n",
       "      <td>1322800</td>\n",
       "      <td>August</td>\n",
       "      <td>Wednesday</td>\n",
       "      <td>3</td>\n",
       "    </tr>\n",
       "    <tr>\n",
       "      <th>2015-08-06</th>\n",
       "      <td>673.989990</td>\n",
       "      <td>674.750000</td>\n",
       "      <td>660.729980</td>\n",
       "      <td>670.150024</td>\n",
       "      <td>670.150024</td>\n",
       "      <td>2033000</td>\n",
       "      <td>August</td>\n",
       "      <td>Thursday</td>\n",
       "      <td>3</td>\n",
       "    </tr>\n",
       "    <tr>\n",
       "      <th>2018-08-06</th>\n",
       "      <td>1241.609985</td>\n",
       "      <td>1242.459961</td>\n",
       "      <td>1230.530029</td>\n",
       "      <td>1237.670044</td>\n",
       "      <td>1237.670044</td>\n",
       "      <td>1105700</td>\n",
       "      <td>August</td>\n",
       "      <td>Monday</td>\n",
       "      <td>3</td>\n",
       "    </tr>\n",
       "    <tr>\n",
       "      <th>2019-08-06</th>\n",
       "      <td>1165.520020</td>\n",
       "      <td>1181.400024</td>\n",
       "      <td>1161.530029</td>\n",
       "      <td>1171.079956</td>\n",
       "      <td>1171.079956</td>\n",
       "      <td>1800700</td>\n",
       "      <td>August</td>\n",
       "      <td>Tuesday</td>\n",
       "      <td>3</td>\n",
       "    </tr>\n",
       "    <tr>\n",
       "      <th>2020-08-06</th>\n",
       "      <td>1476.150024</td>\n",
       "      <td>1506.270020</td>\n",
       "      <td>1471.900024</td>\n",
       "      <td>1504.949951</td>\n",
       "      <td>1504.949951</td>\n",
       "      <td>1665300</td>\n",
       "      <td>August</td>\n",
       "      <td>Thursday</td>\n",
       "      <td>3</td>\n",
       "    </tr>\n",
       "    <tr>\n",
       "      <th>2021-08-06</th>\n",
       "      <td>2720.840088</td>\n",
       "      <td>2729.449951</td>\n",
       "      <td>2704.199951</td>\n",
       "      <td>2714.770020</td>\n",
       "      <td>2714.770020</td>\n",
       "      <td>1024400</td>\n",
       "      <td>August</td>\n",
       "      <td>Friday</td>\n",
       "      <td>3</td>\n",
       "    </tr>\n",
       "  </tbody>\n",
       "</table>\n",
       "</div>"
      ],
      "text/plain": [
       "                   Open         High          Low        Close    Adj Close  \\\n",
       "Date                                                                          \n",
       "2007-08-06   251.751755   255.330338   251.501495   255.255249   255.255249   \n",
       "2008-08-06   239.424423   245.130127   236.491486   243.413406   243.413406   \n",
       "2009-08-06   227.377380   227.667664   224.489487   225.405411   225.405411   \n",
       "2010-08-06   252.952957   253.123123   248.273270   250.360367   250.360367   \n",
       "2012-08-06   320.125122   325.015015   319.929932   321.731720   321.731720   \n",
       "2013-08-06   452.797791   455.310303   448.313324   448.733734   448.733734   \n",
       "2014-08-06   569.500000   578.640015   567.450012   574.489990   574.489990   \n",
       "2015-08-06   673.989990   674.750000   660.729980   670.150024   670.150024   \n",
       "2018-08-06  1241.609985  1242.459961  1230.530029  1237.670044  1237.670044   \n",
       "2019-08-06  1165.520020  1181.400024  1161.530029  1171.079956  1171.079956   \n",
       "2020-08-06  1476.150024  1506.270020  1471.900024  1504.949951  1504.949951   \n",
       "2021-08-06  2720.840088  2729.449951  2704.199951  2714.770020  2714.770020   \n",
       "\n",
       "             Volume month_name weekday_name  quarter  \n",
       "Date                                                  \n",
       "2007-08-06  7295697     August       Monday        3  \n",
       "2008-08-06  6744848     August    Wednesday        3  \n",
       "2009-08-06  4217578     August     Thursday        3  \n",
       "2010-08-06  6632361     August       Friday        3  \n",
       "2012-08-06  3561235     August       Monday        3  \n",
       "2013-08-06  3009188     August      Tuesday        3  \n",
       "2014-08-06  1322800     August    Wednesday        3  \n",
       "2015-08-06  2033000     August     Thursday        3  \n",
       "2018-08-06  1105700     August       Monday        3  \n",
       "2019-08-06  1800700     August      Tuesday        3  \n",
       "2020-08-06  1665300     August     Thursday        3  \n",
       "2021-08-06  1024400     August       Friday        3  "
      ]
     },
     "execution_count": 161,
     "metadata": {},
     "output_type": "execute_result"
    }
   ],
   "source": [
    "date_index=pd.date_range(start='2004-08-06',end='2022-08-10',freq=pd.DateOffset(years=1))\n",
    "google[google.index.isin(date_index)]"
   ]
  },
  {
   "cell_type": "code",
   "execution_count": 163,
   "id": "e4f6430c-e406-4d78-b019-9a7e99bbf2ef",
   "metadata": {},
   "outputs": [
    {
     "data": {
      "text/plain": [
       "<AxesSubplot:xlabel='Date'>"
      ]
     },
     "execution_count": 163,
     "metadata": {},
     "output_type": "execute_result"
    },
    {
     "data": {
      "image/png": "[encoded data removed]",
      "text/plain": [
       "<Figure size 432x288 with 1 Axes>"
      ]
     },
     "metadata": {
      "needs_background": "light"
     },
     "output_type": "display_data"
    }
   ],
   "source": [
    "google['Close'].plot()"
   ]
  },
  {
   "cell_type": "code",
   "execution_count": 179,
   "id": "8b75fccc-83d4-4458-92d2-13af75df1278",
   "metadata": {},
   "outputs": [
    {
     "data": {
      "text/plain": [
       "array([[<AxesSubplot:xlabel='Date'>, <AxesSubplot:xlabel='Date'>,\n",
       "        <AxesSubplot:xlabel='Date'>],\n",
       "       [<AxesSubplot:xlabel='Date'>, <AxesSubplot:xlabel='Date'>,\n",
       "        <AxesSubplot:xlabel='Date'>],\n",
       "       [<AxesSubplot:xlabel='Date'>, <AxesSubplot:xlabel='Date'>,\n",
       "        <AxesSubplot:xlabel='Date'>]], dtype=object)"
      ]
     },
     "execution_count": 179,
     "metadata": {},
     "output_type": "execute_result"
    },
    {
     "data": {
      "image/png": "[encoded data removed]",
      "text/plain": [
       "<Figure size 432x288 with 9 Axes>"
      ]
     },
     "metadata": {
      "needs_background": "light"
     },
     "output_type": "display_data"
    }
   ],
   "source": [
    "google.plot(subplots=True,layout=(3,3),sharex=False,sharey=False)"
   ]
  },
  {
   "cell_type": "code",
   "execution_count": 181,
   "id": "f28809a4-72a9-4bbc-9a48-14e30ee0eb04",
   "metadata": {},
   "outputs": [
    {
     "data": {
      "text/plain": [
       "<AxesSubplot:xlabel='Date'>"
      ]
     },
     "execution_count": 181,
     "metadata": {},
     "output_type": "execute_result"
    },
    {
     "data": {
      "image/png": "[encoded data removed]",
      "text/plain": [
       "<Figure size 432x288 with 1 Axes>"
      ]
     },
     "metadata": {
      "needs_background": "light"
     },
     "output_type": "display_data"
    }
   ],
   "source": [
    "#Plot graph for a particular month/year\n",
    "google.loc['2021']['Close'].plot()"
   ]
  },
  {
   "cell_type": "code",
   "execution_count": 207,
   "id": "ce29918e-e228-4cb2-8e3a-8b2cbc9ca1a6",
   "metadata": {},
   "outputs": [
    {
     "data": {
      "text/plain": [
       "<AxesSubplot:xlabel='Date'>"
      ]
     },
     "execution_count": 207,
     "metadata": {},
     "output_type": "execute_result"
    },
    {
     "data": {
      "image/png": "[encoded data removed]",
      "text/plain": [
       "<Figure size 432x288 with 1 Axes>"
      ]
     },
     "metadata": {
      "needs_background": "light"
     },
     "output_type": "display_data"
    }
   ],
   "source": [
    "#monthly data\n",
    "google.loc['2021-1']['Close'].plot()"
   ]
  },
  {
   "cell_type": "code",
   "execution_count": 189,
   "id": "1e1c31d8-7b72-4fc3-b4a5-3db1058eae35",
   "metadata": {},
   "outputs": [
    {
     "data": {
      "text/plain": [
       "DatetimeIndex(['2004-08-19', '2004-08-20', '2004-08-23', '2004-08-24',\n",
       "               '2004-08-25', '2004-08-26', '2004-08-27', '2004-08-30',\n",
       "               '2004-08-31', '2004-09-01',\n",
       "               ...\n",
       "               '2022-03-11', '2022-03-14', '2022-03-15', '2022-03-16',\n",
       "               '2022-03-17', '2022-03-18', '2022-03-21', '2022-03-22',\n",
       "               '2022-03-23', '2022-03-24'],\n",
       "              dtype='datetime64[ns]', name='Date', length=4431, freq=None)"
      ]
     },
     "execution_count": 189,
     "metadata": {},
     "output_type": "execute_result"
    }
   ],
   "source": [
    "#frequency, currenlty freq is none\n",
    "google.index"
   ]
  },
  {
   "cell_type": "code",
   "execution_count": 191,
   "id": "63c60891-8626-43b5-b95a-ca64a997d60c",
   "metadata": {},
   "outputs": [
    {
     "data": {
      "text/html": [
       "<div>\n",
       "<style scoped>\n",
       "    .dataframe tbody tr th:only-of-type {\n",
       "        vertical-align: middle;\n",
       "    }\n",
       "\n",
       "    .dataframe tbody tr th {\n",
       "        vertical-align: top;\n",
       "    }\n",
       "\n",
       "    .dataframe thead th {\n",
       "        text-align: right;\n",
       "    }\n",
       "</style>\n",
       "<table border=\"1\" class=\"dataframe\">\n",
       "  <thead>\n",
       "    <tr style=\"text-align: right;\">\n",
       "      <th></th>\n",
       "      <th>Open</th>\n",
       "      <th>High</th>\n",
       "      <th>Low</th>\n",
       "      <th>Close</th>\n",
       "      <th>Adj Close</th>\n",
       "      <th>Volume</th>\n",
       "      <th>month_name</th>\n",
       "      <th>weekday_name</th>\n",
       "      <th>quarter</th>\n",
       "    </tr>\n",
       "    <tr>\n",
       "      <th>Date</th>\n",
       "      <th></th>\n",
       "      <th></th>\n",
       "      <th></th>\n",
       "      <th></th>\n",
       "      <th></th>\n",
       "      <th></th>\n",
       "      <th></th>\n",
       "      <th></th>\n",
       "      <th></th>\n",
       "    </tr>\n",
       "  </thead>\n",
       "  <tbody>\n",
       "    <tr>\n",
       "      <th>2004-08-19</th>\n",
       "      <td>50.050049</td>\n",
       "      <td>52.082081</td>\n",
       "      <td>48.028027</td>\n",
       "      <td>50.220219</td>\n",
       "      <td>50.220219</td>\n",
       "      <td>44659096.0</td>\n",
       "      <td>August</td>\n",
       "      <td>Thursday</td>\n",
       "      <td>3.0</td>\n",
       "    </tr>\n",
       "    <tr>\n",
       "      <th>2004-08-20</th>\n",
       "      <td>50.555557</td>\n",
       "      <td>54.594597</td>\n",
       "      <td>50.300301</td>\n",
       "      <td>54.209209</td>\n",
       "      <td>54.209209</td>\n",
       "      <td>22834343.0</td>\n",
       "      <td>August</td>\n",
       "      <td>Friday</td>\n",
       "      <td>3.0</td>\n",
       "    </tr>\n",
       "    <tr>\n",
       "      <th>2004-08-21</th>\n",
       "      <td>NaN</td>\n",
       "      <td>NaN</td>\n",
       "      <td>NaN</td>\n",
       "      <td>NaN</td>\n",
       "      <td>NaN</td>\n",
       "      <td>NaN</td>\n",
       "      <td>NaN</td>\n",
       "      <td>NaN</td>\n",
       "      <td>NaN</td>\n",
       "    </tr>\n",
       "    <tr>\n",
       "      <th>2004-08-22</th>\n",
       "      <td>NaN</td>\n",
       "      <td>NaN</td>\n",
       "      <td>NaN</td>\n",
       "      <td>NaN</td>\n",
       "      <td>NaN</td>\n",
       "      <td>NaN</td>\n",
       "      <td>NaN</td>\n",
       "      <td>NaN</td>\n",
       "      <td>NaN</td>\n",
       "    </tr>\n",
       "    <tr>\n",
       "      <th>2004-08-23</th>\n",
       "      <td>55.430431</td>\n",
       "      <td>56.796799</td>\n",
       "      <td>54.579578</td>\n",
       "      <td>54.754753</td>\n",
       "      <td>54.754753</td>\n",
       "      <td>18256126.0</td>\n",
       "      <td>August</td>\n",
       "      <td>Monday</td>\n",
       "      <td>3.0</td>\n",
       "    </tr>\n",
       "    <tr>\n",
       "      <th>...</th>\n",
       "      <td>...</td>\n",
       "      <td>...</td>\n",
       "      <td>...</td>\n",
       "      <td>...</td>\n",
       "      <td>...</td>\n",
       "      <td>...</td>\n",
       "      <td>...</td>\n",
       "      <td>...</td>\n",
       "      <td>...</td>\n",
       "    </tr>\n",
       "    <tr>\n",
       "      <th>2022-03-20</th>\n",
       "      <td>NaN</td>\n",
       "      <td>NaN</td>\n",
       "      <td>NaN</td>\n",
       "      <td>NaN</td>\n",
       "      <td>NaN</td>\n",
       "      <td>NaN</td>\n",
       "      <td>NaN</td>\n",
       "      <td>NaN</td>\n",
       "      <td>NaN</td>\n",
       "    </tr>\n",
       "    <tr>\n",
       "      <th>2022-03-21</th>\n",
       "      <td>2723.270020</td>\n",
       "      <td>2741.000000</td>\n",
       "      <td>2681.850098</td>\n",
       "      <td>2722.030029</td>\n",
       "      <td>2722.030029</td>\n",
       "      <td>1341600.0</td>\n",
       "      <td>March</td>\n",
       "      <td>Monday</td>\n",
       "      <td>1.0</td>\n",
       "    </tr>\n",
       "    <tr>\n",
       "      <th>2022-03-22</th>\n",
       "      <td>2722.030029</td>\n",
       "      <td>2821.000000</td>\n",
       "      <td>2722.030029</td>\n",
       "      <td>2797.360107</td>\n",
       "      <td>2797.360107</td>\n",
       "      <td>1774800.0</td>\n",
       "      <td>March</td>\n",
       "      <td>Tuesday</td>\n",
       "      <td>1.0</td>\n",
       "    </tr>\n",
       "    <tr>\n",
       "      <th>2022-03-23</th>\n",
       "      <td>2774.050049</td>\n",
       "      <td>2791.770020</td>\n",
       "      <td>2756.699951</td>\n",
       "      <td>2765.510010</td>\n",
       "      <td>2765.510010</td>\n",
       "      <td>1257700.0</td>\n",
       "      <td>March</td>\n",
       "      <td>Wednesday</td>\n",
       "      <td>1.0</td>\n",
       "    </tr>\n",
       "    <tr>\n",
       "      <th>2022-03-24</th>\n",
       "      <td>2784.000000</td>\n",
       "      <td>2832.379883</td>\n",
       "      <td>2755.010010</td>\n",
       "      <td>2831.439941</td>\n",
       "      <td>2831.439941</td>\n",
       "      <td>1317900.0</td>\n",
       "      <td>March</td>\n",
       "      <td>Thursday</td>\n",
       "      <td>1.0</td>\n",
       "    </tr>\n",
       "  </tbody>\n",
       "</table>\n",
       "<p>6427 rows × 9 columns</p>\n",
       "</div>"
      ],
      "text/plain": [
       "                   Open         High          Low        Close    Adj Close  \\\n",
       "Date                                                                          \n",
       "2004-08-19    50.050049    52.082081    48.028027    50.220219    50.220219   \n",
       "2004-08-20    50.555557    54.594597    50.300301    54.209209    54.209209   \n",
       "2004-08-21          NaN          NaN          NaN          NaN          NaN   \n",
       "2004-08-22          NaN          NaN          NaN          NaN          NaN   \n",
       "2004-08-23    55.430431    56.796799    54.579578    54.754753    54.754753   \n",
       "...                 ...          ...          ...          ...          ...   \n",
       "2022-03-20          NaN          NaN          NaN          NaN          NaN   \n",
       "2022-03-21  2723.270020  2741.000000  2681.850098  2722.030029  2722.030029   \n",
       "2022-03-22  2722.030029  2821.000000  2722.030029  2797.360107  2797.360107   \n",
       "2022-03-23  2774.050049  2791.770020  2756.699951  2765.510010  2765.510010   \n",
       "2022-03-24  2784.000000  2832.379883  2755.010010  2831.439941  2831.439941   \n",
       "\n",
       "                Volume month_name weekday_name  quarter  \n",
       "Date                                                     \n",
       "2004-08-19  44659096.0     August     Thursday      3.0  \n",
       "2004-08-20  22834343.0     August       Friday      3.0  \n",
       "2004-08-21         NaN        NaN          NaN      NaN  \n",
       "2004-08-22         NaN        NaN          NaN      NaN  \n",
       "2004-08-23  18256126.0     August       Monday      3.0  \n",
       "...                ...        ...          ...      ...  \n",
       "2022-03-20         NaN        NaN          NaN      NaN  \n",
       "2022-03-21   1341600.0      March       Monday      1.0  \n",
       "2022-03-22   1774800.0      March      Tuesday      1.0  \n",
       "2022-03-23   1257700.0      March    Wednesday      1.0  \n",
       "2022-03-24   1317900.0      March     Thursday      1.0  \n",
       "\n",
       "[6427 rows x 9 columns]"
      ]
     },
     "execution_count": 191,
     "metadata": {},
     "output_type": "execute_result"
    }
   ],
   "source": [
    "#this added all the dates including Sat/Sun so it added NaN values as we have only business days\n",
    "google.asfreq('D')"
   ]
  },
  {
   "cell_type": "code",
   "execution_count": 193,
   "id": "31c53adb-a846-45f4-9398-e23161da0578",
   "metadata": {},
   "outputs": [
    {
     "data": {
      "text/html": [
       "<div>\n",
       "<style scoped>\n",
       "    .dataframe tbody tr th:only-of-type {\n",
       "        vertical-align: middle;\n",
       "    }\n",
       "\n",
       "    .dataframe tbody tr th {\n",
       "        vertical-align: top;\n",
       "    }\n",
       "\n",
       "    .dataframe thead th {\n",
       "        text-align: right;\n",
       "    }\n",
       "</style>\n",
       "<table border=\"1\" class=\"dataframe\">\n",
       "  <thead>\n",
       "    <tr style=\"text-align: right;\">\n",
       "      <th></th>\n",
       "      <th>Open</th>\n",
       "      <th>High</th>\n",
       "      <th>Low</th>\n",
       "      <th>Close</th>\n",
       "      <th>Adj Close</th>\n",
       "      <th>Volume</th>\n",
       "      <th>month_name</th>\n",
       "      <th>weekday_name</th>\n",
       "      <th>quarter</th>\n",
       "    </tr>\n",
       "    <tr>\n",
       "      <th>Date</th>\n",
       "      <th></th>\n",
       "      <th></th>\n",
       "      <th></th>\n",
       "      <th></th>\n",
       "      <th></th>\n",
       "      <th></th>\n",
       "      <th></th>\n",
       "      <th></th>\n",
       "      <th></th>\n",
       "    </tr>\n",
       "  </thead>\n",
       "  <tbody>\n",
       "    <tr>\n",
       "      <th>2004-08-19</th>\n",
       "      <td>50.050049</td>\n",
       "      <td>52.082081</td>\n",
       "      <td>48.028027</td>\n",
       "      <td>50.220219</td>\n",
       "      <td>50.220219</td>\n",
       "      <td>44659096.0</td>\n",
       "      <td>August</td>\n",
       "      <td>Thursday</td>\n",
       "      <td>3.0</td>\n",
       "    </tr>\n",
       "    <tr>\n",
       "      <th>2004-08-20</th>\n",
       "      <td>50.555557</td>\n",
       "      <td>54.594597</td>\n",
       "      <td>50.300301</td>\n",
       "      <td>54.209209</td>\n",
       "      <td>54.209209</td>\n",
       "      <td>22834343.0</td>\n",
       "      <td>August</td>\n",
       "      <td>Friday</td>\n",
       "      <td>3.0</td>\n",
       "    </tr>\n",
       "    <tr>\n",
       "      <th>2004-08-23</th>\n",
       "      <td>55.430431</td>\n",
       "      <td>56.796799</td>\n",
       "      <td>54.579578</td>\n",
       "      <td>54.754753</td>\n",
       "      <td>54.754753</td>\n",
       "      <td>18256126.0</td>\n",
       "      <td>August</td>\n",
       "      <td>Monday</td>\n",
       "      <td>3.0</td>\n",
       "    </tr>\n",
       "    <tr>\n",
       "      <th>2004-08-24</th>\n",
       "      <td>55.675674</td>\n",
       "      <td>55.855858</td>\n",
       "      <td>51.836838</td>\n",
       "      <td>52.487488</td>\n",
       "      <td>52.487488</td>\n",
       "      <td>15247337.0</td>\n",
       "      <td>August</td>\n",
       "      <td>Tuesday</td>\n",
       "      <td>3.0</td>\n",
       "    </tr>\n",
       "    <tr>\n",
       "      <th>2004-08-25</th>\n",
       "      <td>52.532532</td>\n",
       "      <td>54.054054</td>\n",
       "      <td>51.991993</td>\n",
       "      <td>53.053055</td>\n",
       "      <td>53.053055</td>\n",
       "      <td>9188602.0</td>\n",
       "      <td>August</td>\n",
       "      <td>Wednesday</td>\n",
       "      <td>3.0</td>\n",
       "    </tr>\n",
       "    <tr>\n",
       "      <th>...</th>\n",
       "      <td>...</td>\n",
       "      <td>...</td>\n",
       "      <td>...</td>\n",
       "      <td>...</td>\n",
       "      <td>...</td>\n",
       "      <td>...</td>\n",
       "      <td>...</td>\n",
       "      <td>...</td>\n",
       "      <td>...</td>\n",
       "    </tr>\n",
       "    <tr>\n",
       "      <th>2022-03-18</th>\n",
       "      <td>2668.489990</td>\n",
       "      <td>2724.879883</td>\n",
       "      <td>2645.169922</td>\n",
       "      <td>2722.510010</td>\n",
       "      <td>2722.510010</td>\n",
       "      <td>2223100.0</td>\n",
       "      <td>March</td>\n",
       "      <td>Friday</td>\n",
       "      <td>1.0</td>\n",
       "    </tr>\n",
       "    <tr>\n",
       "      <th>2022-03-21</th>\n",
       "      <td>2723.270020</td>\n",
       "      <td>2741.000000</td>\n",
       "      <td>2681.850098</td>\n",
       "      <td>2722.030029</td>\n",
       "      <td>2722.030029</td>\n",
       "      <td>1341600.0</td>\n",
       "      <td>March</td>\n",
       "      <td>Monday</td>\n",
       "      <td>1.0</td>\n",
       "    </tr>\n",
       "    <tr>\n",
       "      <th>2022-03-22</th>\n",
       "      <td>2722.030029</td>\n",
       "      <td>2821.000000</td>\n",
       "      <td>2722.030029</td>\n",
       "      <td>2797.360107</td>\n",
       "      <td>2797.360107</td>\n",
       "      <td>1774800.0</td>\n",
       "      <td>March</td>\n",
       "      <td>Tuesday</td>\n",
       "      <td>1.0</td>\n",
       "    </tr>\n",
       "    <tr>\n",
       "      <th>2022-03-23</th>\n",
       "      <td>2774.050049</td>\n",
       "      <td>2791.770020</td>\n",
       "      <td>2756.699951</td>\n",
       "      <td>2765.510010</td>\n",
       "      <td>2765.510010</td>\n",
       "      <td>1257700.0</td>\n",
       "      <td>March</td>\n",
       "      <td>Wednesday</td>\n",
       "      <td>1.0</td>\n",
       "    </tr>\n",
       "    <tr>\n",
       "      <th>2022-03-24</th>\n",
       "      <td>2784.000000</td>\n",
       "      <td>2832.379883</td>\n",
       "      <td>2755.010010</td>\n",
       "      <td>2831.439941</td>\n",
       "      <td>2831.439941</td>\n",
       "      <td>1317900.0</td>\n",
       "      <td>March</td>\n",
       "      <td>Thursday</td>\n",
       "      <td>1.0</td>\n",
       "    </tr>\n",
       "  </tbody>\n",
       "</table>\n",
       "<p>4591 rows × 9 columns</p>\n",
       "</div>"
      ],
      "text/plain": [
       "                   Open         High          Low        Close    Adj Close  \\\n",
       "Date                                                                          \n",
       "2004-08-19    50.050049    52.082081    48.028027    50.220219    50.220219   \n",
       "2004-08-20    50.555557    54.594597    50.300301    54.209209    54.209209   \n",
       "2004-08-23    55.430431    56.796799    54.579578    54.754753    54.754753   \n",
       "2004-08-24    55.675674    55.855858    51.836838    52.487488    52.487488   \n",
       "2004-08-25    52.532532    54.054054    51.991993    53.053055    53.053055   \n",
       "...                 ...          ...          ...          ...          ...   \n",
       "2022-03-18  2668.489990  2724.879883  2645.169922  2722.510010  2722.510010   \n",
       "2022-03-21  2723.270020  2741.000000  2681.850098  2722.030029  2722.030029   \n",
       "2022-03-22  2722.030029  2821.000000  2722.030029  2797.360107  2797.360107   \n",
       "2022-03-23  2774.050049  2791.770020  2756.699951  2765.510010  2765.510010   \n",
       "2022-03-24  2784.000000  2832.379883  2755.010010  2831.439941  2831.439941   \n",
       "\n",
       "                Volume month_name weekday_name  quarter  \n",
       "Date                                                     \n",
       "2004-08-19  44659096.0     August     Thursday      3.0  \n",
       "2004-08-20  22834343.0     August       Friday      3.0  \n",
       "2004-08-23  18256126.0     August       Monday      3.0  \n",
       "2004-08-24  15247337.0     August      Tuesday      3.0  \n",
       "2004-08-25   9188602.0     August    Wednesday      3.0  \n",
       "...                ...        ...          ...      ...  \n",
       "2022-03-18   2223100.0      March       Friday      1.0  \n",
       "2022-03-21   1341600.0      March       Monday      1.0  \n",
       "2022-03-22   1774800.0      March      Tuesday      1.0  \n",
       "2022-03-23   1257700.0      March    Wednesday      1.0  \n",
       "2022-03-24   1317900.0      March     Thursday      1.0  \n",
       "\n",
       "[4591 rows x 9 columns]"
      ]
     },
     "execution_count": 193,
     "metadata": {},
     "output_type": "execute_result"
    }
   ],
   "source": [
    "google.asfreq('B')"
   ]
  },
  {
   "cell_type": "code",
   "execution_count": 195,
   "id": "c2e55eea-9826-488a-b4fd-31057f99cde4",
   "metadata": {},
   "outputs": [
    {
     "data": {
      "text/html": [
       "<div>\n",
       "<style scoped>\n",
       "    .dataframe tbody tr th:only-of-type {\n",
       "        vertical-align: middle;\n",
       "    }\n",
       "\n",
       "    .dataframe tbody tr th {\n",
       "        vertical-align: top;\n",
       "    }\n",
       "\n",
       "    .dataframe thead th {\n",
       "        text-align: right;\n",
       "    }\n",
       "</style>\n",
       "<table border=\"1\" class=\"dataframe\">\n",
       "  <thead>\n",
       "    <tr style=\"text-align: right;\">\n",
       "      <th></th>\n",
       "      <th>Open</th>\n",
       "      <th>High</th>\n",
       "      <th>Low</th>\n",
       "      <th>Close</th>\n",
       "      <th>Adj Close</th>\n",
       "      <th>Volume</th>\n",
       "      <th>month_name</th>\n",
       "      <th>weekday_name</th>\n",
       "      <th>quarter</th>\n",
       "    </tr>\n",
       "    <tr>\n",
       "      <th>Date</th>\n",
       "      <th></th>\n",
       "      <th></th>\n",
       "      <th></th>\n",
       "      <th></th>\n",
       "      <th></th>\n",
       "      <th></th>\n",
       "      <th></th>\n",
       "      <th></th>\n",
       "      <th></th>\n",
       "    </tr>\n",
       "  </thead>\n",
       "  <tbody>\n",
       "    <tr>\n",
       "      <th>2004-09-30</th>\n",
       "      <td>65.015015</td>\n",
       "      <td>66.216217</td>\n",
       "      <td>64.564568</td>\n",
       "      <td>64.864868</td>\n",
       "      <td>64.864868</td>\n",
       "      <td>13758028.0</td>\n",
       "      <td>September</td>\n",
       "      <td>Thursday</td>\n",
       "      <td>3.0</td>\n",
       "    </tr>\n",
       "    <tr>\n",
       "      <th>2004-12-31</th>\n",
       "      <td>99.714714</td>\n",
       "      <td>100.040039</td>\n",
       "      <td>96.376373</td>\n",
       "      <td>96.491493</td>\n",
       "      <td>96.491493</td>\n",
       "      <td>15321663.0</td>\n",
       "      <td>December</td>\n",
       "      <td>Friday</td>\n",
       "      <td>4.0</td>\n",
       "    </tr>\n",
       "    <tr>\n",
       "      <th>2005-03-31</th>\n",
       "      <td>89.064064</td>\n",
       "      <td>90.785789</td>\n",
       "      <td>88.908913</td>\n",
       "      <td>90.345345</td>\n",
       "      <td>90.345345</td>\n",
       "      <td>13523663.0</td>\n",
       "      <td>March</td>\n",
       "      <td>Thursday</td>\n",
       "      <td>1.0</td>\n",
       "    </tr>\n",
       "    <tr>\n",
       "      <th>2005-06-30</th>\n",
       "      <td>147.317322</td>\n",
       "      <td>149.614609</td>\n",
       "      <td>145.665665</td>\n",
       "      <td>147.222229</td>\n",
       "      <td>147.222229</td>\n",
       "      <td>30158611.0</td>\n",
       "      <td>June</td>\n",
       "      <td>Thursday</td>\n",
       "      <td>2.0</td>\n",
       "    </tr>\n",
       "    <tr>\n",
       "      <th>2005-09-30</th>\n",
       "      <td>157.267273</td>\n",
       "      <td>158.908905</td>\n",
       "      <td>156.301300</td>\n",
       "      <td>158.388382</td>\n",
       "      <td>158.388382</td>\n",
       "      <td>18284297.0</td>\n",
       "      <td>September</td>\n",
       "      <td>Friday</td>\n",
       "      <td>3.0</td>\n",
       "    </tr>\n",
       "    <tr>\n",
       "      <th>...</th>\n",
       "      <td>...</td>\n",
       "      <td>...</td>\n",
       "      <td>...</td>\n",
       "      <td>...</td>\n",
       "      <td>...</td>\n",
       "      <td>...</td>\n",
       "      <td>...</td>\n",
       "      <td>...</td>\n",
       "      <td>...</td>\n",
       "    </tr>\n",
       "    <tr>\n",
       "      <th>2020-12-31</th>\n",
       "      <td>1737.270020</td>\n",
       "      <td>1757.500000</td>\n",
       "      <td>1736.089966</td>\n",
       "      <td>1752.640015</td>\n",
       "      <td>1752.640015</td>\n",
       "      <td>1053500.0</td>\n",
       "      <td>December</td>\n",
       "      <td>Thursday</td>\n",
       "      <td>4.0</td>\n",
       "    </tr>\n",
       "    <tr>\n",
       "      <th>2021-03-31</th>\n",
       "      <td>2054.399902</td>\n",
       "      <td>2086.260010</td>\n",
       "      <td>2047.000000</td>\n",
       "      <td>2062.520020</td>\n",
       "      <td>2062.520020</td>\n",
       "      <td>2128500.0</td>\n",
       "      <td>March</td>\n",
       "      <td>Wednesday</td>\n",
       "      <td>1.0</td>\n",
       "    </tr>\n",
       "    <tr>\n",
       "      <th>2021-06-30</th>\n",
       "      <td>2439.889893</td>\n",
       "      <td>2445.139893</td>\n",
       "      <td>2427.090088</td>\n",
       "      <td>2441.790039</td>\n",
       "      <td>2441.790039</td>\n",
       "      <td>1223700.0</td>\n",
       "      <td>June</td>\n",
       "      <td>Wednesday</td>\n",
       "      <td>2.0</td>\n",
       "    </tr>\n",
       "    <tr>\n",
       "      <th>2021-09-30</th>\n",
       "      <td>2685.229980</td>\n",
       "      <td>2710.850098</td>\n",
       "      <td>2671.120117</td>\n",
       "      <td>2673.520020</td>\n",
       "      <td>2673.520020</td>\n",
       "      <td>1899800.0</td>\n",
       "      <td>September</td>\n",
       "      <td>Thursday</td>\n",
       "      <td>3.0</td>\n",
       "    </tr>\n",
       "    <tr>\n",
       "      <th>2021-12-31</th>\n",
       "      <td>2921.000000</td>\n",
       "      <td>2933.969971</td>\n",
       "      <td>2897.040039</td>\n",
       "      <td>2897.040039</td>\n",
       "      <td>2897.040039</td>\n",
       "      <td>906800.0</td>\n",
       "      <td>December</td>\n",
       "      <td>Friday</td>\n",
       "      <td>4.0</td>\n",
       "    </tr>\n",
       "  </tbody>\n",
       "</table>\n",
       "<p>70 rows × 9 columns</p>\n",
       "</div>"
      ],
      "text/plain": [
       "                   Open         High          Low        Close    Adj Close  \\\n",
       "Date                                                                          \n",
       "2004-09-30    65.015015    66.216217    64.564568    64.864868    64.864868   \n",
       "2004-12-31    99.714714   100.040039    96.376373    96.491493    96.491493   \n",
       "2005-03-31    89.064064    90.785789    88.908913    90.345345    90.345345   \n",
       "2005-06-30   147.317322   149.614609   145.665665   147.222229   147.222229   \n",
       "2005-09-30   157.267273   158.908905   156.301300   158.388382   158.388382   \n",
       "...                 ...          ...          ...          ...          ...   \n",
       "2020-12-31  1737.270020  1757.500000  1736.089966  1752.640015  1752.640015   \n",
       "2021-03-31  2054.399902  2086.260010  2047.000000  2062.520020  2062.520020   \n",
       "2021-06-30  2439.889893  2445.139893  2427.090088  2441.790039  2441.790039   \n",
       "2021-09-30  2685.229980  2710.850098  2671.120117  2673.520020  2673.520020   \n",
       "2021-12-31  2921.000000  2933.969971  2897.040039  2897.040039  2897.040039   \n",
       "\n",
       "                Volume month_name weekday_name  quarter  \n",
       "Date                                                     \n",
       "2004-09-30  13758028.0  September     Thursday      3.0  \n",
       "2004-12-31  15321663.0   December       Friday      4.0  \n",
       "2005-03-31  13523663.0      March     Thursday      1.0  \n",
       "2005-06-30  30158611.0       June     Thursday      2.0  \n",
       "2005-09-30  18284297.0  September       Friday      3.0  \n",
       "...                ...        ...          ...      ...  \n",
       "2020-12-31   1053500.0   December     Thursday      4.0  \n",
       "2021-03-31   2128500.0      March    Wednesday      1.0  \n",
       "2021-06-30   1223700.0       June    Wednesday      2.0  \n",
       "2021-09-30   1899800.0  September     Thursday      3.0  \n",
       "2021-12-31    906800.0   December       Friday      4.0  \n",
       "\n",
       "[70 rows x 9 columns]"
      ]
     },
     "execution_count": 195,
     "metadata": {},
     "output_type": "execute_result"
    }
   ],
   "source": [
    "#here we get the quarterly data\n",
    "google.asfreq('Q')"
   ]
  },
  {
   "cell_type": "code",
   "execution_count": 197,
   "id": "e326152c-b5bf-4abf-8c29-69d1c7e4150d",
   "metadata": {},
   "outputs": [
    {
     "data": {
      "text/html": [
       "<div>\n",
       "<style scoped>\n",
       "    .dataframe tbody tr th:only-of-type {\n",
       "        vertical-align: middle;\n",
       "    }\n",
       "\n",
       "    .dataframe tbody tr th {\n",
       "        vertical-align: top;\n",
       "    }\n",
       "\n",
       "    .dataframe thead th {\n",
       "        text-align: right;\n",
       "    }\n",
       "</style>\n",
       "<table border=\"1\" class=\"dataframe\">\n",
       "  <thead>\n",
       "    <tr style=\"text-align: right;\">\n",
       "      <th></th>\n",
       "      <th>Open</th>\n",
       "      <th>High</th>\n",
       "      <th>Low</th>\n",
       "      <th>Close</th>\n",
       "      <th>Adj Close</th>\n",
       "      <th>Volume</th>\n",
       "      <th>month_name</th>\n",
       "      <th>weekday_name</th>\n",
       "      <th>quarter</th>\n",
       "    </tr>\n",
       "    <tr>\n",
       "      <th>Date</th>\n",
       "      <th></th>\n",
       "      <th></th>\n",
       "      <th></th>\n",
       "      <th></th>\n",
       "      <th></th>\n",
       "      <th></th>\n",
       "      <th></th>\n",
       "      <th></th>\n",
       "      <th></th>\n",
       "    </tr>\n",
       "  </thead>\n",
       "  <tbody>\n",
       "    <tr>\n",
       "      <th>2004-08-19 00:00:00</th>\n",
       "      <td>50.050049</td>\n",
       "      <td>52.082081</td>\n",
       "      <td>48.028027</td>\n",
       "      <td>50.220219</td>\n",
       "      <td>50.220219</td>\n",
       "      <td>44659096.0</td>\n",
       "      <td>August</td>\n",
       "      <td>Thursday</td>\n",
       "      <td>3.0</td>\n",
       "    </tr>\n",
       "    <tr>\n",
       "      <th>2004-08-19 01:00:00</th>\n",
       "      <td>NaN</td>\n",
       "      <td>NaN</td>\n",
       "      <td>NaN</td>\n",
       "      <td>NaN</td>\n",
       "      <td>NaN</td>\n",
       "      <td>NaN</td>\n",
       "      <td>NaN</td>\n",
       "      <td>NaN</td>\n",
       "      <td>NaN</td>\n",
       "    </tr>\n",
       "    <tr>\n",
       "      <th>2004-08-19 02:00:00</th>\n",
       "      <td>NaN</td>\n",
       "      <td>NaN</td>\n",
       "      <td>NaN</td>\n",
       "      <td>NaN</td>\n",
       "      <td>NaN</td>\n",
       "      <td>NaN</td>\n",
       "      <td>NaN</td>\n",
       "      <td>NaN</td>\n",
       "      <td>NaN</td>\n",
       "    </tr>\n",
       "    <tr>\n",
       "      <th>2004-08-19 03:00:00</th>\n",
       "      <td>NaN</td>\n",
       "      <td>NaN</td>\n",
       "      <td>NaN</td>\n",
       "      <td>NaN</td>\n",
       "      <td>NaN</td>\n",
       "      <td>NaN</td>\n",
       "      <td>NaN</td>\n",
       "      <td>NaN</td>\n",
       "      <td>NaN</td>\n",
       "    </tr>\n",
       "    <tr>\n",
       "      <th>2004-08-19 04:00:00</th>\n",
       "      <td>NaN</td>\n",
       "      <td>NaN</td>\n",
       "      <td>NaN</td>\n",
       "      <td>NaN</td>\n",
       "      <td>NaN</td>\n",
       "      <td>NaN</td>\n",
       "      <td>NaN</td>\n",
       "      <td>NaN</td>\n",
       "      <td>NaN</td>\n",
       "    </tr>\n",
       "    <tr>\n",
       "      <th>...</th>\n",
       "      <td>...</td>\n",
       "      <td>...</td>\n",
       "      <td>...</td>\n",
       "      <td>...</td>\n",
       "      <td>...</td>\n",
       "      <td>...</td>\n",
       "      <td>...</td>\n",
       "      <td>...</td>\n",
       "      <td>...</td>\n",
       "    </tr>\n",
       "    <tr>\n",
       "      <th>2022-03-23 20:00:00</th>\n",
       "      <td>NaN</td>\n",
       "      <td>NaN</td>\n",
       "      <td>NaN</td>\n",
       "      <td>NaN</td>\n",
       "      <td>NaN</td>\n",
       "      <td>NaN</td>\n",
       "      <td>NaN</td>\n",
       "      <td>NaN</td>\n",
       "      <td>NaN</td>\n",
       "    </tr>\n",
       "    <tr>\n",
       "      <th>2022-03-23 21:00:00</th>\n",
       "      <td>NaN</td>\n",
       "      <td>NaN</td>\n",
       "      <td>NaN</td>\n",
       "      <td>NaN</td>\n",
       "      <td>NaN</td>\n",
       "      <td>NaN</td>\n",
       "      <td>NaN</td>\n",
       "      <td>NaN</td>\n",
       "      <td>NaN</td>\n",
       "    </tr>\n",
       "    <tr>\n",
       "      <th>2022-03-23 22:00:00</th>\n",
       "      <td>NaN</td>\n",
       "      <td>NaN</td>\n",
       "      <td>NaN</td>\n",
       "      <td>NaN</td>\n",
       "      <td>NaN</td>\n",
       "      <td>NaN</td>\n",
       "      <td>NaN</td>\n",
       "      <td>NaN</td>\n",
       "      <td>NaN</td>\n",
       "    </tr>\n",
       "    <tr>\n",
       "      <th>2022-03-23 23:00:00</th>\n",
       "      <td>NaN</td>\n",
       "      <td>NaN</td>\n",
       "      <td>NaN</td>\n",
       "      <td>NaN</td>\n",
       "      <td>NaN</td>\n",
       "      <td>NaN</td>\n",
       "      <td>NaN</td>\n",
       "      <td>NaN</td>\n",
       "      <td>NaN</td>\n",
       "    </tr>\n",
       "    <tr>\n",
       "      <th>2022-03-24 00:00:00</th>\n",
       "      <td>2784.000000</td>\n",
       "      <td>2832.379883</td>\n",
       "      <td>2755.010010</td>\n",
       "      <td>2831.439941</td>\n",
       "      <td>2831.439941</td>\n",
       "      <td>1317900.0</td>\n",
       "      <td>March</td>\n",
       "      <td>Thursday</td>\n",
       "      <td>1.0</td>\n",
       "    </tr>\n",
       "  </tbody>\n",
       "</table>\n",
       "<p>154225 rows × 9 columns</p>\n",
       "</div>"
      ],
      "text/plain": [
       "                            Open         High          Low        Close  \\\n",
       "Date                                                                      \n",
       "2004-08-19 00:00:00    50.050049    52.082081    48.028027    50.220219   \n",
       "2004-08-19 01:00:00          NaN          NaN          NaN          NaN   \n",
       "2004-08-19 02:00:00          NaN          NaN          NaN          NaN   \n",
       "2004-08-19 03:00:00          NaN          NaN          NaN          NaN   \n",
       "2004-08-19 04:00:00          NaN          NaN          NaN          NaN   \n",
       "...                          ...          ...          ...          ...   \n",
       "2022-03-23 20:00:00          NaN          NaN          NaN          NaN   \n",
       "2022-03-23 21:00:00          NaN          NaN          NaN          NaN   \n",
       "2022-03-23 22:00:00          NaN          NaN          NaN          NaN   \n",
       "2022-03-23 23:00:00          NaN          NaN          NaN          NaN   \n",
       "2022-03-24 00:00:00  2784.000000  2832.379883  2755.010010  2831.439941   \n",
       "\n",
       "                       Adj Close      Volume month_name weekday_name  quarter  \n",
       "Date                                                                           \n",
       "2004-08-19 00:00:00    50.220219  44659096.0     August     Thursday      3.0  \n",
       "2004-08-19 01:00:00          NaN         NaN        NaN          NaN      NaN  \n",
       "2004-08-19 02:00:00          NaN         NaN        NaN          NaN      NaN  \n",
       "2004-08-19 03:00:00          NaN         NaN        NaN          NaN      NaN  \n",
       "2004-08-19 04:00:00          NaN         NaN        NaN          NaN      NaN  \n",
       "...                          ...         ...        ...          ...      ...  \n",
       "2022-03-23 20:00:00          NaN         NaN        NaN          NaN      NaN  \n",
       "2022-03-23 21:00:00          NaN         NaN        NaN          NaN      NaN  \n",
       "2022-03-23 22:00:00          NaN         NaN        NaN          NaN      NaN  \n",
       "2022-03-23 23:00:00          NaN         NaN        NaN          NaN      NaN  \n",
       "2022-03-24 00:00:00  2831.439941   1317900.0      March     Thursday      1.0  \n",
       "\n",
       "[154225 rows x 9 columns]"
      ]
     },
     "execution_count": 197,
     "metadata": {},
     "output_type": "execute_result"
    }
   ],
   "source": [
    "#here we get the hourly data\n",
    "google.asfreq('H')"
   ]
  },
  {
   "cell_type": "code",
   "execution_count": 199,
   "id": "ce73a0aa-56c2-48bf-b561-8247d1f2abd5",
   "metadata": {},
   "outputs": [
    {
     "data": {
      "text/html": [
       "<div>\n",
       "<style scoped>\n",
       "    .dataframe tbody tr th:only-of-type {\n",
       "        vertical-align: middle;\n",
       "    }\n",
       "\n",
       "    .dataframe tbody tr th {\n",
       "        vertical-align: top;\n",
       "    }\n",
       "\n",
       "    .dataframe thead th {\n",
       "        text-align: right;\n",
       "    }\n",
       "</style>\n",
       "<table border=\"1\" class=\"dataframe\">\n",
       "  <thead>\n",
       "    <tr style=\"text-align: right;\">\n",
       "      <th></th>\n",
       "      <th>Open</th>\n",
       "      <th>High</th>\n",
       "      <th>Low</th>\n",
       "      <th>Close</th>\n",
       "      <th>Adj Close</th>\n",
       "      <th>Volume</th>\n",
       "      <th>month_name</th>\n",
       "      <th>weekday_name</th>\n",
       "      <th>quarter</th>\n",
       "    </tr>\n",
       "    <tr>\n",
       "      <th>Date</th>\n",
       "      <th></th>\n",
       "      <th></th>\n",
       "      <th></th>\n",
       "      <th></th>\n",
       "      <th></th>\n",
       "      <th></th>\n",
       "      <th></th>\n",
       "      <th></th>\n",
       "      <th></th>\n",
       "    </tr>\n",
       "  </thead>\n",
       "  <tbody>\n",
       "    <tr>\n",
       "      <th>2004-08-19 00:00:00</th>\n",
       "      <td>50.050049</td>\n",
       "      <td>52.082081</td>\n",
       "      <td>48.028027</td>\n",
       "      <td>50.220219</td>\n",
       "      <td>50.220219</td>\n",
       "      <td>44659096</td>\n",
       "      <td>August</td>\n",
       "      <td>Thursday</td>\n",
       "      <td>3</td>\n",
       "    </tr>\n",
       "    <tr>\n",
       "      <th>2004-08-19 06:00:00</th>\n",
       "      <td>50.050049</td>\n",
       "      <td>52.082081</td>\n",
       "      <td>48.028027</td>\n",
       "      <td>50.220219</td>\n",
       "      <td>50.220219</td>\n",
       "      <td>44659096</td>\n",
       "      <td>August</td>\n",
       "      <td>Thursday</td>\n",
       "      <td>3</td>\n",
       "    </tr>\n",
       "    <tr>\n",
       "      <th>2004-08-19 12:00:00</th>\n",
       "      <td>50.050049</td>\n",
       "      <td>52.082081</td>\n",
       "      <td>48.028027</td>\n",
       "      <td>50.220219</td>\n",
       "      <td>50.220219</td>\n",
       "      <td>44659096</td>\n",
       "      <td>August</td>\n",
       "      <td>Thursday</td>\n",
       "      <td>3</td>\n",
       "    </tr>\n",
       "    <tr>\n",
       "      <th>2004-08-19 18:00:00</th>\n",
       "      <td>50.050049</td>\n",
       "      <td>52.082081</td>\n",
       "      <td>48.028027</td>\n",
       "      <td>50.220219</td>\n",
       "      <td>50.220219</td>\n",
       "      <td>44659096</td>\n",
       "      <td>August</td>\n",
       "      <td>Thursday</td>\n",
       "      <td>3</td>\n",
       "    </tr>\n",
       "    <tr>\n",
       "      <th>2004-08-20 00:00:00</th>\n",
       "      <td>50.555557</td>\n",
       "      <td>54.594597</td>\n",
       "      <td>50.300301</td>\n",
       "      <td>54.209209</td>\n",
       "      <td>54.209209</td>\n",
       "      <td>22834343</td>\n",
       "      <td>August</td>\n",
       "      <td>Friday</td>\n",
       "      <td>3</td>\n",
       "    </tr>\n",
       "    <tr>\n",
       "      <th>...</th>\n",
       "      <td>...</td>\n",
       "      <td>...</td>\n",
       "      <td>...</td>\n",
       "      <td>...</td>\n",
       "      <td>...</td>\n",
       "      <td>...</td>\n",
       "      <td>...</td>\n",
       "      <td>...</td>\n",
       "      <td>...</td>\n",
       "    </tr>\n",
       "    <tr>\n",
       "      <th>2022-03-23 00:00:00</th>\n",
       "      <td>2774.050049</td>\n",
       "      <td>2791.770020</td>\n",
       "      <td>2756.699951</td>\n",
       "      <td>2765.510010</td>\n",
       "      <td>2765.510010</td>\n",
       "      <td>1257700</td>\n",
       "      <td>March</td>\n",
       "      <td>Wednesday</td>\n",
       "      <td>1</td>\n",
       "    </tr>\n",
       "    <tr>\n",
       "      <th>2022-03-23 06:00:00</th>\n",
       "      <td>2774.050049</td>\n",
       "      <td>2791.770020</td>\n",
       "      <td>2756.699951</td>\n",
       "      <td>2765.510010</td>\n",
       "      <td>2765.510010</td>\n",
       "      <td>1257700</td>\n",
       "      <td>March</td>\n",
       "      <td>Wednesday</td>\n",
       "      <td>1</td>\n",
       "    </tr>\n",
       "    <tr>\n",
       "      <th>2022-03-23 12:00:00</th>\n",
       "      <td>2774.050049</td>\n",
       "      <td>2791.770020</td>\n",
       "      <td>2756.699951</td>\n",
       "      <td>2765.510010</td>\n",
       "      <td>2765.510010</td>\n",
       "      <td>1257700</td>\n",
       "      <td>March</td>\n",
       "      <td>Wednesday</td>\n",
       "      <td>1</td>\n",
       "    </tr>\n",
       "    <tr>\n",
       "      <th>2022-03-23 18:00:00</th>\n",
       "      <td>2774.050049</td>\n",
       "      <td>2791.770020</td>\n",
       "      <td>2756.699951</td>\n",
       "      <td>2765.510010</td>\n",
       "      <td>2765.510010</td>\n",
       "      <td>1257700</td>\n",
       "      <td>March</td>\n",
       "      <td>Wednesday</td>\n",
       "      <td>1</td>\n",
       "    </tr>\n",
       "    <tr>\n",
       "      <th>2022-03-24 00:00:00</th>\n",
       "      <td>2784.000000</td>\n",
       "      <td>2832.379883</td>\n",
       "      <td>2755.010010</td>\n",
       "      <td>2831.439941</td>\n",
       "      <td>2831.439941</td>\n",
       "      <td>1317900</td>\n",
       "      <td>March</td>\n",
       "      <td>Thursday</td>\n",
       "      <td>1</td>\n",
       "    </tr>\n",
       "  </tbody>\n",
       "</table>\n",
       "<p>25705 rows × 9 columns</p>\n",
       "</div>"
      ],
      "text/plain": [
       "                            Open         High          Low        Close  \\\n",
       "Date                                                                      \n",
       "2004-08-19 00:00:00    50.050049    52.082081    48.028027    50.220219   \n",
       "2004-08-19 06:00:00    50.050049    52.082081    48.028027    50.220219   \n",
       "2004-08-19 12:00:00    50.050049    52.082081    48.028027    50.220219   \n",
       "2004-08-19 18:00:00    50.050049    52.082081    48.028027    50.220219   \n",
       "2004-08-20 00:00:00    50.555557    54.594597    50.300301    54.209209   \n",
       "...                          ...          ...          ...          ...   \n",
       "2022-03-23 00:00:00  2774.050049  2791.770020  2756.699951  2765.510010   \n",
       "2022-03-23 06:00:00  2774.050049  2791.770020  2756.699951  2765.510010   \n",
       "2022-03-23 12:00:00  2774.050049  2791.770020  2756.699951  2765.510010   \n",
       "2022-03-23 18:00:00  2774.050049  2791.770020  2756.699951  2765.510010   \n",
       "2022-03-24 00:00:00  2784.000000  2832.379883  2755.010010  2831.439941   \n",
       "\n",
       "                       Adj Close    Volume month_name weekday_name  quarter  \n",
       "Date                                                                         \n",
       "2004-08-19 00:00:00    50.220219  44659096     August     Thursday        3  \n",
       "2004-08-19 06:00:00    50.220219  44659096     August     Thursday        3  \n",
       "2004-08-19 12:00:00    50.220219  44659096     August     Thursday        3  \n",
       "2004-08-19 18:00:00    50.220219  44659096     August     Thursday        3  \n",
       "2004-08-20 00:00:00    54.209209  22834343     August       Friday        3  \n",
       "...                          ...       ...        ...          ...      ...  \n",
       "2022-03-23 00:00:00  2765.510010   1257700      March    Wednesday        1  \n",
       "2022-03-23 06:00:00  2765.510010   1257700      March    Wednesday        1  \n",
       "2022-03-23 12:00:00  2765.510010   1257700      March    Wednesday        1  \n",
       "2022-03-23 18:00:00  2765.510010   1257700      March    Wednesday        1  \n",
       "2022-03-24 00:00:00  2831.439941   1317900      March     Thursday        1  \n",
       "\n",
       "[25705 rows x 9 columns]"
      ]
     },
     "execution_count": 199,
     "metadata": {},
     "output_type": "execute_result"
    }
   ],
   "source": [
    "#to fill NaN values we have method\n",
    "google.asfreq('6H',method='ffill')"
   ]
  },
  {
   "cell_type": "code",
   "execution_count": 201,
   "id": "37ea3612-2f60-4501-ae02-2468134efa07",
   "metadata": {},
   "outputs": [
    {
     "data": {
      "text/html": [
       "<div>\n",
       "<style scoped>\n",
       "    .dataframe tbody tr th:only-of-type {\n",
       "        vertical-align: middle;\n",
       "    }\n",
       "\n",
       "    .dataframe tbody tr th {\n",
       "        vertical-align: top;\n",
       "    }\n",
       "\n",
       "    .dataframe thead th {\n",
       "        text-align: right;\n",
       "    }\n",
       "</style>\n",
       "<table border=\"1\" class=\"dataframe\">\n",
       "  <thead>\n",
       "    <tr style=\"text-align: right;\">\n",
       "      <th></th>\n",
       "      <th>Open</th>\n",
       "      <th>High</th>\n",
       "      <th>Low</th>\n",
       "      <th>Close</th>\n",
       "      <th>Adj Close</th>\n",
       "      <th>Volume</th>\n",
       "      <th>month_name</th>\n",
       "      <th>weekday_name</th>\n",
       "      <th>quarter</th>\n",
       "    </tr>\n",
       "    <tr>\n",
       "      <th>Date</th>\n",
       "      <th></th>\n",
       "      <th></th>\n",
       "      <th></th>\n",
       "      <th></th>\n",
       "      <th></th>\n",
       "      <th></th>\n",
       "      <th></th>\n",
       "      <th></th>\n",
       "      <th></th>\n",
       "    </tr>\n",
       "  </thead>\n",
       "  <tbody>\n",
       "    <tr>\n",
       "      <th>2004-08-19 00:00:00</th>\n",
       "      <td>50.050049</td>\n",
       "      <td>52.082081</td>\n",
       "      <td>48.028027</td>\n",
       "      <td>50.220219</td>\n",
       "      <td>50.220219</td>\n",
       "      <td>44659096</td>\n",
       "      <td>August</td>\n",
       "      <td>Thursday</td>\n",
       "      <td>3</td>\n",
       "    </tr>\n",
       "    <tr>\n",
       "      <th>2004-08-19 06:00:00</th>\n",
       "      <td>50.555557</td>\n",
       "      <td>54.594597</td>\n",
       "      <td>50.300301</td>\n",
       "      <td>54.209209</td>\n",
       "      <td>54.209209</td>\n",
       "      <td>22834343</td>\n",
       "      <td>August</td>\n",
       "      <td>Friday</td>\n",
       "      <td>3</td>\n",
       "    </tr>\n",
       "    <tr>\n",
       "      <th>2004-08-19 12:00:00</th>\n",
       "      <td>50.555557</td>\n",
       "      <td>54.594597</td>\n",
       "      <td>50.300301</td>\n",
       "      <td>54.209209</td>\n",
       "      <td>54.209209</td>\n",
       "      <td>22834343</td>\n",
       "      <td>August</td>\n",
       "      <td>Friday</td>\n",
       "      <td>3</td>\n",
       "    </tr>\n",
       "    <tr>\n",
       "      <th>2004-08-19 18:00:00</th>\n",
       "      <td>50.555557</td>\n",
       "      <td>54.594597</td>\n",
       "      <td>50.300301</td>\n",
       "      <td>54.209209</td>\n",
       "      <td>54.209209</td>\n",
       "      <td>22834343</td>\n",
       "      <td>August</td>\n",
       "      <td>Friday</td>\n",
       "      <td>3</td>\n",
       "    </tr>\n",
       "    <tr>\n",
       "      <th>2004-08-20 00:00:00</th>\n",
       "      <td>50.555557</td>\n",
       "      <td>54.594597</td>\n",
       "      <td>50.300301</td>\n",
       "      <td>54.209209</td>\n",
       "      <td>54.209209</td>\n",
       "      <td>22834343</td>\n",
       "      <td>August</td>\n",
       "      <td>Friday</td>\n",
       "      <td>3</td>\n",
       "    </tr>\n",
       "    <tr>\n",
       "      <th>...</th>\n",
       "      <td>...</td>\n",
       "      <td>...</td>\n",
       "      <td>...</td>\n",
       "      <td>...</td>\n",
       "      <td>...</td>\n",
       "      <td>...</td>\n",
       "      <td>...</td>\n",
       "      <td>...</td>\n",
       "      <td>...</td>\n",
       "    </tr>\n",
       "    <tr>\n",
       "      <th>2022-03-23 00:00:00</th>\n",
       "      <td>2774.050049</td>\n",
       "      <td>2791.770020</td>\n",
       "      <td>2756.699951</td>\n",
       "      <td>2765.510010</td>\n",
       "      <td>2765.510010</td>\n",
       "      <td>1257700</td>\n",
       "      <td>March</td>\n",
       "      <td>Wednesday</td>\n",
       "      <td>1</td>\n",
       "    </tr>\n",
       "    <tr>\n",
       "      <th>2022-03-23 06:00:00</th>\n",
       "      <td>2784.000000</td>\n",
       "      <td>2832.379883</td>\n",
       "      <td>2755.010010</td>\n",
       "      <td>2831.439941</td>\n",
       "      <td>2831.439941</td>\n",
       "      <td>1317900</td>\n",
       "      <td>March</td>\n",
       "      <td>Thursday</td>\n",
       "      <td>1</td>\n",
       "    </tr>\n",
       "    <tr>\n",
       "      <th>2022-03-23 12:00:00</th>\n",
       "      <td>2784.000000</td>\n",
       "      <td>2832.379883</td>\n",
       "      <td>2755.010010</td>\n",
       "      <td>2831.439941</td>\n",
       "      <td>2831.439941</td>\n",
       "      <td>1317900</td>\n",
       "      <td>March</td>\n",
       "      <td>Thursday</td>\n",
       "      <td>1</td>\n",
       "    </tr>\n",
       "    <tr>\n",
       "      <th>2022-03-23 18:00:00</th>\n",
       "      <td>2784.000000</td>\n",
       "      <td>2832.379883</td>\n",
       "      <td>2755.010010</td>\n",
       "      <td>2831.439941</td>\n",
       "      <td>2831.439941</td>\n",
       "      <td>1317900</td>\n",
       "      <td>March</td>\n",
       "      <td>Thursday</td>\n",
       "      <td>1</td>\n",
       "    </tr>\n",
       "    <tr>\n",
       "      <th>2022-03-24 00:00:00</th>\n",
       "      <td>2784.000000</td>\n",
       "      <td>2832.379883</td>\n",
       "      <td>2755.010010</td>\n",
       "      <td>2831.439941</td>\n",
       "      <td>2831.439941</td>\n",
       "      <td>1317900</td>\n",
       "      <td>March</td>\n",
       "      <td>Thursday</td>\n",
       "      <td>1</td>\n",
       "    </tr>\n",
       "  </tbody>\n",
       "</table>\n",
       "<p>25705 rows × 9 columns</p>\n",
       "</div>"
      ],
      "text/plain": [
       "                            Open         High          Low        Close  \\\n",
       "Date                                                                      \n",
       "2004-08-19 00:00:00    50.050049    52.082081    48.028027    50.220219   \n",
       "2004-08-19 06:00:00    50.555557    54.594597    50.300301    54.209209   \n",
       "2004-08-19 12:00:00    50.555557    54.594597    50.300301    54.209209   \n",
       "2004-08-19 18:00:00    50.555557    54.594597    50.300301    54.209209   \n",
       "2004-08-20 00:00:00    50.555557    54.594597    50.300301    54.209209   \n",
       "...                          ...          ...          ...          ...   \n",
       "2022-03-23 00:00:00  2774.050049  2791.770020  2756.699951  2765.510010   \n",
       "2022-03-23 06:00:00  2784.000000  2832.379883  2755.010010  2831.439941   \n",
       "2022-03-23 12:00:00  2784.000000  2832.379883  2755.010010  2831.439941   \n",
       "2022-03-23 18:00:00  2784.000000  2832.379883  2755.010010  2831.439941   \n",
       "2022-03-24 00:00:00  2784.000000  2832.379883  2755.010010  2831.439941   \n",
       "\n",
       "                       Adj Close    Volume month_name weekday_name  quarter  \n",
       "Date                                                                         \n",
       "2004-08-19 00:00:00    50.220219  44659096     August     Thursday        3  \n",
       "2004-08-19 06:00:00    54.209209  22834343     August       Friday        3  \n",
       "2004-08-19 12:00:00    54.209209  22834343     August       Friday        3  \n",
       "2004-08-19 18:00:00    54.209209  22834343     August       Friday        3  \n",
       "2004-08-20 00:00:00    54.209209  22834343     August       Friday        3  \n",
       "...                          ...       ...        ...          ...      ...  \n",
       "2022-03-23 00:00:00  2765.510010   1257700      March    Wednesday        1  \n",
       "2022-03-23 06:00:00  2831.439941   1317900      March     Thursday        1  \n",
       "2022-03-23 12:00:00  2831.439941   1317900      March     Thursday        1  \n",
       "2022-03-23 18:00:00  2831.439941   1317900      March     Thursday        1  \n",
       "2022-03-24 00:00:00  2831.439941   1317900      March     Thursday        1  \n",
       "\n",
       "[25705 rows x 9 columns]"
      ]
     },
     "execution_count": 201,
     "metadata": {},
     "output_type": "execute_result"
    }
   ],
   "source": [
    "google.asfreq('6H',method='bfill')"
   ]
  },
  {
   "cell_type": "code",
   "execution_count": 205,
   "id": "de82b74f-519a-4d7d-a5e5-d5a1348771d3",
   "metadata": {},
   "outputs": [
    {
     "data": {
      "text/plain": [
       "<AxesSubplot:xlabel='Date'>"
      ]
     },
     "execution_count": 205,
     "metadata": {},
     "output_type": "execute_result"
    },
    {
     "data": {
      "image/png": "[encoded data removed]",
      "text/plain": [
       "<Figure size 432x288 with 1 Axes>"
      ]
     },
     "metadata": {
      "needs_background": "light"
     },
     "output_type": "display_data"
    }
   ],
   "source": [
    "google['Close'].asfreq('Q').plot()"
   ]
  },
  {
   "cell_type": "code",
   "execution_count": 209,
   "id": "6c699eaa-bf10-4110-9fc1-207110972955",
   "metadata": {},
   "outputs": [
    {
     "data": {
      "text/plain": [
       "<AxesSubplot:xlabel='month_name'>"
      ]
     },
     "execution_count": 209,
     "metadata": {},
     "output_type": "execute_result"
    },
    {
     "data": {
      "image/png": "[encoded data removed]",
      "text/plain": [
       "<Figure size 432x288 with 1 Axes>"
      ]
     },
     "metadata": {
      "needs_background": "light"
     },
     "output_type": "display_data"
    }
   ],
   "source": [
    "#montly trend\n",
    "google.groupby('month_name')['Close'].sum().plot(kind='bar')"
   ]
  },
  {
   "cell_type": "code",
   "execution_count": 215,
   "id": "16c8a1b5-8084-41aa-8290-cefb92ebe308",
   "metadata": {},
   "outputs": [
    {
     "data": {
      "text/plain": [
       "<AxesSubplot:xlabel='weekday_name'>"
      ]
     },
     "execution_count": 215,
     "metadata": {},
     "output_type": "execute_result"
    },
    {
     "data": {
      "image/png": "[encoded data removed]",
      "text/plain": [
       "<Figure size 432x288 with 1 Axes>"
      ]
     },
     "metadata": {
      "needs_background": "light"
     },
     "output_type": "display_data"
    }
   ],
   "source": [
    "#weekday trends\n",
    "google.groupby('weekday_name')['Close'].sum().plot(kind='bar')"
   ]
  },
  {
   "cell_type": "code",
   "execution_count": 217,
   "id": "f7416dcf-a2df-4429-968e-3cf57c875b0d",
   "metadata": {},
   "outputs": [
    {
     "data": {
      "text/plain": [
       "<AxesSubplot:xlabel='quarter'>"
      ]
     },
     "execution_count": 217,
     "metadata": {},
     "output_type": "execute_result"
    },
    {
     "data": {
      "image/png": "[encoded data removed]",
      "text/plain": [
       "<Figure size 432x288 with 1 Axes>"
      ]
     },
     "metadata": {
      "needs_background": "light"
     },
     "output_type": "display_data"
    }
   ],
   "source": [
    "#quartely trend\n",
    "google.groupby('quarter')['Close'].sum().plot(kind='bar')"
   ]
  },
  {
   "cell_type": "markdown",
   "id": "eb694958-3681-48b2-99b6-60bb98f70d77",
   "metadata": {},
   "source": [
    "# Resampling\n",
    "\n",
    "Resampling involves changing the frequency of your time series observations.\n",
    "\n",
    "Two types of resampling are:\n",
    "\n",
    "**Upsampling**: Where you increase the frequency of the samples, such as from minutes to seconds.<br>\n",
    "**Downsampling**: Where you decrease the frequency of the samples, such as from days to months."
   ]
  },
  {
   "cell_type": "markdown",
   "id": "2835f673-6d0f-41c2-aa3e-246fe0a980ef",
   "metadata": {},
   "source": [
    "Sure! Let's break down **upscaling** and **downscaling** using a simple time series dataset in **Pandas**.\n",
    "\n",
    "---\n",
    "\n",
    "## ⏱️ What Are Upscaling and Downscaling?\n",
    "\n",
    "| Term                           | Meaning                                                       |\n",
    "| ------------------------------ | ------------------------------------------------------------- |\n",
    "| **Downsampling** (Downscaling) | Reducing the frequency of data (e.g., from daily to monthly)  |\n",
    "| **Upsampling** (Upscaling)     | Increasing the frequency of data (e.g., from daily to hourly) |\n",
    "\n",
    "---\n",
    "\n",
    "## 🔢 Sample Data\n",
    "\n",
    "```python\n",
    "import pandas as pd\n",
    "\n",
    "# Create sample daily time series data\n",
    "date_rng = pd.date_range(start='2024-01-01', end='2024-01-10', freq='D')\n",
    "df = pd.DataFrame({'value': range(1, 11)}, index=date_rng)\n",
    "\n",
    "print(df)\n",
    "```\n",
    "\n",
    "### Output:\n",
    "\n",
    "```\n",
    "            value\n",
    "2024-01-01      1\n",
    "2024-01-02      2\n",
    "2024-01-03      3\n",
    "2024-01-04      4\n",
    "2024-01-05      5\n",
    "2024-01-06      6\n",
    "2024-01-07      7\n",
    "2024-01-08      8\n",
    "2024-01-09      9\n",
    "2024-01-10     10\n",
    "```\n",
    "\n",
    "---\n",
    "\n",
    "## 📉 Downsampling Example (Daily ➝ Every 3 Days)\n",
    "\n",
    "```python\n",
    "# Downsample to every 3 days and take the mean\n",
    "downsampled = df.resample('3D').mean()\n",
    "print(downsampled)\n",
    "```\n",
    "\n",
    "### Output:\n",
    "\n",
    "```\n",
    "            value\n",
    "2024-01-01    2.0  # (1+2+3)/3\n",
    "2024-01-04    5.0  # (4+5+6)/3\n",
    "2024-01-07    8.0  # (7+8+9)/3\n",
    "2024-01-10   10.0  # only one value\n",
    "```\n",
    "\n",
    "---\n",
    "\n",
    "## 📈 Upsampling Example (Daily ➝ Hourly)\n",
    "\n",
    "```python\n",
    "# Upsample to hourly data — fill missing values using forward-fill\n",
    "upsampled = df.resample('H').ffill()\n",
    "print(upsampled.head(10))\n",
    "```\n",
    "\n",
    "### Output:\n",
    "\n",
    "```\n",
    "            value\n",
    "2024-01-01 00:00:00      1\n",
    "2024-01-01 01:00:00      1\n",
    "2024-01-01 02:00:00      1\n",
    "...\n",
    "2024-01-02 00:00:00      2\n",
    "```\n",
    "\n",
    "You can also fill missing values differently:\n",
    "\n",
    "* `ffill()` — forward fill\n",
    "* `bfill()` — backward fill\n",
    "* `interpolate()` — estimate values between known points\n",
    "\n",
    "---\n",
    "\n",
    "## 🧠 Summary\n",
    "\n",
    "| Operation        | Frequency Change                    | Common Use Case                        |\n",
    "| ---------------- | ----------------------------------- | -------------------------------------- |\n",
    "| **Downsampling** | High → Low (e.g., daily to monthly) | Aggregating data (mean, sum, etc.)     |\n",
    "| **Upsampling**   | Low → High (e.g., daily to hourly)  | Filling in gaps, finer time resolution |\n",
    "\n"
   ]
  },
  {
   "cell_type": "markdown",
   "id": "eaa18924-1739-46e0-9e58-3eeca86812fe",
   "metadata": {},
   "source": [
    "Great question! In **Pandas**, both `.asfreq()` and `.resample()` are used to change the frequency of time series data — but they behave **very differently** in terms of what they **do with the data**.\n",
    "\n",
    "Let’s break it down clearly with examples 👇\n",
    "\n",
    "---\n",
    "\n",
    "## 🆚 `.asfreq()` vs `.resample()` — Key Differences\n",
    "\n",
    "| Feature            | `.asfreq()`                              | `.resample()`                                    |\n",
    "| ------------------ | ---------------------------------------- | ------------------------------------------------ |\n",
    "| **Purpose**        | Change frequency **without aggregation** | Change frequency **with aggregation or filling** |\n",
    "| **Aggregation**    | ❌ No aggregation                         | ✅ Supports aggregation (`mean()`, `sum()`, etc.) |\n",
    "| **Missing values** | Can insert NaNs                          | Can fill or aggregate missing values             |\n",
    "| **Speed**          | Faster                                   | Slower but more flexible                         |\n",
    "| **Use case**       | Just reindexing                          | Restructuring and computing summaries            |\n",
    "\n",
    "---\n",
    "\n",
    "## 📊 Sample Data\n",
    "\n",
    "```python\n",
    "import pandas as pd\n",
    "\n",
    "# Create a simple time series\n",
    "date_rng = pd.date_range(start='2024-01-01', periods=5, freq='D')\n",
    "df = pd.DataFrame({'value': [10, 20, 30, 40, 50]}, index=date_rng)\n",
    "print(df)\n",
    "```\n",
    "\n",
    "### Output:\n",
    "\n",
    "```\n",
    "            value\n",
    "2024-01-01     10\n",
    "2024-01-02     20\n",
    "2024-01-03     30\n",
    "2024-01-04     40\n",
    "2024-01-05     50\n",
    "```\n",
    "\n",
    "---\n",
    "\n",
    "## ⚙️ 1. Using `.asfreq('2D')` — change frequency, no aggregation\n",
    "\n",
    "```python\n",
    "df_asfreq = df.asfreq('2D')\n",
    "print(df_asfreq)\n",
    "```\n",
    "\n",
    "### Output:\n",
    "\n",
    "```\n",
    "            value\n",
    "2024-01-01     10\n",
    "2024-01-03     30\n",
    "2024-01-05     50\n",
    "```\n",
    "\n",
    "* Keeps only rows that **exist** at the new frequency (2-day interval).\n",
    "* No aggregation — just a subset.\n",
    "\n",
    "---\n",
    "\n",
    "## ⚙️ 2. Using `.resample('2D').mean()` — change frequency **with aggregation**\n",
    "\n",
    "```python\n",
    "df_resample = df.resample('2D').mean()\n",
    "print(df_resample)\n",
    "```\n",
    "\n",
    "### Output:\n",
    "\n",
    "```\n",
    "            value\n",
    "2024-01-01   15.0   # average of 10 + 20\n",
    "2024-01-03   35.0   # average of 30 + 40\n",
    "2024-01-05   50.0   # just 50\n",
    "```\n",
    "\n",
    "* Resamples in 2-day chunks and **computes the mean** of the values within each chunk.\n",
    "\n",
    "---\n",
    "\n",
    "## ✅ When to Use What?\n",
    "\n",
    "| Goal                                              | Use                                        |\n",
    "| ------------------------------------------------- | ------------------------------------------ |\n",
    "| Just align time index to a new frequency          | `.asfreq()`                                |\n",
    "| Aggregate or compute summaries over new frequency | `.resample()`                              |\n",
    "| Fill in missing periods without modifying values  | `.asfreq().ffill()` or `.asfreq().bfill()` |\n",
    "| Compute rolling stats per week/month/etc          | `.resample()` + `.mean()` / `.sum()`       |\n",
    "\n",
    "---\n",
    "\n",
    "## Bonus: Forward fill with `.asfreq()`\n",
    "\n",
    "```python\n",
    "df_asfreq_fill = df.asfreq('12H').ffill()\n",
    "print(df_asfreq_fill.head(5))\n",
    "```\n",
    "\n",
    "* Inserts 12-hour intervals and forward-fills missing values.\n",
    "\n"
   ]
  },
  {
   "cell_type": "code",
   "execution_count": 220,
   "id": "71c501c8-4a3a-4c6c-badf-a32484b314b6",
   "metadata": {},
   "outputs": [],
   "source": [
    "# Downsampling\n",
    "#yt['Subscribers'].plot()\n",
    "#yt['Subscribers'].resample('Y').mean().plot()"
   ]
  },
  {
   "cell_type": "code",
   "execution_count": 226,
   "id": "d0bbbd90-7191-4aaf-b048-737f1079266c",
   "metadata": {},
   "outputs": [
    {
     "data": {
      "text/plain": [
       "<AxesSubplot:xlabel='Date'>"
      ]
     },
     "execution_count": 226,
     "metadata": {},
     "output_type": "execute_result"
    },
    {
     "data": {
      "image/png": "[encoded data removed]",
      "text/plain": [
       "<Figure size 432x288 with 1 Axes>"
      ]
     },
     "metadata": {
      "needs_background": "light"
     },
     "output_type": "display_data"
    }
   ],
   "source": [
    "# Upsampling\n",
    "#here since we increase the frequency will get NaN values which needs to be filled by a method, method will depend on type of data we have which\n",
    "# is part of time series analysis, spline is use for polynomial, we have liner also\n",
    "google['Close'].resample('12H').interpolate(method='spline',order=2).plot()"
   ]
  },
  {
   "cell_type": "markdown",
   "id": "2373fe7d-ef91-4697-ad2a-c2c30699e1b0",
   "metadata": {},
   "source": [
    "# Rolling Window(Smoothing)\n",
    "Time series data in original format can be quite volatile, especially on smaller aggregation levels. The concept of rolling, or moving averages is a useful technique for smoothing time series data. "
   ]
  },
  {
   "cell_type": "markdown",
   "id": "76b89eb6-b70a-4626-8cdf-b86ae7db89df",
   "metadata": {},
   "source": [
    "Absolutely! Let's dive into **rolling operations in pandas** — a powerful tool for **moving window calculations** on time series or sequential data.\n",
    "\n",
    "---\n",
    "\n",
    "## 🔁 What is `rolling()` in pandas?\n",
    "\n",
    "`rolling()` creates a **moving window view** over a DataFrame or Series. This is useful for computing statistics like **moving averages, rolling sums, standard deviations**, etc.\n",
    "\n",
    "---\n",
    "\n",
    "## 📊 Example Dataset\n",
    "\n",
    "```python\n",
    "import pandas as pd\n",
    "\n",
    "# Create a simple time series\n",
    "date_rng = pd.date_range(start='2024-01-01', periods=10, freq='D')\n",
    "df = pd.DataFrame({'value': range(1, 11)}, index=date_rng)\n",
    "\n",
    "print(df)\n",
    "```\n",
    "\n",
    "### Output:\n",
    "\n",
    "```\n",
    "            value\n",
    "2024-01-01      1\n",
    "2024-01-02      2\n",
    "2024-01-03      3\n",
    "2024-01-04      4\n",
    "2024-01-05      5\n",
    "2024-01-06      6\n",
    "2024-01-07      7\n",
    "2024-01-08      8\n",
    "2024-01-09      9\n",
    "2024-01-10     10\n",
    "```\n",
    "\n",
    "---\n",
    "\n",
    "## 📐 Rolling Mean Example (Window of 3 Days)\n",
    "\n",
    "```python\n",
    "# Calculate rolling mean with window size 3\n",
    "df['rolling_mean'] = df['value'].rolling(window=3).mean()\n",
    "print(df)\n",
    "```\n",
    "\n",
    "### Output:\n",
    "\n",
    "```\n",
    "            value  rolling_mean\n",
    "2024-01-01      1           NaN\n",
    "2024-01-02      2           NaN\n",
    "2024-01-03      3           2.0   # (1+2+3)/3\n",
    "2024-01-04      4           3.0   # (2+3+4)/3\n",
    "2024-01-05      5           4.0   # (3+4+5)/3\n",
    "...\n",
    "2024-01-10     10           9.0\n",
    "```\n",
    "\n",
    "---\n",
    "\n",
    "## ⚙️ Rolling Window Options\n",
    "\n",
    "| Parameter       | Description                                                 |\n",
    "| --------------- | ----------------------------------------------------------- |\n",
    "| `window=N`      | Window size (number of periods)                             |\n",
    "| `min_periods=1` | Minimum values required for computation                     |\n",
    "| `center=True`   | Align result to center of window (default is right-aligned) |\n",
    "\n",
    "---\n",
    "\n",
    "## 🧮 Other Rolling Calculations\n",
    "\n",
    "```python\n",
    "# Rolling sum\n",
    "df['rolling_sum'] = df['value'].rolling(window=3).sum()\n",
    "\n",
    "# Rolling standard deviation\n",
    "df['rolling_std'] = df['value'].rolling(window=3).std()\n",
    "\n",
    "# Rolling max\n",
    "df['rolling_max'] = df['value'].rolling(window=3).max()\n",
    "```\n",
    "\n",
    "---\n",
    "\n",
    "## 📈 Visualization (Optional)\n",
    "\n",
    "```python\n",
    "import matplotlib.pyplot as plt\n",
    "\n",
    "df[['value', 'rolling_mean']].plot(title=\"Rolling Mean (3-day)\")\n",
    "plt.show()\n",
    "```\n",
    "\n",
    "---\n",
    "\n",
    "## ✅ Use Cases\n",
    "\n",
    "* **Smoothing time series** (e.g., stock prices, temperature)\n",
    "* **Trend detection**\n",
    "* **Anomaly detection** using rolling std/variance\n",
    "* **Financial indicators** (e.g., moving averages, Bollinger Bands)\n"
   ]
  },
  {
   "cell_type": "code",
   "execution_count": 234,
   "id": "ddd0e152-451f-4d14-a8ae-16e024467382",
   "metadata": {},
   "outputs": [
    {
     "data": {
      "text/plain": [
       "<AxesSubplot:title={'center':'rolling'}, xlabel='Date'>"
      ]
     },
     "execution_count": 234,
     "metadata": {},
     "output_type": "execute_result"
    },
    {
     "data": {
      "image/png": "[encoded data removed]",
      "text/plain": [
       "<Figure size 432x288 with 1 Axes>"
      ]
     },
     "metadata": {
      "needs_background": "light"
     },
     "output_type": "display_data"
    }
   ],
   "source": [
    "google['Close'].rolling(30).mean().plot(title='rolling')\n"
   ]
  },
  {
   "cell_type": "code",
   "execution_count": 232,
   "id": "45489253-a1f3-448b-b208-02fa59279524",
   "metadata": {},
   "outputs": [
    {
     "data": {
      "text/plain": [
       "<AxesSubplot:title={'center':'ewm'}, xlabel='Date'>"
      ]
     },
     "execution_count": 232,
     "metadata": {},
     "output_type": "execute_result"
    },
    {
     "data": {
      "image/png": "[encoded data removed]",
      "text/plain": [
       "<Figure size 432x288 with 1 Axes>"
      ]
     },
     "metadata": {
      "needs_background": "light"
     },
     "output_type": "display_data"
    }
   ],
   "source": [
    "google['Close'].ewm(30).mean().plot(title='ewm')"
   ]
  },
  {
   "cell_type": "markdown",
   "id": "46a41409-596e-4133-9845-e33130a794f0",
   "metadata": {},
   "source": [
    "Absolutely! Let's walk through a **clear, code-based example** comparing `.rolling()` and `.ewm()` side-by-side with **actual data**.\n",
    "\n",
    "---\n",
    "\n",
    "## 📊 Step-by-Step Example\n",
    "\n",
    "```python\n",
    "import pandas as pd\n",
    "import matplotlib.pyplot as plt\n",
    "\n",
    "# Create simple time series data\n",
    "date_rng = pd.date_range(start='2024-01-01', periods=10, freq='D')\n",
    "data = [10, 12, 13, 15, 14, 16, 18, 17, 20, 22]\n",
    "df = pd.DataFrame({'value': data}, index=date_rng)\n",
    "\n",
    "# Rolling Mean: 3-day simple moving average\n",
    "df['rolling_mean'] = df['value'].rolling(window=3).mean()\n",
    "\n",
    "# Exponential Weighted Moving Average (EWMA): span=3\n",
    "df['ewm_mean'] = df['value'].ewm(span=3, adjust=False).mean()\n",
    "\n",
    "# Display the data\n",
    "print(df)\n",
    "```\n",
    "\n",
    "### 📋 Output:\n",
    "\n",
    "| Date       | value | rolling\\_mean | ewm\\_mean |\n",
    "| ---------- | ----- | ------------- | --------- |\n",
    "| 2024-01-01 | 10    | NaN           | 10.00     |\n",
    "| 2024-01-02 | 12    | NaN           | 10.67     |\n",
    "| 2024-01-03 | 13    | 11.67         | 11.56     |\n",
    "| 2024-01-04 | 15    | 13.33         | 12.71     |\n",
    "| 2024-01-05 | 14    | 14.00         | 13.47     |\n",
    "| 2024-01-06 | 16    | 15.00         | 14.65     |\n",
    "| 2024-01-07 | 18    | 16.00         | 15.77     |\n",
    "| 2024-01-08 | 17    | 17.00         | 16.25     |\n",
    "| 2024-01-09 | 20    | 18.33         | 17.50     |\n",
    "| 2024-01-10 | 22    | 19.67         | 18.83     |\n",
    "\n",
    "---\n",
    "\n",
    "## 🧠 What This Shows\n",
    "\n",
    "* `rolling_mean` starts returning values only **after 3 data points**.\n",
    "* `ewm_mean` gives a value **from the start**, and **responds faster** to increases (like 20 → 22).\n",
    "* At the end, `ewm_mean` has caught up to the trend quicker than `rolling_mean`.\n",
    "\n",
    "---\n",
    "\n",
    "## 📈 Plotting to Visualize the Difference\n",
    "\n",
    "```python\n",
    "df.plot(title='Rolling Mean vs Exponential Weighted Mean', marker='o')\n",
    "plt.ylabel(\"Value\")\n",
    "plt.grid(True)\n",
    "plt.show()\n",
    "```\n",
    "\n",
    "### 🔍 Interpretation:\n",
    "\n",
    "* **Rolling mean**: smoother, lags behind, equal weight to last 3 points.\n",
    "* **EWMA**: less lag, emphasizes recent changes.\n",
    "\n",
    "---\n",
    "\n",
    "## Summary\n",
    "\n",
    "| Feature                 | Rolling Mean (`.rolling()`) | EWMA (`.ewm()`) |\n",
    "| ----------------------- | --------------------------- | --------------- |\n",
    "| Equal weights           | ✅                           | ❌               |\n",
    "| Recent value focus      | ❌                           | ✅               |\n",
    "| Reacts to trends faster | ❌                           | ✅               |\n",
    "| Smoother for analysis   | ✅                           | ✅               |\n",
    "\n",
    "\n"
   ]
  },
  {
   "cell_type": "markdown",
   "id": "01cbd5d5-64f5-44ed-8f2d-1d15068bc728",
   "metadata": {},
   "source": [
    "# Shifting\n",
    "\n",
    "The shift() function is Pandas is used to, well, shift the entire series up or down by the desired number of periods."
   ]
  },
  {
   "cell_type": "markdown",
   "id": "ec578fcb-dfd5-436a-82a2-08df207b3259",
   "metadata": {},
   "source": [
    "Sure! Let's explore **shifting in pandas**, a powerful tool for time series and sequential data.\n",
    "\n",
    "---\n",
    "\n",
    "## 🔁 What is `.shift()` in Pandas?\n",
    "\n",
    "`.shift()` **moves your data up or down** along the index. It’s commonly used to:\n",
    "\n",
    "* Compare values across time (e.g., “today vs yesterday”)\n",
    "* Calculate **differences** or **returns**\n",
    "* Create **lag** or **lead** features for modeling\n",
    "\n",
    "---\n",
    "\n",
    "## 🧪 Example Data\n",
    "\n",
    "```python\n",
    "import pandas as pd\n",
    "\n",
    "# Create a simple time series\n",
    "date_rng = pd.date_range(start='2024-01-01', periods=5, freq='D')\n",
    "df = pd.DataFrame({'value': [10, 20, 30, 40, 50]}, index=date_rng)\n",
    "print(df)\n",
    "```\n",
    "\n",
    "### Output:\n",
    "\n",
    "```\n",
    "            value\n",
    "2024-01-01     10\n",
    "2024-01-02     20\n",
    "2024-01-03     30\n",
    "2024-01-04     40\n",
    "2024-01-05     50\n",
    "```\n",
    "\n",
    "---\n",
    "\n",
    "## 📤 `.shift()` Example – Lagging the data\n",
    "\n",
    "```python\n",
    "df['shifted'] = df['value'].shift(1)\n",
    "```\n",
    "\n",
    "### Output:\n",
    "\n",
    "```\n",
    "            value  shifted\n",
    "2024-01-01     10      NaN   ← no previous day\n",
    "2024-01-02     20     10.0\n",
    "2024-01-03     30     20.0\n",
    "2024-01-04     40     30.0\n",
    "2024-01-05     50     40.0\n",
    "```\n",
    "\n",
    "* This shifts the values **down** by 1 row.\n",
    "* `NaN` at the top because there's no previous value for the first day.\n",
    "\n",
    "---\n",
    "\n",
    "## 🔄 Negative Shift – Look Ahead\n",
    "\n",
    "```python\n",
    "df['lead'] = df['value'].shift(-1)\n",
    "```\n",
    "\n",
    "### Output:\n",
    "\n",
    "```\n",
    "            value  shifted  lead\n",
    "2024-01-01     10     NaN   20.0\n",
    "2024-01-02     20    10.0   30.0\n",
    "2024-01-03     30    20.0   40.0\n",
    "2024-01-04     40    30.0   50.0\n",
    "2024-01-05     50    40.0    NaN\n",
    "```\n",
    "\n",
    "* This moves the values **up**.\n",
    "* `lead` column now contains the **next day’s value**.\n",
    "\n",
    "---\n",
    "\n",
    "## 🔢 Example: Calculating Daily Change\n",
    "\n",
    "```python\n",
    "df['daily_change'] = df['value'] - df['value'].shift(1)\n",
    "```\n",
    "\n",
    "### Output:\n",
    "\n",
    "```\n",
    "            value  daily_change\n",
    "2024-01-01     10           NaN\n",
    "2024-01-02     20          10.0\n",
    "2024-01-03     30          10.0\n",
    "2024-01-04     40          10.0\n",
    "2024-01-05     50          10.0\n",
    "```\n",
    "\n",
    "---\n",
    "\n",
    "## ⚙️ `.shift()` Parameters\n",
    "\n",
    "| Parameter | Purpose                                                                      |\n",
    "| --------- | ---------------------------------------------------------------------------- |\n",
    "| `periods` | Number of steps to shift (positive = lag, negative = lead)                   |\n",
    "| `freq`    | Optional frequency offset (e.g., `\"D\"`, `\"M\"`), used for time-based shifting |\n",
    "| `axis`    | Use axis=0 for rows (default), axis=1 for columns                            |\n",
    "\n",
    "### Example with `freq` (time-based index):\n",
    "\n",
    "```python\n",
    "df['date_shifted'] = df['value'].shift(1, freq='D')  # shifts index forward by 1 day\n",
    "```\n",
    "\n",
    "---\n",
    "\n",
    "## ✅ Summary\n",
    "\n",
    "| Use Case                      | How to Use                                         |\n",
    "| ----------------------------- | -------------------------------------------------- |\n",
    "| Lag features                  | `df['lag_1'] = df['value'].shift(1)`               |\n",
    "| Lead prediction targets       | `df['lead'] = df['value'].shift(-1)`               |\n",
    "| Calculate changes             | `df['diff'] = df['value'].diff()` or use `shift()` |\n",
    "| Time-based shift (date logic) | `df.shift(periods=1, freq='D')`                    |\n",
    "\n"
   ]
  },
  {
   "cell_type": "code",
   "execution_count": null,
   "id": "72175670-0837-4f3d-bfb5-52055b3f2ee6",
   "metadata": {},
   "outputs": [],
   "source": []
  }
 ],
 "metadata": {
  "kernelspec": {
   "display_name": "Python [conda env:base] *",
   "language": "python",
   "name": "conda-base-py"
  },
  "language_info": {
   "codemirror_mode": {
    "name": "ipython",
    "version": 3
   },
   "file_extension": ".py",
   "mimetype": "text/x-python",
   "name": "python",
   "nbconvert_exporter": "python",
   "pygments_lexer": "ipython3",
   "version": "3.9.20"
  }
 },
 "nbformat": 4,
 "nbformat_minor": 5
}

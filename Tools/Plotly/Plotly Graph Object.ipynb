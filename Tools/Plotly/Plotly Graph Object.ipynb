{
 "cells": [
  {
   "cell_type": "code",
   "execution_count": 1,
   "id": "dc1b1c91-0b12-4c6d-98c4-0b0bacf93901",
   "metadata": {},
   "outputs": [
    {
     "name": "stdout",
     "output_type": "stream",
     "text": [
      "Intel MKL WARNING: Support of Intel(R) Streaming SIMD Extensions 4.2 (Intel(R) SSE4.2) enabled only processors has been deprecated. Intel oneAPI Math Kernel Library 2025.0 will require Intel(R) Advanced Vector Extensions (Intel(R) AVX) instructions.\n",
      "Intel MKL WARNING: Support of Intel(R) Streaming SIMD Extensions 4.2 (Intel(R) SSE4.2) enabled only processors has been deprecated. Intel oneAPI Math Kernel Library 2025.0 will require Intel(R) Advanced Vector Extensions (Intel(R) AVX) instructions.\n"
     ]
    }
   ],
   "source": [
    "import numpy as np\n",
    "import pandas as pd\n",
    "import plotly.graph_objects as go\n",
    "import plotly.offline as pyo"
   ]
  },
  {
   "cell_type": "code",
   "execution_count": 2,
   "id": "71502189-39a4-435f-9a88-86cec461fcf3",
   "metadata": {},
   "outputs": [
    {
     "data": {
      "text/plain": [
       "Index(['match_id', 'inning', 'batting_team', 'bowling_team', 'over', 'ball',\n",
       "       'batsman', 'non_striker', 'bowler', 'is_super_over', 'wide_runs',\n",
       "       'bye_runs', 'legbye_runs', 'noball_runs', 'penalty_runs',\n",
       "       'batsman_runs', 'extra_runs', 'total_runs', 'player_dismissed',\n",
       "       'dismissal_kind', 'fielder', 'id', 'Season', 'city', 'date', 'team1',\n",
       "       'team2', 'toss_winner', 'toss_decision', 'result', 'dl_applied',\n",
       "       'winner', 'win_by_runs', 'win_by_wickets', 'player_of_match', 'venue',\n",
       "       'umpire1', 'umpire2', 'umpire3'],\n",
       "      dtype='object')"
      ]
     },
     "execution_count": 2,
     "metadata": {},
     "output_type": "execute_result"
    }
   ],
   "source": [
    "#creating dataset\n",
    "matches = pd.read_csv('matches.csv')\n",
    "deliveries = pd.read_csv('deliveries.csv')\n",
    "ipl=deliveries.merge(matches,left_on='match_id',right_on='id')\n",
    "#ipl.head()\n",
    "ipl.columns"
   ]
  },
  {
   "cell_type": "code",
   "execution_count": 3,
   "id": "c58b846d-279d-4620-bf61-3c10fa2d60f3",
   "metadata": {},
   "outputs": [],
   "source": [
    "#Find first 50 run scorer\n",
    "top50_batsman=ipl.groupby('batsman')['batsman_runs'].sum().sort_values(ascending=False).head(50).index.to_list()"
   ]
  },
  {
   "cell_type": "code",
   "execution_count": 4,
   "id": "415fd913-8bc9-4d16-b764-bc0a7d371bf1",
   "metadata": {},
   "outputs": [
    {
     "data": {
      "text/html": [
       "<div>\n",
       "<style scoped>\n",
       "    .dataframe tbody tr th:only-of-type {\n",
       "        vertical-align: middle;\n",
       "    }\n",
       "\n",
       "    .dataframe tbody tr th {\n",
       "        vertical-align: top;\n",
       "    }\n",
       "\n",
       "    .dataframe thead th {\n",
       "        text-align: right;\n",
       "    }\n",
       "</style>\n",
       "<table border=\"1\" class=\"dataframe\">\n",
       "  <thead>\n",
       "    <tr style=\"text-align: right;\">\n",
       "      <th></th>\n",
       "      <th>batsman</th>\n",
       "      <th>sum</th>\n",
       "      <th>count</th>\n",
       "      <th>sr</th>\n",
       "    </tr>\n",
       "  </thead>\n",
       "  <tbody>\n",
       "    <tr>\n",
       "      <th>0</th>\n",
       "      <td>AB de Villiers</td>\n",
       "      <td>4428</td>\n",
       "      <td>2977</td>\n",
       "      <td>148.740343</td>\n",
       "    </tr>\n",
       "    <tr>\n",
       "      <th>1</th>\n",
       "      <td>AC Gilchrist</td>\n",
       "      <td>2069</td>\n",
       "      <td>1555</td>\n",
       "      <td>133.054662</td>\n",
       "    </tr>\n",
       "    <tr>\n",
       "      <th>2</th>\n",
       "      <td>AD Russell</td>\n",
       "      <td>1445</td>\n",
       "      <td>803</td>\n",
       "      <td>179.950187</td>\n",
       "    </tr>\n",
       "    <tr>\n",
       "      <th>3</th>\n",
       "      <td>AJ Finch</td>\n",
       "      <td>1744</td>\n",
       "      <td>1372</td>\n",
       "      <td>127.113703</td>\n",
       "    </tr>\n",
       "    <tr>\n",
       "      <th>4</th>\n",
       "      <td>AM Rahane</td>\n",
       "      <td>3850</td>\n",
       "      <td>3215</td>\n",
       "      <td>119.751166</td>\n",
       "    </tr>\n",
       "  </tbody>\n",
       "</table>\n",
       "</div>"
      ],
      "text/plain": [
       "          batsman   sum  count          sr\n",
       "0  AB de Villiers  4428   2977  148.740343\n",
       "1    AC Gilchrist  2069   1555  133.054662\n",
       "2      AD Russell  1445    803  179.950187\n",
       "3        AJ Finch  1744   1372  127.113703\n",
       "4       AM Rahane  3850   3215  119.751166"
      ]
     },
     "execution_count": 4,
     "metadata": {},
     "output_type": "execute_result"
    }
   ],
   "source": [
    "top50_batman_df= ipl[ipl['batsman'].isin(top50_batsman)]\n",
    "top50_batman_df_grp=top50_batman_df.groupby('batsman')['batsman_runs'].agg(['sum','count'])\n",
    "top50_batman_df_grp['sr']=top50_batman_df_grp['sum']/top50_batman_df_grp['count'] *100\n",
    "top50_batman_df_grp.reset_index(inplace=True)\n",
    "top50_batman_df_grp.head()"
   ]
  },
  {
   "cell_type": "code",
   "execution_count": 5,
   "id": "f3c8cc53-0793-410c-b3fa-2d6f4def2494",
   "metadata": {},
   "outputs": [
    {
     "data": {
      "text/html": [
       "<div>\n",
       "<style scoped>\n",
       "    .dataframe tbody tr th:only-of-type {\n",
       "        vertical-align: middle;\n",
       "    }\n",
       "\n",
       "    .dataframe tbody tr th {\n",
       "        vertical-align: top;\n",
       "    }\n",
       "\n",
       "    .dataframe thead th {\n",
       "        text-align: right;\n",
       "    }\n",
       "</style>\n",
       "<table border=\"1\" class=\"dataframe\">\n",
       "  <thead>\n",
       "    <tr style=\"text-align: right;\">\n",
       "      <th></th>\n",
       "      <th>batsman</th>\n",
       "      <th>sum</th>\n",
       "      <th>count</th>\n",
       "      <th>sr</th>\n",
       "      <th>outs</th>\n",
       "      <th>avg</th>\n",
       "    </tr>\n",
       "  </thead>\n",
       "  <tbody>\n",
       "    <tr>\n",
       "      <th>0</th>\n",
       "      <td>AB de Villiers</td>\n",
       "      <td>4428</td>\n",
       "      <td>2977</td>\n",
       "      <td>148.740343</td>\n",
       "      <td>110</td>\n",
       "      <td>40.254545</td>\n",
       "    </tr>\n",
       "    <tr>\n",
       "      <th>1</th>\n",
       "      <td>AC Gilchrist</td>\n",
       "      <td>2069</td>\n",
       "      <td>1555</td>\n",
       "      <td>133.054662</td>\n",
       "      <td>76</td>\n",
       "      <td>27.223684</td>\n",
       "    </tr>\n",
       "    <tr>\n",
       "      <th>2</th>\n",
       "      <td>AD Russell</td>\n",
       "      <td>1445</td>\n",
       "      <td>803</td>\n",
       "      <td>179.950187</td>\n",
       "      <td>42</td>\n",
       "      <td>34.404762</td>\n",
       "    </tr>\n",
       "    <tr>\n",
       "      <th>3</th>\n",
       "      <td>AJ Finch</td>\n",
       "      <td>1744</td>\n",
       "      <td>1372</td>\n",
       "      <td>127.113703</td>\n",
       "      <td>67</td>\n",
       "      <td>26.029851</td>\n",
       "    </tr>\n",
       "    <tr>\n",
       "      <th>4</th>\n",
       "      <td>AM Rahane</td>\n",
       "      <td>3850</td>\n",
       "      <td>3215</td>\n",
       "      <td>119.751166</td>\n",
       "      <td>116</td>\n",
       "      <td>33.189655</td>\n",
       "    </tr>\n",
       "  </tbody>\n",
       "</table>\n",
       "</div>"
      ],
      "text/plain": [
       "          batsman   sum  count          sr  outs        avg\n",
       "0  AB de Villiers  4428   2977  148.740343   110  40.254545\n",
       "1    AC Gilchrist  2069   1555  133.054662    76  27.223684\n",
       "2      AD Russell  1445    803  179.950187    42  34.404762\n",
       "3        AJ Finch  1744   1372  127.113703    67  26.029851\n",
       "4       AM Rahane  3850   3215  119.751166   116  33.189655"
      ]
     },
     "execution_count": 5,
     "metadata": {},
     "output_type": "execute_result"
    }
   ],
   "source": [
    "top50_outs=ipl[ipl['player_dismissed'].isin(top50_batsman)]['player_dismissed'].value_counts().reset_index()\n",
    "top50_outs.columns=['batsman','outs']\n",
    "top50_sr_avg=top50_batman_df_grp.merge(top50_outs,on='batsman')\n",
    "top50_sr_avg['avg']=top50_sr_avg['sum']/top50_sr_avg['outs']\n",
    "top50_sr_avg.head()\n",
    "\n",
    "\n"
   ]
  },
  {
   "cell_type": "code",
   "execution_count": 6,
   "id": "e271b9a3-172f-4a9b-8d73-c8dd72abbd00",
   "metadata": {},
   "outputs": [
    {
     "data": {
      "text/plain": [
       "'temp-plot.html'"
      ]
     },
     "execution_count": 6,
     "metadata": {},
     "output_type": "execute_result"
    }
   ],
   "source": [
    "# in plotly to create a graph we require figure object.\n",
    "# this figure object takes 2 inputs trace (which is data) and layout(used to set other properties of layout)\n",
    "# trace is a list of data which needs to be plotted on the graph\n",
    "#scatter plot\n",
    "\n",
    "trace1=go.Scatter(x=top50_sr_avg['avg'],y=top50_sr_avg['sr'],mode='markers')\n",
    "data=[trace1]\n",
    "\n",
    "layout=go.Layout(title='Average vs Strike Rate of top 50 Batsman',xaxis={'title':'Average of batsman'},yaxis={'title':'Strike rate'})\n",
    "fig=go.Figure(data,layout)\n",
    "pyo.plot(fig)\n"
   ]
  },
  {
   "cell_type": "code",
   "execution_count": 7,
   "id": "714fee01-10bb-4b52-a871-cf92c86fad69",
   "metadata": {},
   "outputs": [
    {
     "data": {
      "text/plain": [
       "'scatterplot.html'"
      ]
     },
     "execution_count": 7,
     "metadata": {},
     "output_type": "execute_result"
    }
   ],
   "source": [
    "# to show batsman name on hover use text parameter, makrker parameter is used to change size & color of marker\n",
    "# also we can specify the file name in plot function else it will create all file with temp-plot\n",
    "\n",
    "trace1=go.Scatter(x=top50_sr_avg['avg'],y=top50_sr_avg['sr'],mode='markers',text=top50_sr_avg['batsman'],marker={'color':'#00a65a','size':16})\n",
    "data=[trace1]\n",
    "\n",
    "layout=go.Layout(title='Average vs Strike Rate of top 50 Batsman',xaxis={'title':'Average of batsman'},yaxis={'title':'Strike rate'})\n",
    "fig=go.Figure(data,layout)\n",
    "pyo.plot(fig,filename='scatterplot.html')\n"
   ]
  },
  {
   "cell_type": "markdown",
   "id": "972bae38-eb2f-4475-a5bb-9e1354b30386",
   "metadata": {},
   "source": [
    "# Line Chart"
   ]
  },
  {
   "cell_type": "code",
   "execution_count": 9,
   "id": "63963a83-9bac-4835-8874-523a4eb9c5d8",
   "metadata": {},
   "outputs": [
    {
     "data": {
      "text/html": [
       "<div>\n",
       "<style scoped>\n",
       "    .dataframe tbody tr th:only-of-type {\n",
       "        vertical-align: middle;\n",
       "    }\n",
       "\n",
       "    .dataframe tbody tr th {\n",
       "        vertical-align: top;\n",
       "    }\n",
       "\n",
       "    .dataframe thead th {\n",
       "        text-align: right;\n",
       "    }\n",
       "</style>\n",
       "<table border=\"1\" class=\"dataframe\">\n",
       "  <thead>\n",
       "    <tr style=\"text-align: right;\">\n",
       "      <th></th>\n",
       "      <th>Season</th>\n",
       "      <th>batsman_runs</th>\n",
       "    </tr>\n",
       "  </thead>\n",
       "  <tbody>\n",
       "    <tr>\n",
       "      <th>0</th>\n",
       "      <td>IPL-2008</td>\n",
       "      <td>165</td>\n",
       "    </tr>\n",
       "    <tr>\n",
       "      <th>1</th>\n",
       "      <td>IPL-2009</td>\n",
       "      <td>246</td>\n",
       "    </tr>\n",
       "    <tr>\n",
       "      <th>2</th>\n",
       "      <td>IPL-2010</td>\n",
       "      <td>307</td>\n",
       "    </tr>\n",
       "    <tr>\n",
       "      <th>3</th>\n",
       "      <td>IPL-2011</td>\n",
       "      <td>557</td>\n",
       "    </tr>\n",
       "    <tr>\n",
       "      <th>4</th>\n",
       "      <td>IPL-2012</td>\n",
       "      <td>364</td>\n",
       "    </tr>\n",
       "    <tr>\n",
       "      <th>5</th>\n",
       "      <td>IPL-2013</td>\n",
       "      <td>639</td>\n",
       "    </tr>\n",
       "    <tr>\n",
       "      <th>6</th>\n",
       "      <td>IPL-2014</td>\n",
       "      <td>359</td>\n",
       "    </tr>\n",
       "    <tr>\n",
       "      <th>7</th>\n",
       "      <td>IPL-2015</td>\n",
       "      <td>505</td>\n",
       "    </tr>\n",
       "    <tr>\n",
       "      <th>8</th>\n",
       "      <td>IPL-2016</td>\n",
       "      <td>973</td>\n",
       "    </tr>\n",
       "    <tr>\n",
       "      <th>9</th>\n",
       "      <td>IPL-2017</td>\n",
       "      <td>308</td>\n",
       "    </tr>\n",
       "    <tr>\n",
       "      <th>10</th>\n",
       "      <td>IPL-2018</td>\n",
       "      <td>539</td>\n",
       "    </tr>\n",
       "    <tr>\n",
       "      <th>11</th>\n",
       "      <td>IPL-2019</td>\n",
       "      <td>472</td>\n",
       "    </tr>\n",
       "  </tbody>\n",
       "</table>\n",
       "</div>"
      ],
      "text/plain": [
       "      Season  batsman_runs\n",
       "0   IPL-2008           165\n",
       "1   IPL-2009           246\n",
       "2   IPL-2010           307\n",
       "3   IPL-2011           557\n",
       "4   IPL-2012           364\n",
       "5   IPL-2013           639\n",
       "6   IPL-2014           359\n",
       "7   IPL-2015           505\n",
       "8   IPL-2016           973\n",
       "9   IPL-2017           308\n",
       "10  IPL-2018           539\n",
       "11  IPL-2019           472"
      ]
     },
     "execution_count": 9,
     "metadata": {},
     "output_type": "execute_result"
    }
   ],
   "source": [
    "vk=ipl[ipl['batsman']=='V Kohli']\n",
    "vk_perf=vk.groupby('Season')['batsman_runs'].sum().reset_index()\n",
    "vk_perf\n"
   ]
  },
  {
   "cell_type": "code",
   "execution_count": 10,
   "id": "66b3734a-3c6d-4497-88e4-28b65e3a1001",
   "metadata": {},
   "outputs": [
    {
     "data": {
      "text/plain": [
       "'temp-plot.html'"
      ]
     },
     "execution_count": 10,
     "metadata": {},
     "output_type": "execute_result"
    }
   ],
   "source": [
    "#line chart also we have to use scatter plot and if do not provide mode then by default it will create line chart or modes ='lines'\n",
    "trace=go.Scatter(x=vk_perf['Season'],y=vk_perf['batsman_runs'])\n",
    "data=[trace]\n",
    "\n",
    "layout=go.Layout(title='Virat Kohli Runs over time', xaxis={'title':'Seasons'},yaxis={'title':'Runs'})\n",
    "\n",
    "fig=go.Figure(data,layout)\n",
    "pyo.plot(fig)"
   ]
  },
  {
   "cell_type": "code",
   "execution_count": 11,
   "id": "d7285a7e-7467-4cab-9e19-60b2ed914abd",
   "metadata": {},
   "outputs": [
    {
     "data": {
      "text/plain": [
       "'temp-plot.html'"
      ]
     },
     "execution_count": 11,
     "metadata": {},
     "output_type": "execute_result"
    }
   ],
   "source": [
    "#mode=lines+markers to get both\n",
    "trace=go.Scatter(x=vk_perf['Season'],y=vk_perf['batsman_runs'],mode='lines+markers')\n",
    "data=[trace]\n",
    "\n",
    "layout=go.Layout(title='Virat Kohli Runs over time', xaxis={'title':'Seasons'},yaxis={'title':'Runs'})\n",
    "\n",
    "fig=go.Figure(data,layout)\n",
    "pyo.plot(fig)"
   ]
  },
  {
   "cell_type": "code",
   "execution_count": 12,
   "id": "b84ec4f6-4086-47bb-865c-32a639162f8e",
   "metadata": {},
   "outputs": [
    {
     "data": {
      "text/plain": [
       "'temp-plot.html'"
      ]
     },
     "execution_count": 12,
     "metadata": {},
     "output_type": "execute_result"
    }
   ],
   "source": [
    "#lets plot multiple line plots, name parameter is added to provide legend to the chart\n",
    "msd=ipl[ipl['batsman']=='MS Dhoni']\n",
    "msd_perf=msd.groupby('Season')['batsman_runs'].sum().reset_index()\n",
    "msd_perf\n",
    "\n",
    "\n",
    "trace1=go.Scatter(x=vk_perf['Season'],y=vk_perf['batsman_runs'],mode='lines+markers',name='V Kohli')\n",
    "trace2=go.Scatter(x=msd_perf['Season'],y=msd_perf['batsman_runs'],mode='lines+markers',name ='MS Dhoni')\n",
    "\n",
    "data=[trace1,trace2]\n",
    "\n",
    "layout=go.Layout(title='Virat Kohli Runs over time', xaxis={'title':'Seasons'},yaxis={'title':'Runs'})\n",
    "\n",
    "fig=go.Figure(data,layout)\n",
    "pyo.plot(fig)\n",
    "\n"
   ]
  },
  {
   "cell_type": "code",
   "execution_count": 13,
   "id": "e482f803-30b9-47b4-bce4-018fe3c04a06",
   "metadata": {},
   "outputs": [],
   "source": [
    "def player_comp(*name):\n",
    "    trace=[]\n",
    "    for player in name:\n",
    "        df=ipl[ipl['batsman']==player]\n",
    "        df_grp= df.groupby('Season')['batsman_runs'].sum().reset_index()\n",
    "        trace.append(go.Scatter(x=df_grp['Season'],y=df_grp['batsman_runs'],mode='lines+markers',name=player))\n",
    "    layout=go.Layout(title='Players Comparison over time', xaxis={'title':'Seasons'},yaxis={'title':'Runs'})\n",
    "    fig=go.Figure(trace,layout)\n",
    "    pyo.plot(fig)\n",
    "\n",
    "\n",
    "        "
   ]
  },
  {
   "cell_type": "code",
   "execution_count": 14,
   "id": "728780a6-3cb1-48ba-aad4-a28deebf9998",
   "metadata": {},
   "outputs": [],
   "source": [
    "player_comp('V Kohli','MS Dhoni','RG Sharma','DA Warner','SK Raina')"
   ]
  },
  {
   "cell_type": "markdown",
   "id": "0717c921-526a-42da-a8bb-9715f5e0fd96",
   "metadata": {},
   "source": [
    "# Bar Chart\n",
    "* Used for 1 categorical and 1 numerical value specically count"
   ]
  },
  {
   "cell_type": "code",
   "execution_count": 16,
   "id": "d0cce40f-171d-4cb0-bd0b-68f7ab5eca47",
   "metadata": {},
   "outputs": [
    {
     "ename": "SyntaxError",
     "evalue": "invalid character '¸' (U+00B8) (1224012957.py, line 2)",
     "output_type": "error",
     "traceback": [
      "\u001b[0;36m  File \u001b[0;32m\"/var/folders/cm/nfcf9t8n1kq284ddpkmym7xr0000gn/T/ipykernel_1395/1224012957.py\"\u001b[0;36m, line \u001b[0;32m2\u001b[0m\n\u001b[0;31m    ¸= ipl[ipl['batsman'].isin(top10_batsman)]\u001b[0m\n\u001b[0m    ^\u001b[0m\n\u001b[0;31mSyntaxError\u001b[0m\u001b[0;31m:\u001b[0m invalid character '¸' (U+00B8)\n"
     ]
    }
   ],
   "source": [
    "top10_batsman=ipl.groupby('batsman')['batsman_runs'].sum().sort_values(ascending=False).head(10).index.to_list()\n",
    "¸= ipl[ipl['batsman'].isin(top10_batsman)]\n",
    "top10_batman_df_grp=top10_batman_df.groupby('batsman')['batsman_runs'].sum().reset_index()\n",
    "\n",
    "trace=go.Bar(x=top10_batman_df_grp['batsman'],y=top10_batman_df_grp['batsman_runs'])\n",
    "data=[trace]\n",
    "layout=go.Layout(title='Top 10 Bastman Stats',xaxis={'title':'Batsman'},yaxis={'title':'Total Runs Scored'})\n",
    "\n",
    "fig=go.Figure(data,layout)\n",
    "pyo.plot(fig)"
   ]
  },
  {
   "cell_type": "code",
   "execution_count": null,
   "id": "e7857263-7830-4732-9b1e-e131f5af6517",
   "metadata": {},
   "outputs": [],
   "source": [
    "# we have three type of bar chart nested, stacked , overlayered\n",
    "\n",
    "top10_batman_df_inn=top10_batman_df.groupby(['batsman','inning'])['batsman_runs'].sum().reset_index()\n",
    "first_inn_mask=top10_batman_df_inn['inning']==1\n",
    "second_inn_mask=top10_batman_df_inn['inning']==2\n",
    "\n",
    "first_inn=top10_batman_df_inn[first_inn_mask]\n",
    "second_inn=top10_batman_df_inn[second_inn_mask]\n",
    "\n",
    "first_inn.rename(columns={'batsman_runs':'First Inning'},inplace=True)\n",
    "second_inn.rename(columns={'batsman_runs':'Second Inning'},inplace=True)\n",
    "\n",
    "inn_df=first_inn.merge(second_inn,on='batsman')\n",
    "inn_df.head() \n"
   ]
  },
  {
   "cell_type": "code",
   "execution_count": null,
   "id": "62a69be2-50d1-43e7-88fc-d457a6e5764e",
   "metadata": {},
   "outputs": [],
   "source": [
    "#overlay means bar will come over the first bar of the player which may hide first bar if it has more value\n",
    "\n",
    "trace1=go.Bar(x=inn_df['batsman'],y=inn_df['First Inning'])\n",
    "trace2=go.Bar(x=inn_df['batsman'],y=inn_df['Second Inning'])\n",
    "\n",
    "data=[trace1,trace2]\n",
    "\n",
    "layout=go.Layout(title='Top 10 Bastman Stats',xaxis={'title':'Batsman'},yaxis={'title':'Total Runs Scored'},barmode='overlay')\n",
    "\n",
    "fig=go.Figure(data,layout)\n",
    "pyo.plot(fig)"
   ]
  },
  {
   "cell_type": "code",
   "execution_count": null,
   "id": "245454e4-8ad0-41b5-830e-ddbe9284cda9",
   "metadata": {},
   "outputs": [],
   "source": [
    "#stack means bar will come above the first bar of the player\n",
    "\n",
    "trace1=go.Bar(x=inn_df['batsman'],y=inn_df['First Inning'])\n",
    "trace2=go.Bar(x=inn_df['batsman'],y=inn_df['Second Inning'])\n",
    "\n",
    "data=[trace1,trace2]\n",
    "\n",
    "layout=go.Layout(title='Top 10 Bastman Stats',xaxis={'title':'Batsman'},yaxis={'title':'Total Runs Scored'},barmode='stack')\n",
    "\n",
    "fig=go.Figure(data,layout)\n",
    "pyo.plot(fig)"
   ]
  },
  {
   "cell_type": "code",
   "execution_count": null,
   "id": "ff6d6b27-e175-421c-9237-b33d20d569a4",
   "metadata": {},
   "outputs": [],
   "source": [
    "# nested bydefalut it is created in which bar will be side by side\n",
    "\n",
    "trace1=go.Bar(x=inn_df['batsman'],y=inn_df['First Inning'])\n",
    "trace2=go.Bar(x=inn_df['batsman'],y=inn_df['Second Inning'])\n",
    "\n",
    "data=[trace1,trace2]\n",
    "\n",
    "layout=go.Layout(title='Top 10 Bastman Stats',xaxis={'title':'Batsman'},yaxis={'title':'Total Runs Scored'})\n",
    "\n",
    "fig=go.Figure(data,layout)\n",
    "pyo.plot(fig)"
   ]
  },
  {
   "cell_type": "markdown",
   "id": "ca5114ad-21bd-48a3-8ebd-623e8662a9b9",
   "metadata": {},
   "source": [
    "# Bubble Plot\n",
    "* its a kind of scatter plot which can accomodate two more parameters one is size of bubble and other is color of bubble\n",
    "* so for bubble plot we have three numerical variables (one for x,for y and for size of buble) and one categorical varaible for color of the buble"
   ]
  },
  {
   "cell_type": "code",
   "execution_count": null,
   "id": "711ea8c2-d95d-4e94-9f1c-183cefc0c5dc",
   "metadata": {},
   "outputs": [],
   "source": [
    "#here using color we can provide the fourth parameter if exist\n",
    "six_df = top50_batman_df[top50_batman_df['batsman_runs']==6]\n",
    "six_df_final=six_df.groupby('batsman')['batsman_runs'].count().reset_index()\n",
    "six_df_final.rename(columns={'batsman_runs':'No of sixes'},inplace=True)\n",
    "\n",
    "top50_sr_avg_six=top50_sr_avg.merge(six_df_final,on='batsman')\n",
    "\n",
    "trace1=go.Scatter(x=top50_sr_avg_six['sr'],y=top50_sr_avg_six['avg'],mode='markers',marker={'size':top50_sr_avg_six['No of sixes']})\n",
    "data=[trace1]\n",
    "\n",
    "layout=go.Layout(title='Top 10 Bastman Stats',xaxis={'title':'Batsman'},yaxis={'title':'Total Runs Scored'})\n",
    "\n",
    "fig=go.Figure(data,layout)\n",
    "pyo.plot(fig)\n"
   ]
  },
  {
   "cell_type": "markdown",
   "id": "53ff9bca-8cf6-4272-81ad-aa227fdf66da",
   "metadata": {},
   "source": [
    "# Boxplot\n",
    "* done for numerical columns"
   ]
  },
  {
   "cell_type": "code",
   "execution_count": null,
   "id": "26d88db3-33ef-4d50-bb5b-6037b5abd3bb",
   "metadata": {},
   "outputs": [],
   "source": [
    "match_agg=deliveries.groupby('match_id')['total_runs'].sum().reset_index()\n",
    "season_wise=match_agg.merge(matches,left_on='match_id',right_on='id')[['match_id','total_runs','Season']]\n",
    "season_wise"
   ]
  },
  {
   "cell_type": "code",
   "execution_count": null,
   "id": "dd523b0b-2ac2-4a86-aaaa-72781854c365",
   "metadata": {},
   "outputs": [],
   "source": [
    "trace=go.Box(x=season_wise['total_runs'],name='All Seasons')\n",
    "data=[trace]\n",
    "\n",
    "layout=go.Layout(title='Season Wise Data',xaxis={'title':'Total Score'})\n",
    "\n",
    "fig=go.Figure(data,layout)\n",
    "pyo.plot(fig)\n"
   ]
  },
  {
   "cell_type": "code",
   "execution_count": null,
   "id": "39511fd1-4b57-4693-9c72-f8a924255f0b",
   "metadata": {},
   "outputs": [],
   "source": [
    "#to change color\n",
    "trace=go.Box(x=season_wise['total_runs'],name='All Seasons',marker={'color':'#00a65a'})\n",
    "data=[trace]\n",
    "\n",
    "layout=go.Layout(title='Season Wise Data',xaxis={'title':'Total Score'})\n",
    "\n",
    "fig=go.Figure(data,layout)\n",
    "pyo.plot(fig)"
   ]
  },
  {
   "cell_type": "code",
   "execution_count": 287,
   "id": "03322a7e-c07b-4ee4-847c-9d4e58690525",
   "metadata": {},
   "outputs": [
    {
     "data": {
      "text/plain": [
       "'temp-plot.html'"
      ]
     },
     "execution_count": 287,
     "metadata": {},
     "output_type": "execute_result"
    }
   ],
   "source": [
    "# multiple boxplots\n",
    "trace1=go.Box(x=season_wise[season_wise['Season']=='IPL-2017']['total_runs'],name='Season 2017',marker={'color':'#00a65a'})\n",
    "trace2=go.Box(x=season_wise[season_wise['Season']=='IPL-2008']['total_runs'],name='Season 2008')\n",
    "\n",
    "data=[trace1,trace2]\n",
    "\n",
    "layout=go.Layout(title='Season Wise Data',xaxis={'title':'Total Score'})\n",
    "\n",
    "fig=go.Figure(data,layout)\n",
    "pyo.plot(fig)"
   ]
  },
  {
   "cell_type": "markdown",
   "id": "e42b2361-7513-48ba-bd43-f7d53cb45af6",
   "metadata": {},
   "source": [
    "# Displot\n",
    "* plotted for continous single variable\n",
    "* it has three plots - histogram, kdeplot and rugplot\n",
    "* histplot: histogram of the data\n",
    "* kdeplot: smooth density estimate\n",
    "* rugplot: small vertical lines (rugs) at each data point along the x-axis\n",
    "* rugplot helps us to see distribution inside the bin."
   ]
  },
  {
   "cell_type": "code",
   "execution_count": 23,
   "id": "e28b997c-00ef-40ed-b096-041ec90623e0",
   "metadata": {},
   "outputs": [
    {
     "data": {
      "text/plain": [
       "'temp-plot.html'"
      ]
     },
     "execution_count": 23,
     "metadata": {},
     "output_type": "execute_result"
    }
   ],
   "source": [
    "#displot\n",
    "import plotly.figure_factory as ff\n",
    "# top50_sr_avg.head()\n",
    "\n",
    "hist_data=[top50_sr_avg['avg']]\n",
    "group_labels=['Average']\n",
    "\n",
    "fig=ff.create_distplot(hist_data,group_labels)\n",
    "\n",
    "pyo.plot(fig)"
   ]
  },
  {
   "cell_type": "code",
   "execution_count": 25,
   "id": "d2cd22eb-ec0b-4c26-b4f8-86142ad5852c",
   "metadata": {},
   "outputs": [
    {
     "data": {
      "text/plain": [
       "'temp-plot.html'"
      ]
     },
     "execution_count": 25,
     "metadata": {},
     "output_type": "execute_result"
    }
   ],
   "source": [
    "#mulitple distplots\n",
    "\n",
    "hist_data=[top50_sr_avg['avg'],top50_sr_avg['sr']]\n",
    "group_labels=['Average','Strike Rate']\n",
    "\n",
    "fig=ff.create_distplot(hist_data,group_labels)\n",
    "\n",
    "pyo.plot(fig)"
   ]
  },
  {
   "cell_type": "code",
   "execution_count": 27,
   "id": "dc810fc3-5de7-4c50-9861-cbde346ef21e",
   "metadata": {},
   "outputs": [
    {
     "data": {
      "text/plain": [
       "'temp-plot.html'"
      ]
     },
     "execution_count": 27,
     "metadata": {},
     "output_type": "execute_result"
    }
   ],
   "source": [
    "#to change the bins\n",
    "hist_data=[top50_sr_avg['avg'],top50_sr_avg['sr']]\n",
    "group_labels=['Average','Strike Rate']\n",
    "\n",
    "fig=ff.create_distplot(hist_data,group_labels,bin_size=[10,30])\n",
    "\n",
    "pyo.plot(fig)"
   ]
  },
  {
   "cell_type": "code",
   "execution_count": 37,
   "id": "9f5b2c7d-e6dd-4bf7-b047-b2ccdad7e0dc",
   "metadata": {},
   "outputs": [
    {
     "data": {
      "text/html": [
       "<div>\n",
       "<style scoped>\n",
       "    .dataframe tbody tr th:only-of-type {\n",
       "        vertical-align: middle;\n",
       "    }\n",
       "\n",
       "    .dataframe tbody tr th {\n",
       "        vertical-align: top;\n",
       "    }\n",
       "\n",
       "    .dataframe thead th {\n",
       "        text-align: right;\n",
       "    }\n",
       "</style>\n",
       "<table border=\"1\" class=\"dataframe\">\n",
       "  <thead>\n",
       "    <tr style=\"text-align: right;\">\n",
       "      <th></th>\n",
       "      <th>batsman</th>\n",
       "      <th>batsman_runs</th>\n",
       "    </tr>\n",
       "  </thead>\n",
       "  <tbody>\n",
       "    <tr>\n",
       "      <th>0</th>\n",
       "      <td>A Ashish Reddy</td>\n",
       "      <td>142.857143</td>\n",
       "    </tr>\n",
       "    <tr>\n",
       "      <th>1</th>\n",
       "      <td>A Mishra</td>\n",
       "      <td>89.756098</td>\n",
       "    </tr>\n",
       "    <tr>\n",
       "      <th>2</th>\n",
       "      <td>A Symonds</td>\n",
       "      <td>124.711908</td>\n",
       "    </tr>\n",
       "    <tr>\n",
       "      <th>3</th>\n",
       "      <td>AA Jhunjhunwala</td>\n",
       "      <td>99.541284</td>\n",
       "    </tr>\n",
       "    <tr>\n",
       "      <th>4</th>\n",
       "      <td>AB Agarkar</td>\n",
       "      <td>111.875000</td>\n",
       "    </tr>\n",
       "    <tr>\n",
       "      <th>...</th>\n",
       "      <td>...</td>\n",
       "      <td>...</td>\n",
       "    </tr>\n",
       "    <tr>\n",
       "      <th>169</th>\n",
       "      <td>Y Nagar</td>\n",
       "      <td>105.166052</td>\n",
       "    </tr>\n",
       "    <tr>\n",
       "      <th>170</th>\n",
       "      <td>Y Venugopal Rao</td>\n",
       "      <td>113.872832</td>\n",
       "    </tr>\n",
       "    <tr>\n",
       "      <th>171</th>\n",
       "      <td>YK Pathan</td>\n",
       "      <td>138.860326</td>\n",
       "    </tr>\n",
       "    <tr>\n",
       "      <th>172</th>\n",
       "      <td>YV Takawale</td>\n",
       "      <td>104.918033</td>\n",
       "    </tr>\n",
       "    <tr>\n",
       "      <th>173</th>\n",
       "      <td>Yuvraj Singh</td>\n",
       "      <td>125.283190</td>\n",
       "    </tr>\n",
       "  </tbody>\n",
       "</table>\n",
       "<p>174 rows × 2 columns</p>\n",
       "</div>"
      ],
      "text/plain": [
       "             batsman  batsman_runs\n",
       "0     A Ashish Reddy    142.857143\n",
       "1           A Mishra     89.756098\n",
       "2          A Symonds    124.711908\n",
       "3    AA Jhunjhunwala     99.541284\n",
       "4         AB Agarkar    111.875000\n",
       "..               ...           ...\n",
       "169          Y Nagar    105.166052\n",
       "170  Y Venugopal Rao    113.872832\n",
       "171        YK Pathan    138.860326\n",
       "172      YV Takawale    104.918033\n",
       "173     Yuvraj Singh    125.283190\n",
       "\n",
       "[174 rows x 2 columns]"
      ]
     },
     "execution_count": 37,
     "metadata": {},
     "output_type": "execute_result"
    }
   ],
   "source": [
    "mask_150=deliveries.groupby('batsman')['batsman_runs'].count()>150\n",
    "mask_150=mask_150[mask_150].index.to_list()\n",
    "\n",
    "batsman_pl_150=deliveries[deliveries['batsman'].isin(mask_150)]\n",
    "\n",
    "runs=batsman_pl_150.groupby('batsman')['batsman_runs'].sum()\n",
    "balls=batsman_pl_150.groupby('batsman')['batsman_runs'].count()\n",
    "\n",
    "sr=(runs/balls) *100\n",
    "sr=sr.reset_index()\n",
    "sr"
   ]
  },
  {
   "cell_type": "code",
   "execution_count": 41,
   "id": "40815721-e195-481a-975a-b4d58b8ddf44",
   "metadata": {},
   "outputs": [
    {
     "data": {
      "text/plain": [
       "'temp-plot.html'"
      ]
     },
     "execution_count": 41,
     "metadata": {},
     "output_type": "execute_result"
    }
   ],
   "source": [
    "#histogram\n",
    "\n",
    "trace=go.Histogram(x=sr['batsman_runs'],name='Strike Rate Variations')\n",
    "layout=go.Layout(title='Strike Rate Distribution')\n",
    "\n",
    "data=[trace]\n",
    "fig=go.Figure(data,layout)\n",
    "\n",
    "pyo.plot(fig)"
   ]
  },
  {
   "cell_type": "code",
   "execution_count": 43,
   "id": "27bb91c4-7795-4b97-9b75-5bc8255ea8af",
   "metadata": {},
   "outputs": [
    {
     "data": {
      "text/plain": [
       "'temp-plot.html'"
      ]
     },
     "execution_count": 43,
     "metadata": {},
     "output_type": "execute_result"
    }
   ],
   "source": [
    "#to change the histogram bin size\n",
    "\n",
    "trace=go.Histogram(x=sr['batsman_runs'],name='Strike Rate Variations',xbins={'size':4})\n",
    "layout=go.Layout(title='Strike Rate Distribution')\n",
    "\n",
    "data=[trace]\n",
    "fig=go.Figure(data,layout)\n",
    "\n",
    "pyo.plot(fig)"
   ]
  },
  {
   "cell_type": "code",
   "execution_count": 45,
   "id": "d0529753-90a8-42f0-8a53-89b43e59c6cc",
   "metadata": {},
   "outputs": [
    {
     "data": {
      "text/plain": [
       "'temp-plot.html'"
      ]
     },
     "execution_count": 45,
     "metadata": {},
     "output_type": "execute_result"
    }
   ],
   "source": [
    "# we can also define the start and end of the bins\n",
    "trace=go.Histogram(x=sr['batsman_runs'],name='Strike Rate Variations',xbins={'size':4,'start':50,'end':150})\n",
    "layout=go.Layout(title='Strike Rate Distribution')\n",
    "\n",
    "data=[trace]\n",
    "fig=go.Figure(data,layout)\n",
    "\n",
    "pyo.plot(fig)"
   ]
  },
  {
   "cell_type": "markdown",
   "id": "103e0d68-60ca-4d7f-b52a-ed5edb9cfda0",
   "metadata": {},
   "source": [
    "# Heatmap\n",
    "* here we show relation between 3 variable out of which one should be numerical to show the color gradient other two can be categorical or numerical"
   ]
  },
  {
   "cell_type": "code",
   "execution_count": 48,
   "id": "a4258f71-a423-4e2a-9308-faf757dd9cbc",
   "metadata": {},
   "outputs": [
    {
     "data": {
      "text/html": [
       "<div>\n",
       "<style scoped>\n",
       "    .dataframe tbody tr th:only-of-type {\n",
       "        vertical-align: middle;\n",
       "    }\n",
       "\n",
       "    .dataframe tbody tr th {\n",
       "        vertical-align: top;\n",
       "    }\n",
       "\n",
       "    .dataframe thead th {\n",
       "        text-align: right;\n",
       "    }\n",
       "</style>\n",
       "<table border=\"1\" class=\"dataframe\">\n",
       "  <thead>\n",
       "    <tr style=\"text-align: right;\">\n",
       "      <th></th>\n",
       "      <th>batting_team</th>\n",
       "      <th>over</th>\n",
       "      <th>batsman_runs</th>\n",
       "    </tr>\n",
       "  </thead>\n",
       "  <tbody>\n",
       "    <tr>\n",
       "      <th>0</th>\n",
       "      <td>Chennai Super Kings</td>\n",
       "      <td>1</td>\n",
       "      <td>9</td>\n",
       "    </tr>\n",
       "    <tr>\n",
       "      <th>1</th>\n",
       "      <td>Chennai Super Kings</td>\n",
       "      <td>2</td>\n",
       "      <td>21</td>\n",
       "    </tr>\n",
       "    <tr>\n",
       "      <th>2</th>\n",
       "      <td>Chennai Super Kings</td>\n",
       "      <td>3</td>\n",
       "      <td>49</td>\n",
       "    </tr>\n",
       "    <tr>\n",
       "      <th>3</th>\n",
       "      <td>Chennai Super Kings</td>\n",
       "      <td>4</td>\n",
       "      <td>45</td>\n",
       "    </tr>\n",
       "    <tr>\n",
       "      <th>4</th>\n",
       "      <td>Chennai Super Kings</td>\n",
       "      <td>5</td>\n",
       "      <td>53</td>\n",
       "    </tr>\n",
       "    <tr>\n",
       "      <th>...</th>\n",
       "      <td>...</td>\n",
       "      <td>...</td>\n",
       "      <td>...</td>\n",
       "    </tr>\n",
       "    <tr>\n",
       "      <th>290</th>\n",
       "      <td>Sunrisers Hyderabad</td>\n",
       "      <td>16</td>\n",
       "      <td>31</td>\n",
       "    </tr>\n",
       "    <tr>\n",
       "      <th>291</th>\n",
       "      <td>Sunrisers Hyderabad</td>\n",
       "      <td>17</td>\n",
       "      <td>25</td>\n",
       "    </tr>\n",
       "    <tr>\n",
       "      <th>292</th>\n",
       "      <td>Sunrisers Hyderabad</td>\n",
       "      <td>18</td>\n",
       "      <td>49</td>\n",
       "    </tr>\n",
       "    <tr>\n",
       "      <th>293</th>\n",
       "      <td>Sunrisers Hyderabad</td>\n",
       "      <td>19</td>\n",
       "      <td>58</td>\n",
       "    </tr>\n",
       "    <tr>\n",
       "      <th>294</th>\n",
       "      <td>Sunrisers Hyderabad</td>\n",
       "      <td>20</td>\n",
       "      <td>44</td>\n",
       "    </tr>\n",
       "  </tbody>\n",
       "</table>\n",
       "<p>295 rows × 3 columns</p>\n",
       "</div>"
      ],
      "text/plain": [
       "            batting_team  over  batsman_runs\n",
       "0    Chennai Super Kings     1             9\n",
       "1    Chennai Super Kings     2            21\n",
       "2    Chennai Super Kings     3            49\n",
       "3    Chennai Super Kings     4            45\n",
       "4    Chennai Super Kings     5            53\n",
       "..                   ...   ...           ...\n",
       "290  Sunrisers Hyderabad    16            31\n",
       "291  Sunrisers Hyderabad    17            25\n",
       "292  Sunrisers Hyderabad    18            49\n",
       "293  Sunrisers Hyderabad    19            58\n",
       "294  Sunrisers Hyderabad    20            44\n",
       "\n",
       "[295 rows x 3 columns]"
      ]
     },
     "execution_count": 48,
     "metadata": {},
     "output_type": "execute_result"
    }
   ],
   "source": [
    "sixes_df = deliveries[deliveries['batsman_runs']==6]\n",
    "sixes_df_grp=sixes_df.groupby(['batting_team','over'])['batsman_runs'].count().reset_index()\n",
    "sixes_df_grp"
   ]
  },
  {
   "cell_type": "code",
   "execution_count": 50,
   "id": "a8e85f71-ed70-49be-9ab9-a33f820d63c4",
   "metadata": {},
   "outputs": [
    {
     "data": {
      "text/plain": [
       "'temp-plot.html'"
      ]
     },
     "execution_count": 50,
     "metadata": {},
     "output_type": "execute_result"
    }
   ],
   "source": [
    "#heatmap\n",
    "trace=go.Heatmap(x=sixes_df_grp['batting_team'],y=sixes_df_grp['over'],z=sixes_df_grp['batsman_runs'])\n",
    "data=[trace]\n",
    "\n",
    "layout=go.Layout(title='Six Heatmap')\n",
    "fig=go.Figure(data,layout)\n",
    "pyo.plot(fig)"
   ]
  },
  {
   "cell_type": "code",
   "execution_count": 54,
   "id": "688d0b29-c402-4c67-ba64-18355e716adb",
   "metadata": {},
   "outputs": [
    {
     "name": "stderr",
     "output_type": "stream",
     "text": [
      "/Users/divyanshuchaturvedi/opt/anaconda3/lib/python3.9/site-packages/plotly/tools.py:461: DeprecationWarning:\n",
      "\n",
      "plotly.tools.make_subplots is deprecated, please use plotly.subplots.make_subplots instead\n",
      "\n"
     ]
    },
    {
     "data": {
      "text/plain": [
       "'temp-plot.html'"
      ]
     },
     "execution_count": 54,
     "metadata": {},
     "output_type": "execute_result"
    }
   ],
   "source": [
    "#plot side by side two heatmaps for that we will require tools\n",
    "dots_df = deliveries[deliveries['batsman_runs']==0]\n",
    "dots_df_grp=dots_df.groupby(['batting_team','over'])['batsman_runs'].count().reset_index()\n",
    "\n",
    "from plotly import tools\n",
    "\n",
    "trace1=go.Heatmap(x=sixes_df_grp['batting_team'],y=sixes_df_grp['over'],z=sixes_df_grp['batsman_runs'])\n",
    "trace2=go.Heatmap(x=dots_df_grp['batting_team'],y=dots_df_grp['over'],z=dots_df_grp['batsman_runs'])\n",
    "\n",
    "data=[trace1,trace2]\n",
    "\n",
    "fig=tools.make_subplots(rows=1,cols=2,subplot_titles=['6s','0'],shared_yaxes=True)\n",
    "\n",
    "fig.append_trace(trace1,1,1)\n",
    "fig.append_trace(trace2,1,2)\n",
    "\n",
    "pyo.plot(fig)"
   ]
  }
 ],
 "metadata": {
  "kernelspec": {
   "display_name": "Python [conda env:base] *",
   "language": "python",
   "name": "conda-base-py"
  },
  "language_info": {
   "codemirror_mode": {
    "name": "ipython",
    "version": 3
   },
   "file_extension": ".py",
   "mimetype": "text/x-python",
   "name": "python",
   "nbconvert_exporter": "python",
   "pygments_lexer": "ipython3",
   "version": "3.9.20"
  }
 },
 "nbformat": 4,
 "nbformat_minor": 5
}

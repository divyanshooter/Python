{
 "cells": [
  {
   "cell_type": "code",
   "execution_count": 2,
   "id": "dc1b1c91-0b12-4c6d-98c4-0b0bacf93901",
   "metadata": {},
   "outputs": [],
   "source": [
    "import numpy as np\n",
    "import pandas as pd\n",
    "import plotly.graph_objects as go\n",
    "import plotly.offline as pyo"
   ]
  },
  {
   "cell_type": "code",
   "execution_count": 58,
   "id": "71502189-39a4-435f-9a88-86cec461fcf3",
   "metadata": {},
   "outputs": [
    {
     "data": {
      "text/plain": [
       "Index(['match_id', 'inning', 'batting_team', 'bowling_team', 'over', 'ball',\n",
       "       'batsman', 'non_striker', 'bowler', 'is_super_over', 'wide_runs',\n",
       "       'bye_runs', 'legbye_runs', 'noball_runs', 'penalty_runs',\n",
       "       'batsman_runs', 'extra_runs', 'total_runs', 'player_dismissed',\n",
       "       'dismissal_kind', 'fielder', 'id', 'Season', 'city', 'date', 'team1',\n",
       "       'team2', 'toss_winner', 'toss_decision', 'result', 'dl_applied',\n",
       "       'winner', 'win_by_runs', 'win_by_wickets', 'player_of_match', 'venue',\n",
       "       'umpire1', 'umpire2', 'umpire3'],\n",
       "      dtype='object')"
      ]
     },
     "execution_count": 58,
     "metadata": {},
     "output_type": "execute_result"
    }
   ],
   "source": [
    "#creating dataset\n",
    "matches = pd.read_csv('matches.csv')\n",
    "deliveries = pd.read_csv('deliveries.csv')\n",
    "ipl=deliveries.merge(matches,left_on='match_id',right_on='id')\n",
    "#ipl.head()\n",
    "ipl.columns"
   ]
  },
  {
   "cell_type": "code",
   "execution_count": 24,
   "id": "c58b846d-279d-4620-bf61-3c10fa2d60f3",
   "metadata": {},
   "outputs": [],
   "source": [
    "#Find first 50 run scorer\n",
    "top50_batsman=ipl.groupby('batsman')['batsman_runs'].sum().sort_values(ascending=False).head(50).index.to_list()"
   ]
  },
  {
   "cell_type": "code",
   "execution_count": 78,
   "id": "415fd913-8bc9-4d16-b764-bc0a7d371bf1",
   "metadata": {},
   "outputs": [
    {
     "data": {
      "text/html": [
       "<div>\n",
       "<style scoped>\n",
       "    .dataframe tbody tr th:only-of-type {\n",
       "        vertical-align: middle;\n",
       "    }\n",
       "\n",
       "    .dataframe tbody tr th {\n",
       "        vertical-align: top;\n",
       "    }\n",
       "\n",
       "    .dataframe thead th {\n",
       "        text-align: right;\n",
       "    }\n",
       "</style>\n",
       "<table border=\"1\" class=\"dataframe\">\n",
       "  <thead>\n",
       "    <tr style=\"text-align: right;\">\n",
       "      <th></th>\n",
       "      <th>batsman</th>\n",
       "      <th>sum</th>\n",
       "      <th>count</th>\n",
       "      <th>sr</th>\n",
       "    </tr>\n",
       "  </thead>\n",
       "  <tbody>\n",
       "    <tr>\n",
       "      <th>0</th>\n",
       "      <td>AB de Villiers</td>\n",
       "      <td>4428</td>\n",
       "      <td>2977</td>\n",
       "      <td>148.740343</td>\n",
       "    </tr>\n",
       "    <tr>\n",
       "      <th>1</th>\n",
       "      <td>AC Gilchrist</td>\n",
       "      <td>2069</td>\n",
       "      <td>1555</td>\n",
       "      <td>133.054662</td>\n",
       "    </tr>\n",
       "    <tr>\n",
       "      <th>2</th>\n",
       "      <td>AD Russell</td>\n",
       "      <td>1445</td>\n",
       "      <td>803</td>\n",
       "      <td>179.950187</td>\n",
       "    </tr>\n",
       "    <tr>\n",
       "      <th>3</th>\n",
       "      <td>AJ Finch</td>\n",
       "      <td>1744</td>\n",
       "      <td>1372</td>\n",
       "      <td>127.113703</td>\n",
       "    </tr>\n",
       "    <tr>\n",
       "      <th>4</th>\n",
       "      <td>AM Rahane</td>\n",
       "      <td>3850</td>\n",
       "      <td>3215</td>\n",
       "      <td>119.751166</td>\n",
       "    </tr>\n",
       "  </tbody>\n",
       "</table>\n",
       "</div>"
      ],
      "text/plain": [
       "          batsman   sum  count          sr\n",
       "0  AB de Villiers  4428   2977  148.740343\n",
       "1    AC Gilchrist  2069   1555  133.054662\n",
       "2      AD Russell  1445    803  179.950187\n",
       "3        AJ Finch  1744   1372  127.113703\n",
       "4       AM Rahane  3850   3215  119.751166"
      ]
     },
     "execution_count": 78,
     "metadata": {},
     "output_type": "execute_result"
    }
   ],
   "source": [
    "top50_batman_df= ipl[ipl['batsman'].isin(top50_batsman)]\n",
    "top50_batman_df_grp=top50_batman_df.groupby('batsman')['batsman_runs'].agg(['sum','count'])\n",
    "top50_batman_df_grp['sr']=top50_batman_df_grp['sum']/top50_batman_df_grp['count'] *100\n",
    "top50_batman_df_grp.reset_index(inplace=True)\n",
    "top50_batman_df_grp.head()"
   ]
  },
  {
   "cell_type": "code",
   "execution_count": 94,
   "id": "f3c8cc53-0793-410c-b3fa-2d6f4def2494",
   "metadata": {},
   "outputs": [
    {
     "data": {
      "text/html": [
       "<div>\n",
       "<style scoped>\n",
       "    .dataframe tbody tr th:only-of-type {\n",
       "        vertical-align: middle;\n",
       "    }\n",
       "\n",
       "    .dataframe tbody tr th {\n",
       "        vertical-align: top;\n",
       "    }\n",
       "\n",
       "    .dataframe thead th {\n",
       "        text-align: right;\n",
       "    }\n",
       "</style>\n",
       "<table border=\"1\" class=\"dataframe\">\n",
       "  <thead>\n",
       "    <tr style=\"text-align: right;\">\n",
       "      <th></th>\n",
       "      <th>batsman</th>\n",
       "      <th>sum</th>\n",
       "      <th>count</th>\n",
       "      <th>sr</th>\n",
       "      <th>outs</th>\n",
       "      <th>avg</th>\n",
       "    </tr>\n",
       "  </thead>\n",
       "  <tbody>\n",
       "    <tr>\n",
       "      <th>0</th>\n",
       "      <td>AB de Villiers</td>\n",
       "      <td>4428</td>\n",
       "      <td>2977</td>\n",
       "      <td>148.740343</td>\n",
       "      <td>110</td>\n",
       "      <td>40.254545</td>\n",
       "    </tr>\n",
       "    <tr>\n",
       "      <th>1</th>\n",
       "      <td>AC Gilchrist</td>\n",
       "      <td>2069</td>\n",
       "      <td>1555</td>\n",
       "      <td>133.054662</td>\n",
       "      <td>76</td>\n",
       "      <td>27.223684</td>\n",
       "    </tr>\n",
       "    <tr>\n",
       "      <th>2</th>\n",
       "      <td>AD Russell</td>\n",
       "      <td>1445</td>\n",
       "      <td>803</td>\n",
       "      <td>179.950187</td>\n",
       "      <td>42</td>\n",
       "      <td>34.404762</td>\n",
       "    </tr>\n",
       "    <tr>\n",
       "      <th>3</th>\n",
       "      <td>AJ Finch</td>\n",
       "      <td>1744</td>\n",
       "      <td>1372</td>\n",
       "      <td>127.113703</td>\n",
       "      <td>67</td>\n",
       "      <td>26.029851</td>\n",
       "    </tr>\n",
       "    <tr>\n",
       "      <th>4</th>\n",
       "      <td>AM Rahane</td>\n",
       "      <td>3850</td>\n",
       "      <td>3215</td>\n",
       "      <td>119.751166</td>\n",
       "      <td>116</td>\n",
       "      <td>33.189655</td>\n",
       "    </tr>\n",
       "  </tbody>\n",
       "</table>\n",
       "</div>"
      ],
      "text/plain": [
       "          batsman   sum  count          sr  outs        avg\n",
       "0  AB de Villiers  4428   2977  148.740343   110  40.254545\n",
       "1    AC Gilchrist  2069   1555  133.054662    76  27.223684\n",
       "2      AD Russell  1445    803  179.950187    42  34.404762\n",
       "3        AJ Finch  1744   1372  127.113703    67  26.029851\n",
       "4       AM Rahane  3850   3215  119.751166   116  33.189655"
      ]
     },
     "execution_count": 94,
     "metadata": {},
     "output_type": "execute_result"
    }
   ],
   "source": [
    "top50_outs=ipl[ipl['player_dismissed'].isin(top50_batsman)]['player_dismissed'].value_counts().reset_index()\n",
    "top50_outs.columns=['batsman','outs']\n",
    "top50_sr_avg=top50_batman_df_grp.merge(top50_outs,on='batsman')\n",
    "top50_sr_avg['avg']=top50_sr_avg['sum']/top50_sr_avg['outs']\n",
    "top50_sr_avg.head()\n",
    "\n",
    "\n"
   ]
  },
  {
   "cell_type": "code",
   "execution_count": 100,
   "id": "e271b9a3-172f-4a9b-8d73-c8dd72abbd00",
   "metadata": {},
   "outputs": [
    {
     "data": {
      "text/plain": [
       "'temp-plot.html'"
      ]
     },
     "execution_count": 100,
     "metadata": {},
     "output_type": "execute_result"
    }
   ],
   "source": [
    "# in plotly to create a graph we require figure object.\n",
    "# this figure object takes 2 inputs trace (which is data) and layout(used to set other properties of layout)\n",
    "# trace is a list of data which needs to be plotted on the graph\n",
    "#scatter plot\n",
    "\n",
    "trace1=go.Scatter(x=top50_sr_avg['avg'],y=top50_sr_avg['sr'],mode='markers')\n",
    "data=[trace1]\n",
    "\n",
    "layout=go.Layout(title='Average vs Strike Rate of top 50 Batsman',xaxis={'title':'Average of batsman'},yaxis={'title':'Strike rate'})\n",
    "fig=go.Figure(data,layout)\n",
    "pyo.plot(fig)\n"
   ]
  },
  {
   "cell_type": "code",
   "execution_count": 108,
   "id": "812d6dde-a780-4cdf-a5a7-ec88bb730a75",
   "metadata": {},
   "outputs": [
    {
     "data": {
      "text/plain": [
       "'scatterplot.html'"
      ]
     },
     "execution_count": 108,
     "metadata": {},
     "output_type": "execute_result"
    }
   ],
   "source": [
    "# to show batsman name on hover use text parameter, makrker parameter is used to change size & color of marker\n",
    "# also we can specify the file name in plot function else it will create all file with temp-plot\n",
    "\n",
    "trace1=go.Scatter(x=top50_sr_avg['avg'],y=top50_sr_avg['sr'],mode='markers',text=top50_sr_avg['batsman'],marker={'color':'#00a65a','size':16})\n",
    "data=[trace1]\n",
    "\n",
    "layout=go.Layout(title='Average vs Strike Rate of top 50 Batsman',xaxis={'title':'Average of batsman'},yaxis={'title':'Strike rate'})\n",
    "fig=go.Figure(data,layout)\n",
    "pyo.plot(fig,filename='scatterplot.html')\n"
   ]
  },
  {
   "cell_type": "code",
   "execution_count": null,
   "id": "8bf88000-e173-4754-b58f-10be608824ce",
   "metadata": {},
   "outputs": [],
   "source": []
  }
 ],
 "metadata": {
  "kernelspec": {
   "display_name": "Python [conda env:base] *",
   "language": "python",
   "name": "conda-base-py"
  },
  "language_info": {
   "codemirror_mode": {
    "name": "ipython",
    "version": 3
   },
   "file_extension": ".py",
   "mimetype": "text/x-python",
   "name": "python",
   "nbconvert_exporter": "python",
   "pygments_lexer": "ipython3",
   "version": "3.9.20"
  }
 },
 "nbformat": 4,
 "nbformat_minor": 5
}
